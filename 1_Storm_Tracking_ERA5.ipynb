{
 "cells": [
  {
   "cell_type": "markdown",
   "metadata": {},
   "source": [
    "# Storm tracking in ERA5 data\n",
    "\n",
    "*Author : Frédéric FERRY - Météo-France / Ecole Nationale de la Météorologie (June 2023)*\n",
    "\n",
    "Concepts illustrated here :\n",
    "- Storm tracking from ERA5 data in netcdf format (mean sea level pressure)\n",
    "\n",
    "ERA5 data in netcdf format can be downloaded here:\n",
    "- https://cds.climate.copernicus.eu/cdsapp#!/dataset/reanalysis-era5-single-levels?tab=form"
   ]
  },
  {
   "cell_type": "code",
   "execution_count": 2,
   "metadata": {},
   "outputs": [],
   "source": [
    "import os\n",
    "\n",
    "import xarray as xr\n",
    "import netCDF4\n",
    "import numpy as np\n",
    "import pandas as pd\n",
    "\n",
    "from shapely.geometry import Point\n",
    "\n",
    "from cartopy import config\n",
    "from cartopy.util import add_cyclic_point\n",
    "import cartopy.feature as cfeature\n",
    "import cartopy.crs as ccrs\n",
    "from cartopy.mpl.geoaxes import GeoAxes\n",
    "from cartopy.mpl.ticker import LongitudeFormatter, LatitudeFormatter\n",
    "\n",
    "import matplotlib.pyplot as plt\n",
    "from mpl_toolkits.axes_grid1 import AxesGrid\n",
    "\n",
    "from scipy.ndimage import maximum_filter, minimum_filter\n",
    "\n",
    "import IPython.display as IPdisplay, matplotlib.font_manager as fm\n",
    "from PIL import Image\n",
    "import glob\n",
    "from tqdm import tqdm"
   ]
  },
  {
   "cell_type": "raw",
   "metadata": {},
   "source": [
    "Function for min/max detection and plotting."
   ]
  },
  {
   "cell_type": "code",
   "execution_count": null,
   "metadata": {},
   "outputs": [],
   "source": [
    "def plot_maxmin_points(data, extrema, nsize, symbol, color='k',\n",
    "                       plotValue=True, transform=None):\n",
    "\n",
    "    if (extrema == 'max'):\n",
    "        data_ext = maximum_filter(data, nsize, mode='nearest')\n",
    "    elif (extrema == 'min'):\n",
    "        data_ext = minimum_filter(data, nsize, mode='nearest')\n",
    "    else:\n",
    "        raise ValueError('Value for hilo must be either max or min')\n",
    "\n",
    "    mxy, mxx = np.where(data_ext == data)\n",
    "\n",
    "    for i in range(len(mxy)):\n",
    "        ax.text(data.longitude[mxx[i]].values, data.latitude[mxy[i]].values, symbol, color=color, size=12,\n",
    "                clip_on=True, horizontalalignment='center', verticalalignment='center',\n",
    "                transform=transform)\n",
    "        ax.text(data.longitude[mxx[i]].values, data.latitude[mxy[i]].values,\n",
    "                '\\n' + str(int(data[mxy[i], mxx[i]])),\n",
    "                color=color, size=10, clip_on=True, fontweight='bold',\n",
    "                horizontalalignment='center', verticalalignment='top', transform=transform)\n",
    "\n",
    "def print_maxmin_points(data, extrema, nsize):\n",
    "    if (extrema == 'max'):\n",
    "        data_ext = maximum_filter(data, nsize, mode='nearest')\n",
    "    elif (extrema == 'min'):\n",
    "        data_ext = minimum_filter(data, nsize, mode='nearest')\n",
    "    else:\n",
    "        raise ValueError('Value for hilo must be either max or min')\n",
    "\n",
    "    mxy, mxx = np.where(data_ext == data)\n",
    "\n",
    "    for i in range(len(mxy)):\n",
    "        # Print date lon lat and pressure of the minimum\n",
    "        print(date, data.longitude[mxx[i]].values, data.latitude[mxy[i]].values, int(data[mxy[i], mxx[i]]))"
   ]
  },
  {
   "cell_type": "raw",
   "metadata": {},
   "source": [
    "Function to build animations from png files."
   ]
  },
  {
   "cell_type": "code",
   "execution_count": null,
   "metadata": {},
   "outputs": [],
   "source": [
    "def make_animation(gif_filepath):\n",
    "    from PIL import Image\n",
    "    import os\n",
    "    from IPython.display import Image as IPImage\n",
    "    from IPython.display import display\n",
    "    import time\n",
    "    \n",
    "    image_folder = './anim/'+storm+'/' # répertoire contenant les fichiers PNG\n",
    "    output_file = gif_filepath # nom du fichier de sortie\n",
    "    animation_speed = 0.9 # vitesse de l'animation en secondes\n",
    "    \n",
    "    # Liste tous les fichiers PNG dans le répertoire image_folder\n",
    "    files = sorted(os.listdir(image_folder))\n",
    "    image_files = [f for f in files if f.endswith('.png')]\n",
    "    \n",
    "    # Ouvre chaque fichier PNG et ajoute l'image à une liste\n",
    "    images = []\n",
    "    for filename in image_files:\n",
    "        img = Image.open(os.path.join(image_folder, filename))\n",
    "        images.append(img)\n",
    "    \n",
    "    # Crée l'animation GIF\n",
    "    images[0].save(output_file, save_all=True, append_images=images[1:], duration=int(animation_speed*1000), loop=0)\n",
    "    # Affiche l'animation GIF dans Jupyter\n",
    "    with open(output_file,'rb') as f:\n",
    "        display(IPImage(data=f.read(), format='png'))\n",
    "    # Efface les fichiers PNG\n",
    "    for filename in image_files:\n",
    "        os.remove(image_folder+filename)"
   ]
  },
  {
   "cell_type": "raw",
   "metadata": {},
   "source": [
    "Function for the maps."
   ]
  },
  {
   "cell_type": "code",
   "execution_count": null,
   "metadata": {},
   "outputs": [],
   "source": [
    "projection=ccrs.PlateCarree()\n",
    "\n",
    "def plot_background(ax):\n",
    "    ax.coastlines()\n",
    "    ax.gridlines()\n",
    "    ax.set_xticks(np.linspace(-180, 180, 19), crs=ccrs.PlateCarree())\n",
    "    ax.set_yticks(np.linspace(-90, 90, 19), crs=ccrs.PlateCarree())\n",
    "    lon_formatter = LongitudeFormatter(zero_direction_label=True)\n",
    "    lat_formatter = LatitudeFormatter()\n",
    "    ax.xaxis.set_major_formatter(lon_formatter)\n",
    "    ax.yaxis.set_major_formatter(lat_formatter)\n",
    "    return(ax)             "
   ]
  },
  {
   "cell_type": "markdown",
   "metadata": {},
   "source": [
    "# Open and plot MSLP data"
   ]
  },
  {
   "cell_type": "raw",
   "metadata": {},
   "source": [
    "Directories."
   ]
  },
  {
   "cell_type": "code",
   "execution_count": null,
   "metadata": {},
   "outputs": [],
   "source": [
    "storm='Zorbas'\n",
    "dir_data=\"./data/\"+storm+'/'\n",
    "    \n",
    "if not os.path.exists('./anim/'+storm):\n",
    "    os.mkdir('./anim/'+storm)\n",
    "\n",
    "if not os.path.exists('./figs/'+storm):\n",
    "    os.mkdir('./figs/'+storm)\n",
    "\n",
    "if not os.path.exists('./figs/'+storm):\n",
    "    os.mkdir('./figs/'+storm)\n",
    "\n",
    "dir_anim='./anim/'+storm+'/'"
   ]
  },
  {
   "cell_type": "raw",
   "metadata": {},
   "source": [
    "Open MSLP data."
   ]
  },
  {
   "cell_type": "code",
   "execution_count": null,
   "metadata": {},
   "outputs": [],
   "source": [
    "msl_era    = xr.open_dataset(dir_data+\"msl.nc\")\n",
    "print(msl_era)"
   ]
  },
  {
   "cell_type": "raw",
   "metadata": {},
   "source": [
    "Choose subdomain and a specific period."
   ]
  },
  {
   "cell_type": "markdown",
   "metadata": {},
   "source": [
    "<div class=\"alert alert-danger\">\n",
    "<p><b>1) Reduce the available data to September 27th 00UTC - September 30th 18UTC (the date format must be 'YYYY-MM-DDTXX').</b></p>\n",
    "<p><b>2) Reduce the geographical domain to 25N-70N 70W-35E (the lat/lon must be numbers).</b></p>\n",
    "\n",
    "</div>"
   ]
  },
  {
   "cell_type": "code",
   "execution_count": null,
   "metadata": {},
   "outputs": [],
   "source": [
    "date1=''\n",
    "date2=''\n",
    "\n",
    "latS=\n",
    "latN=\n",
    "lonW=\n",
    "lonE="
   ]
  },
  {
   "cell_type": "raw",
   "metadata": {},
   "source": [
    "Open MSLP data over the reduced domain and for the desired period."
   ]
  },
  {
   "cell_type": "code",
   "execution_count": null,
   "metadata": {},
   "outputs": [],
   "source": [
    "msl_era    = xr.open_dataset(dir_data+\"msl.nc\").sel(\n",
    "    time=slice(date1,date2)).sel(\n",
    "    latitude=slice(latN,latS)).sel(\n",
    "    longitude=slice(lonW,lonE))\n",
    "\n",
    "print(msl_era)"
   ]
  },
  {
   "cell_type": "raw",
   "metadata": {},
   "source": [
    "Extract data array."
   ]
  },
  {
   "cell_type": "code",
   "execution_count": null,
   "metadata": {},
   "outputs": [],
   "source": [
    "mslp = msl_era['msl']/100\n",
    "lat  = mslp.latitude.values\n",
    "time  = mslp.time.values\n",
    "lon  = mslp.longitude.values\n",
    "\n",
    "print(mslp.shape)"
   ]
  },
  {
   "cell_type": "raw",
   "metadata": {},
   "source": [
    "Create MSLP maps with minima detection."
   ]
  },
  {
   "cell_type": "code",
   "execution_count": null,
   "metadata": {
    "scrolled": false
   },
   "outputs": [],
   "source": [
    "mslp_levels = np.arange(970,1042,2)\n",
    "\n",
    "for i in tqdm(range(len(time))):\n",
    "    #print(str(time[i])[0:13])\n",
    "    fig = plt.figure(figsize=(15., 10.))\n",
    "\n",
    "    ax = fig.add_subplot(1, 1, 1, projection=projection)\n",
    "    ax.set_title('MSLP : '+str(time[i])[0:13],loc='center',fontsize=14)\n",
    "    plot_background(ax)\n",
    "    \n",
    "    # MSLP in contours and min max\n",
    "    c1 = ax.contour(lon, lat, mslp[i,:,:], levels=mslp_levels, colors=\"grey\", linewidths=1, transform=ccrs.PlateCarree())\n",
    "    #ax.clabel(c1,fmt='%4.1i',fontsize=10)\n",
    "    cf = ax.contourf(lon, lat, mslp[i,:,:], levels=mslp_levels, cmap='jet', extend='both', transform=ccrs.PlateCarree())\n",
    "    cb = fig.colorbar(cf, orientation='horizontal', aspect=65, shrink=0.5, pad=0.1)\n",
    "    plot_maxmin_points(mslp[i,:,:], 'min', 25,\n",
    "                       symbol='L', color='b', transform=ccrs.PlateCarree())    \n",
    "    figname='./anim/'+storm+'/MSL_'+str(time[i])[0:13]\n",
    "    fig.savefig(figname+'.png',bbox_inches='tight')\n",
    "    plt.close()"
   ]
  },
  {
   "cell_type": "raw",
   "metadata": {},
   "source": [
    "Create animation."
   ]
  },
  {
   "cell_type": "code",
   "execution_count": null,
   "metadata": {},
   "outputs": [],
   "source": [
    "gif_filepath = './anim/'+storm+'/MSL.gif'\n",
    "make_animation(gif_filepath)"
   ]
  },
  {
   "cell_type": "markdown",
   "metadata": {},
   "source": [
    "<div class=\"alert alert-warning\">\n",
    "<b>Questions : </b>\n",
    "<p><b>1) </b>Locate tropical cyclone Leslie over the Atlantic. Is the system strengtening or weakening ? </p>\n",
    "<p><b>2) </b>Locate medicane Zorbas between Lybia and Greece and indicate its initation time.</p>\n",
    "</div>"
   ]
  },
  {
   "cell_type": "markdown",
   "metadata": {},
   "source": [
    "<div class=\"alert alert-success\">\n",
    "<b> </b>\n",
    "</div>"
   ]
  },
  {
   "cell_type": "markdown",
   "metadata": {},
   "source": [
    "# Tracking medicane Zorbas"
   ]
  },
  {
   "cell_type": "markdown",
   "metadata": {},
   "source": [
    "<div class=\"alert alert-danger\">\n",
    "<p><b>Choose the tracking period of the medicane (the date format must be 'YYYY-MM-DDTXX')</b></p>\n",
    "</div>"
   ]
  },
  {
   "cell_type": "raw",
   "metadata": {},
   "source": [
    "Choose the tracking period of the medicane."
   ]
  },
  {
   "cell_type": "code",
   "execution_count": null,
   "metadata": {},
   "outputs": [],
   "source": [
    "date1=''\n",
    "date2=''"
   ]
  },
  {
   "cell_type": "raw",
   "metadata": {},
   "source": [
    "Open MSLP data."
   ]
  },
  {
   "cell_type": "code",
   "execution_count": null,
   "metadata": {},
   "outputs": [],
   "source": [
    "msl_era    = xr.open_dataset(dir_data+\"msl.nc\").sel(\n",
    "    time=slice(date1,date2)).sel(\n",
    "    latitude=slice(latN,latS)).sel(\n",
    "    longitude=slice(lonW,lonE))\n",
    "\n",
    "print(msl_era)"
   ]
  },
  {
   "cell_type": "raw",
   "metadata": {},
   "source": [
    "Extract data array."
   ]
  },
  {
   "cell_type": "code",
   "execution_count": null,
   "metadata": {},
   "outputs": [],
   "source": [
    "mslp = msl_era['msl']/100\n",
    "lat  = mslp.latitude.values\n",
    "time  = mslp.time.values\n",
    "lon  = mslp.longitude.values\n",
    "\n",
    "print(mslp.shape)"
   ]
  },
  {
   "cell_type": "raw",
   "metadata": {},
   "source": [
    "For all timesteps, find all MSLP minima over domain and store in txt file."
   ]
  },
  {
   "cell_type": "code",
   "execution_count": null,
   "metadata": {
    "scrolled": false
   },
   "outputs": [],
   "source": [
    "%%capture cap --no-stderr\n",
    "for i in range(len(time)):\n",
    "    date=str(time[i])[0:13]   \n",
    "    print_maxmin_points(mslp[i,:,:], 'min', 25)"
   ]
  },
  {
   "cell_type": "code",
   "execution_count": null,
   "metadata": {},
   "outputs": [],
   "source": [
    "file_era = './txt/era5_tracking.txt'\n",
    "with open(file_era, 'w') as f:\n",
    "    f.write(cap.stdout)\n",
    "f.close()"
   ]
  },
  {
   "cell_type": "raw",
   "metadata": {},
   "source": [
    "Automatic tracking function (using shapely)."
   ]
  },
  {
   "cell_type": "code",
   "execution_count": null,
   "metadata": {},
   "outputs": [],
   "source": [
    "def tracking(file): \n",
    "    df = pd.read_csv(file,sep=\" \",header=None)\n",
    "    liste_date =  np.unique(df[0].values)\n",
    "    # We will track lows that are present at initial time\n",
    "    ds = df.to_xarray()\n",
    "    original_position = ds.sel(index= ds[0] == liste_date[0])\n",
    "    # Build individual tracking for each detected low\n",
    "    traj = []\n",
    "    for ind in original_position.index.values: # Boucle sur les depressions à t=0\n",
    "        position = Point(original_position.sel(index=ind)[1],original_position.sel(index=ind)[2])\n",
    "        dep_traj = []\n",
    "        dep_traj.append((\n",
    "            original_position.sel(index=ind)[1].values,\n",
    "            original_position.sel(index=ind)[2].values,\n",
    "            original_position.sel(index=ind)[0].values,\n",
    "            original_position.sel(index=ind)[3].values, \n",
    "            ))\n",
    "        for date in liste_date[1:]: # Loop for all timesteps\n",
    "            temp = ds.sel(index= ds[0] == date)\n",
    "            l_area = []\n",
    "            for other_idx in temp.index.values: \n",
    "                oth_pos = Point(temp.sel(index=other_idx)[1],temp.sel(index=other_idx)[2])\n",
    "                l_area.append(position.buffer(1).intersection(oth_pos.buffer(1)).area) \n",
    "                # Finding intersection between two circles of 1°. \n",
    "            if np.max(l_area)>0.001: # Compare areas\n",
    "                elt = np.argmax(l_area)\n",
    "                n_position=Point(temp.isel(index=elt)[1],temp.isel(index=elt)[2])\n",
    "                dep_traj.append([\n",
    "                    temp.isel(index=elt)[1].values,\n",
    "                    temp.isel(index=elt)[2].values,\n",
    "                    temp.isel(index=elt)[0].values,\n",
    "                    temp.isel(index=elt)[3].values] )\n",
    "                position = n_position\n",
    "            else: \n",
    "                break\n",
    "        traj.append(dep_traj)\n",
    "    return traj"
   ]
  },
  {
   "cell_type": "raw",
   "metadata": {},
   "source": [
    "Build tracks from detected lows stored in txt file."
   ]
  },
  {
   "cell_type": "code",
   "execution_count": null,
   "metadata": {
    "scrolled": false
   },
   "outputs": [],
   "source": [
    "tracking_era = tracking(file_era)\n",
    "print(\"Number of tracked lows : \", len(tracking_era))"
   ]
  },
  {
   "cell_type": "markdown",
   "metadata": {},
   "source": [
    "<div class=\"alert alert-danger\">\n",
    "<p><b>Select the approximate lon/lat of the medicane at the initial time.</b></p>\n",
    "</div>"
   ]
  },
  {
   "cell_type": "raw",
   "metadata": {
    "scrolled": false
   },
   "source": [
    "Approximate initial lon/lat to find the desired low."
   ]
  },
  {
   "cell_type": "code",
   "execution_count": null,
   "metadata": {
    "scrolled": false
   },
   "outputs": [],
   "source": [
    "lon_init = \n",
    "lat_init = "
   ]
  },
  {
   "cell_type": "raw",
   "metadata": {},
   "source": [
    "Check lon/lat selection."
   ]
  },
  {
   "cell_type": "code",
   "execution_count": null,
   "metadata": {
    "scrolled": false
   },
   "outputs": [],
   "source": [
    "fig = plt.figure(figsize=(15., 10.))\n",
    "\n",
    "ax = fig.add_subplot(1, 1, 1, projection=projection)\n",
    "ax.set_title('MSLP : '+str(date1),loc='center',fontsize=14)\n",
    "plot_background(ax)\n",
    "ax.set_extent([5, 35, 30, 45])\n",
    "# MSLP in contours and min max\n",
    "c1 = ax.contour(lon, lat, mslp[0,:,:], levels=mslp_levels, colors=\"black\", linewidths=1, transform=ccrs.PlateCarree())\n",
    "ax.clabel(c1,fmt='%4.1i',fontsize=10)\n",
    "plot_maxmin_points(mslp[0,:,:], 'min', 25, symbol='L', color='b', transform=ccrs.PlateCarree())\n",
    "ax.scatter(lon_init,lat_init, c='green', transform=ccrs.PlateCarree())\n",
    "plt.show()"
   ]
  },
  {
   "cell_type": "raw",
   "metadata": {
    "scrolled": false
   },
   "source": [
    "Function to look for the index of the desired low in the tracking file."
   ]
  },
  {
   "cell_type": "code",
   "execution_count": null,
   "metadata": {
    "scrolled": false
   },
   "outputs": [],
   "source": [
    "def selection(lon_init,lat_init,tracking): \n",
    "    dist_min = 1000\n",
    "    ind= -1\n",
    "    for dep in range(len(tracking)): \n",
    "        dist = (tracking[dep][0][0] - lon_init)**2+(tracking[dep][0][1] - lat_init)**2\n",
    "        if dist < dist_min: \n",
    "            dist_min = dist \n",
    "            ind = dep \n",
    "    return ind"
   ]
  },
  {
   "cell_type": "raw",
   "metadata": {
    "scrolled": false
   },
   "source": [
    "Find the desired low in the analysis and forecast tracking files."
   ]
  },
  {
   "cell_type": "code",
   "execution_count": null,
   "metadata": {
    "scrolled": false
   },
   "outputs": [],
   "source": [
    "ind_era = selection(lon_init,lat_init,tracking_era)\n",
    "print(tracking_era[ind_era])\n",
    "print(len(tracking_era[ind_era]))"
   ]
  },
  {
   "cell_type": "raw",
   "metadata": {
    "scrolled": false
   },
   "source": [
    "Function to build the lon/lat/time/pres lists for the lows."
   ]
  },
  {
   "cell_type": "code",
   "execution_count": null,
   "metadata": {
    "scrolled": false
   },
   "outputs": [],
   "source": [
    "def get_list(low): \n",
    "    list_lat = []\n",
    "    list_lon = []\n",
    "    list_time = []\n",
    "    list_pres = []\n",
    "    for i in range(len(low)):\n",
    "        list_lon.append(low[i][0])\n",
    "        list_lat.append(low[i][1])\n",
    "        list_time.append(low[i][2])\n",
    "        list_pres.append(low[i][3])\n",
    "    return list_lon, list_lat, list_time, list_pres"
   ]
  },
  {
   "cell_type": "raw",
   "metadata": {
    "scrolled": false
   },
   "source": [
    "Build the lon/lat/time/pres lists for the selected low."
   ]
  },
  {
   "cell_type": "code",
   "execution_count": null,
   "metadata": {
    "scrolled": false
   },
   "outputs": [],
   "source": [
    "if ind_era >=0:\n",
    "    liste_lon, liste_lat, liste_time, liste_pres = get_list(tracking_era[ind_era])\n",
    "    list_time = [str(x) for x in liste_time]"
   ]
  },
  {
   "cell_type": "raw",
   "metadata": {
    "scrolled": false
   },
   "source": [
    "Save storm tracking in file (needed for CPS diagram)."
   ]
  },
  {
   "cell_type": "code",
   "execution_count": null,
   "metadata": {
    "scrolled": false
   },
   "outputs": [],
   "source": [
    "file_storm = './txt/Zorbas.txt'\n",
    "file=open(file_storm, \"w+\")\n",
    "for i in range(len(tracking_era[ind_era])):\n",
    "    file.write(str(liste_time[i]))\n",
    "    file.write(' ')\n",
    "    file.write(str(liste_lon[i]))\n",
    "    file.write(' ')\n",
    "    file.write(str(liste_lat[i]))\n",
    "    file.write(' ')\n",
    "    file.write(str(liste_pres[i]))\n",
    "    file.write(\"\\n\")\n",
    "file.close()"
   ]
  },
  {
   "cell_type": "raw",
   "metadata": {
    "scrolled": false
   },
   "source": [
    "Create maps of the MSLP evolution + tracking."
   ]
  },
  {
   "cell_type": "code",
   "execution_count": null,
   "metadata": {
    "scrolled": false
   },
   "outputs": [],
   "source": [
    "for i in tqdm(range(len(tracking_era[ind_era]))):\n",
    "    #print(str(tracking_era[ind_era][i][2])[0:13])\n",
    "    fig = plt.figure(figsize=(15., 10.))\n",
    "\n",
    "    ax = fig.add_subplot(1, 1, 1, projection=projection)\n",
    "    ax.set_title('MSLP : '+str(tracking_era[ind_era][i][2])[0:13],loc='center',fontsize=14)\n",
    "    plot_background(ax)\n",
    "    ax.set_extent([5, 35, 30, 45])\n",
    "    \n",
    "    # MSLP in contours and min max\n",
    "    c1 = ax.contour(lon, lat, mslp[i,:,:], levels=mslp_levels, colors=\"black\", linewidths=1, transform=ccrs.PlateCarree())\n",
    "    ax.clabel(c1,fmt='%4.1i',fontsize=10)\n",
    "    plot_maxmin_points(mslp[i,:,:], 'min', 25,\n",
    "                       symbol='L', color='b', transform=ccrs.PlateCarree()) \n",
    "    # Track from lat/lon in txt file\n",
    "    ax.scatter(tracking_era[ind_era][i][0],tracking_era[ind_era][i][1], c='green', transform=ccrs.PlateCarree())\n",
    "    ax.plot(liste_lon[0:i+1],liste_lat[0:i+1], c='red', marker='+', transform=ccrs.PlateCarree())\n",
    "    \n",
    "    figname='./anim/'+storm+'/MSL_tracking_'+str(time[i])[0:13]\n",
    "    fig.savefig(figname+'.png',bbox_inches='tight')\n",
    "    plt.close()"
   ]
  },
  {
   "cell_type": "raw",
   "metadata": {},
   "source": [
    "Create animation."
   ]
  },
  {
   "cell_type": "code",
   "execution_count": null,
   "metadata": {},
   "outputs": [],
   "source": [
    "gif_filepath = './anim/'+storm+'/MSL_tracking.gif'\n",
    "make_animation(gif_filepath)"
   ]
  },
  {
   "cell_type": "markdown",
   "metadata": {},
   "source": [
    "<div class=\"alert alert-warning\">\n",
    "<b>Questions : </b>\n",
    "<p><b>1) </b>Does the automatic tracking method successfully track medicane Zorbas ?</p>\n",
    "<p><b>2) </b>Describe the track of medicane Zorbas.</p>\n",
    "</div>"
   ]
  },
  {
   "cell_type": "markdown",
   "metadata": {},
   "source": [
    "<div class=\"alert alert-success\">\n",
    "<b>Answer </b>\n",
    "</div>"
   ]
  },
  {
   "cell_type": "markdown",
   "metadata": {},
   "source": [
    "<div class=\"alert alert-danger\">\n",
    "<p><b>1) Plot a map of the full track of the system with a 6-hourly timestep.</b></p>\n",
    "<p><b>2) Plot a curve of the MSLP evolution of the system with a 6-hourly timestep.</b></p>\n",
    "</div>"
   ]
  },
  {
   "cell_type": "raw",
   "metadata": {},
   "source": [
    "Plot a map of tracking and the MSLP evolution."
   ]
  },
  {
   "cell_type": "code",
   "execution_count": null,
   "metadata": {},
   "outputs": [],
   "source": []
  },
  {
   "cell_type": "code",
   "execution_count": null,
   "metadata": {},
   "outputs": [],
   "source": []
  },
  {
   "cell_type": "markdown",
   "metadata": {},
   "source": [
    "# Extra Task : track Huricane Leslie over the Atlantic"
   ]
  },
  {
   "cell_type": "markdown",
   "metadata": {},
   "source": [
    "<div class=\"alert alert-danger\">\n",
    "\n",
    "<p><b>1) Extract MSLP data from September 24th 00UTC to October 10th 18UTC with a 6-hourly timestep (80 values).</b></p>\n",
    "\n",
    "<p><b>2) Track Huricane Leslie in the extracted MSLP data and create a Leslie.txt tracking file (time/lon/lat/pres) in the ./txt folder.</b></p>\n",
    "\n",
    "<p><b>3) Verify your tracking with animations or maps.</b></p>\n",
    "\n",
    "<br>\n",
    "\n",
    "    \n",
    "<p><b>Hint 1 : the pandas date_range function may be useful https://pandas.pydata.org/docs/reference/api/pandas.date_range.html.</b></p>\n",
    "<p><b>Hint 2 : you will have to change position.buffer(1) to position.buffer(6) in the automatic tracking function.</b></p>\n",
    "\n",
    "\n",
    "</div>"
   ]
  }
 ],
 "metadata": {
  "kernelspec": {
   "display_name": "Python 3",
   "language": "python",
   "name": "python3"
  },
  "language_info": {
   "codemirror_mode": {
    "name": "ipython",
    "version": 3
   },
   "file_extension": ".py",
   "mimetype": "text/x-python",
   "name": "python",
   "nbconvert_exporter": "python",
   "pygments_lexer": "ipython3",
   "version": "3.7.11"
  }
 },
 "nbformat": 4,
 "nbformat_minor": 1
}
