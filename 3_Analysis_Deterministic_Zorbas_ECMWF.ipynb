{
 "cells": [
  {
   "cell_type": "markdown",
   "metadata": {},
   "source": [
    "# Medicane Zorbas (september 2018) : ECMWF analysis and deterministic forecast\n",
    "\n",
    "*Author : Frédéric FERRY - Météo-France / Ecole Nationale de la Météorologie (June 2023)*\n",
    "\n",
    "Python concepts :\n",
    "- Open netcdf files (xarray)\n",
    "- Compute equivalent potential temperature (metpy)\n",
    "- Create maps and animations (matplotlib, cartopy)"
   ]
  },
  {
   "cell_type": "code",
   "execution_count": null,
   "metadata": {},
   "outputs": [],
   "source": [
    "import os\n",
    "\n",
    "import xarray as xr\n",
    "import numpy as np\n",
    "import pandas as pd\n",
    "\n",
    "from shapely.geometry import Point\n",
    "\n",
    "import metpy.calc as mpcalc\n",
    "from metpy.units import units\n",
    "\n",
    "from scipy.ndimage import gaussian_filter\n",
    "from scipy.ndimage import maximum_filter, minimum_filter\n",
    "\n",
    "import matplotlib as mpl\n",
    "import matplotlib.pyplot as plt\n",
    "from mpl_toolkits.axes_grid1 import AxesGrid\n",
    "\n",
    "from cartopy import config\n",
    "import cartopy.crs as ccrs\n",
    "from cartopy.mpl.geoaxes import GeoAxes\n",
    "from cartopy.mpl.ticker import LongitudeFormatter, LatitudeFormatter\n",
    "import cartopy.feature as cfeature\n",
    "\n",
    "import IPython.display as IPdisplay, matplotlib.font_manager as fm\n",
    "from PIL import Image\n",
    "import glob\n",
    "from tqdm import tqdm"
   ]
  },
  {
   "cell_type": "raw",
   "metadata": {},
   "source": [
    "Function for the animations."
   ]
  },
  {
   "cell_type": "code",
   "execution_count": null,
   "metadata": {},
   "outputs": [],
   "source": [
    "def make_animation(gif_filepath):\n",
    "    from PIL import Image\n",
    "    import os\n",
    "    from IPython.display import Image as IPImage\n",
    "    from IPython.display import display\n",
    "    import time\n",
    "    \n",
    "    image_folder = './anim/' # répertoire contenant les fichiers PNG\n",
    "    output_file = gif_filepath # nom du fichier de sortie\n",
    "    animation_speed = 0.9 # vitesse de l'animation en secondes\n",
    "    \n",
    "    # Liste tous les fichiers PNG dans le répertoire image_folder\n",
    "    files = sorted(os.listdir(image_folder))\n",
    "    image_files = [f for f in files if f.endswith('.png')]\n",
    "    \n",
    "    # Ouvre chaque fichier PNG et ajoute l'image à une liste\n",
    "    images = []\n",
    "    for filename in image_files:\n",
    "        img = Image.open(os.path.join(image_folder, filename))\n",
    "        images.append(img)\n",
    "    \n",
    "    # Crée l'animation GIF\n",
    "    images[0].save(output_file, save_all=True, append_images=images[1:], duration=int(animation_speed*1000), loop=0)\n",
    "    # Affiche l'animation GIF dans Jupyter\n",
    "    with open(output_file,'rb') as f:\n",
    "        display(IPImage(data=f.read(), format='png'))\n",
    "    # Efface les fichiers PNG\n",
    "    for filename in image_files:\n",
    "        os.remove(image_folder+filename)"
   ]
  },
  {
   "cell_type": "raw",
   "metadata": {},
   "source": [
    "Function for the map plots."
   ]
  },
  {
   "cell_type": "code",
   "execution_count": null,
   "metadata": {},
   "outputs": [],
   "source": [
    "projection=ccrs.PlateCarree()\n",
    "\n",
    "def plot_background(ax):\n",
    "    ax.coastlines()\n",
    "    ax.gridlines()\n",
    "    ax.set_xticks(np.linspace(-180, 180, 37), crs=ccrs.PlateCarree())\n",
    "    ax.set_yticks(np.linspace(-90, 90, 37), crs=ccrs.PlateCarree())\n",
    "    lon_formatter = LongitudeFormatter(zero_direction_label=True)\n",
    "    lat_formatter = LatitudeFormatter()\n",
    "    ax.xaxis.set_major_formatter(lon_formatter)\n",
    "    ax.yaxis.set_major_formatter(lat_formatter)\n",
    "    return(ax)"
   ]
  },
  {
   "cell_type": "raw",
   "metadata": {},
   "source": [
    "Function for min/max detection."
   ]
  },
  {
   "cell_type": "code",
   "execution_count": null,
   "metadata": {},
   "outputs": [],
   "source": [
    "def plot_maxmin_points(data, extrema, nsize, symbol, color='k',\n",
    "                       plotValue=True, transform=None):\n",
    "\n",
    "    if (extrema == 'max'):\n",
    "        data_ext = maximum_filter(data, nsize, mode='nearest')\n",
    "    elif (extrema == 'min'):\n",
    "        data_ext = minimum_filter(data, nsize, mode='nearest')\n",
    "    else:\n",
    "        raise ValueError('Value for hilo must be either max or min')\n",
    "\n",
    "    mxy, mxx = np.where(data_ext == data)\n",
    "\n",
    "    for i in range(len(mxy)):\n",
    "        ax.text(data.longitude[mxx[i]].values, data.latitude[mxy[i]].values, symbol, color=color, size=12,\n",
    "                clip_on=True, horizontalalignment='center', verticalalignment='center',\n",
    "                transform=transform)\n",
    "        ax.text(data.longitude[mxx[i]].values, data.latitude[mxy[i]].values,\n",
    "                '\\n' + str(int(data[mxy[i], mxx[i]])),\n",
    "                color=color, size=10, clip_on=True, fontweight='bold',\n",
    "                horizontalalignment='center', verticalalignment='top', transform=transform)\n",
    "\n",
    "def print_maxmin_points(data, extrema, nsize):\n",
    "    if (extrema == 'max'):\n",
    "        data_ext = maximum_filter(data, nsize, mode='nearest')\n",
    "    elif (extrema == 'min'):\n",
    "        data_ext = minimum_filter(data, nsize, mode='nearest')\n",
    "    else:\n",
    "        raise ValueError('Value for hilo must be either max or min')\n",
    "\n",
    "    mxy, mxx = np.where(data_ext == data)\n",
    "\n",
    "    for i in range(len(mxy)):\n",
    "        # Print date lon lat and pressure of the minimum\n",
    "        print(date, data.longitude[mxx[i]].values, data.latitude[mxy[i]].values, int(data[mxy[i], mxx[i]]))"
   ]
  },
  {
   "cell_type": "markdown",
   "metadata": {},
   "source": [
    "# Part 1 : ECMWF analysis (2018-09-24T00 to 2018-09-30T12)"
   ]
  },
  {
   "cell_type": "raw",
   "metadata": {},
   "source": [
    "Open ECMWF data."
   ]
  },
  {
   "cell_type": "code",
   "execution_count": null,
   "metadata": {
    "scrolled": false
   },
   "outputs": [],
   "source": [
    "Ana_Z500 = './data/Z500_September2018_HiRes.nc'\n",
    "Ana_T500 = './data/T500_September2018_HiRes.nc'\n",
    "Ana_MSLP = './data/MSLP_September2018_HiRes.nc'\n",
    "Ana_PV320 = './data/PV320_September2018_HiRes.nc'\n",
    "Ana_qT850 = './data/qT850_September2018_HiRes.nc'\n",
    "\n",
    "data_z    = xr.open_dataset(Ana_Z500)\n",
    "data_t500    = xr.open_dataset(Ana_T500)\n",
    "data_mslp   = xr.open_dataset(Ana_MSLP)\n",
    "data_pv   = xr.open_dataset(Ana_MSLP)\n",
    "data_qT   = xr.open_dataset(Ana_qT850)\n",
    "\n",
    "print(data_z)\n",
    "print(data_z.time.values)"
   ]
  },
  {
   "cell_type": "markdown",
   "metadata": {},
   "source": [
    "<div class=\"alert alert-warning\">\n",
    "<b>Questions : </b>\n",
    "<p><b>1) </b>What is the temporal resolution of the available ECMWF analysis data ?</p>\n",
    "</div>"
   ]
  },
  {
   "cell_type": "markdown",
   "metadata": {},
   "source": [
    "<div class=\"alert alert-success\">\n",
    "<b>Answer </b>\n",
    "</div>"
   ]
  },
  {
   "cell_type": "raw",
   "metadata": {},
   "source": [
    "Open data for a specific time slice."
   ]
  },
  {
   "cell_type": "code",
   "execution_count": null,
   "metadata": {
    "scrolled": false
   },
   "outputs": [],
   "source": [
    "t0 ='2018-09-24T00'\n",
    "t1 ='2018-09-30T12'\n",
    "\n",
    "data_z    = xr.open_dataset(Ana_Z500).sel(time=slice(t0,t1))\n",
    "data_t500    = xr.open_dataset(Ana_T500).sel(time=slice(t0,t1))\n",
    "data_mslp   = xr.open_dataset(Ana_MSLP).sel(time=slice(t0,t1))\n",
    "data_pv   = xr.open_dataset(Ana_PV320).sel(time=slice(t0,t1))\n",
    "data_qT   = xr.open_dataset(Ana_qT850).sel(time=slice(t0,t1))\n",
    "\n",
    "print(data_z)"
   ]
  },
  {
   "cell_type": "raw",
   "metadata": {},
   "source": [
    "Extract data arrays (z500, t500, MSLP, PV320K, q850, t850) and define lat/lon/time dimensions."
   ]
  },
  {
   "cell_type": "code",
   "execution_count": null,
   "metadata": {
    "scrolled": false
   },
   "outputs": [],
   "source": [
    "z_ana = data_z['z']/9.81\n",
    "t500_ana = data_t500['t']-273.15\n",
    "mslp_ana = data_mslp['msl']/100\n",
    "pv_ana = data_pv['pv']*1e6\n",
    "q_ana = data_qT['q']\n",
    "T_ana = data_qT['t']\n",
    "\n",
    "lats = z_ana.latitude.values\n",
    "lons = z_ana.longitude.values\n",
    "\n",
    "time = z_ana.time.values\n",
    "times_str=[x for x in range(len(time))]\n",
    "dates_str=[x for x in range(len(time))]\n",
    "for i in range(len(time)):\n",
    "\ttimes_str[i] = str(time[i])\n",
    "\tdates_str[i] = times_str[i][0:13]\n",
    "print(dates_str)"
   ]
  },
  {
   "cell_type": "raw",
   "metadata": {},
   "source": [
    "Compute dewpoint temperature at 850hPa from T and q. Compute equivalent potential temperature at 850hPa  from T and Td (metpy functions).\n",
    "The equivalent potential temperature is the temperature a parcel of air would reach if all the water vapor in the parcel were to condense, releasing its latent heat, and the parcel was brought adiabatically to a standard reference pressure of 1000hPa."
   ]
  },
  {
   "cell_type": "code",
   "execution_count": null,
   "metadata": {
    "scrolled": false
   },
   "outputs": [],
   "source": [
    "Td = mpcalc.dewpoint_from_specific_humidity(850* units.hPa, T_ana.values* units.kelvin, q_ana.values* units('kg/kg'))\n",
    "Thetae_ana=mpcalc.equivalent_potential_temperature(850* units.hPa, T_ana, Td)\n",
    "print(Thetae_ana.shape)\n",
    "print(np.min(Thetae_ana))\n",
    "print(np.max(Thetae_ana))"
   ]
  },
  {
   "cell_type": "raw",
   "metadata": {},
   "source": [
    "Create maps (whole domain)."
   ]
  },
  {
   "cell_type": "code",
   "execution_count": null,
   "metadata": {
    "scrolled": false
   },
   "outputs": [],
   "source": [
    "cmap='jet'\n",
    "clevs1 = np.linspace(5500, 6000, 21)\n",
    "clevs2 = np.arange(994, 1040, 2)\n",
    "clevs3 = np.linspace(1, 12, 21)\n",
    "clevs4 = np.arange(270,345,5)\n",
    "clevs5=np.arange(-30,2.5,2.5)\n",
    "\n",
    "for i in tqdm(range(len(time))):\n",
    "    \n",
    "    #print(dates_str[i])\n",
    "\n",
    "    fig = plt.figure(figsize=(10, 5))\n",
    "    fig.suptitle('Analysis : '+dates_str[i], fontsize=14)\n",
    "    \n",
    "    ax = fig.add_subplot(111, projection=ccrs.PlateCarree())\n",
    "    plt.title('MSLP and $\\Theta_E$ at 850 hPa', fontsize=10, loc='center')\n",
    "    plot_background(ax)\n",
    "    cf = ax.contourf(lons, lats, Thetae_ana[i,:,:], levels=clevs4, cmap=cmap, extend='both',transform=ccrs.PlateCarree())\n",
    "    c = ax.contour(lons, lats, mslp_ana[i,:,:], levels=clevs2, colors='black', linewidths=0.5,transform=ccrs.PlateCarree())\n",
    "    ax.clabel(c, fmt='%4.1i', fontsize=10)\n",
    "    cb = fig.colorbar(cf, orientation='horizontal', aspect=65, shrink=1, pad=0.1, extendrect='True')\n",
    "    cb.set_label('K', fontsize=12)\n",
    "    \n",
    "    plt.close()\n",
    "    figname='./anim/MSLP_Thetae850_'+dates_str[i]\n",
    "    fig.savefig(figname+'.png',bbox_inches='tight')"
   ]
  },
  {
   "cell_type": "raw",
   "metadata": {},
   "source": [
    "Animation."
   ]
  },
  {
   "cell_type": "code",
   "execution_count": null,
   "metadata": {
    "scrolled": false
   },
   "outputs": [],
   "source": [
    "gif_filepath = './anim/MSLP_Thetae850_an.gif'\n",
    "make_animation(gif_filepath)"
   ]
  },
  {
   "cell_type": "markdown",
   "metadata": {},
   "source": [
    "<div class=\"alert alert-warning\">\n",
    "<b>Questions : </b>\n",
    "<p><b>1) </b>Give an approximate equivalent potential temperature range associated to medicane Zorbas.</p>\n",
    "</div>"
   ]
  },
  {
   "cell_type": "markdown",
   "metadata": {},
   "source": [
    "<div class=\"alert alert-success\">\n",
    "<b>Answer </b>\n",
    "</div>"
   ]
  },
  {
   "cell_type": "code",
   "execution_count": null,
   "metadata": {
    "scrolled": false
   },
   "outputs": [],
   "source": [
    "for i in tqdm(range(len(time))):\n",
    "    \n",
    "    #print(dates_str[i])\n",
    "    \n",
    "    fig = plt.figure(figsize=(10, 5))\n",
    "    fig.suptitle('Analysis : '+dates_str[i], fontsize=14)\n",
    "\n",
    "    ax = fig.add_subplot(111, projection=ccrs.PlateCarree())\n",
    "    plt.title('Geopotential height and temperature at 500 hPa', size=10, loc='center')\n",
    "    plot_background(ax)\n",
    "    cf = ax.contourf(lons, lats, t500_ana[i,:,:], levels=clevs5, cmap=cmap, extend='both',transform=ccrs.PlateCarree())\n",
    "    c = ax.contour(lons, lats, z_ana[i,:,:], levels=clevs1, colors='black', linewidths=0.5,transform=ccrs.PlateCarree())\n",
    "    ax.clabel(c, fmt='%4.1i', fontsize=10)\n",
    "    cb = fig.colorbar(cf, orientation='horizontal', aspect=65, shrink=1, pad=0.1, extendrect='True')\n",
    "    cb.set_label('°C', fontsize=12)\n",
    "    \n",
    "    plt.close()\n",
    "    figname='./anim/ZT500_'+dates_str[i]\n",
    "    fig.savefig(figname+'.png',bbox_inches='tight')"
   ]
  },
  {
   "cell_type": "raw",
   "metadata": {},
   "source": [
    "Animation."
   ]
  },
  {
   "cell_type": "code",
   "execution_count": null,
   "metadata": {
    "scrolled": false
   },
   "outputs": [],
   "source": [
    "gif_filepath = './anim/ZT500_an.gif'\n",
    "make_animation(gif_filepath)"
   ]
  },
  {
   "cell_type": "markdown",
   "metadata": {},
   "source": [
    "<div class=\"alert alert-warning\">\n",
    "<b>Questions : </b>\n",
    "<p><b>1) </b>What upper level structure approaches Medicane Zorbas just before its initiation ?</p>\n",
    "<p><b>2) </b>At a larger scale, what type of Rossby wave breaking (cyclonic/anticyclonic) is linked to this feature ?</p>\n",
    "    \n",
    "</div>"
   ]
  },
  {
   "cell_type": "markdown",
   "metadata": {},
   "source": [
    "<div class=\"alert alert-success\">\n",
    "<b>Answer </b>\n",
    "</div>"
   ]
  },
  {
   "cell_type": "code",
   "execution_count": null,
   "metadata": {
    "scrolled": false
   },
   "outputs": [],
   "source": [
    "for i in tqdm(range(len(time))):\n",
    "    \n",
    "    #print(dates_str[i])\n",
    "\n",
    "    fig = plt.figure(figsize=(10, 5))\n",
    "    fig.suptitle('Analysis : '+dates_str[i], fontsize=14)\n",
    "    \n",
    "    ax = fig.add_subplot(111, projection=ccrs.PlateCarree())\n",
    "    plt.title('Potential vorticity at 320K', fontsize=10, loc='center')\n",
    "    plot_background(ax)\n",
    "    cf = ax.contourf(lons, lats, pv_ana[i,:,:], levels=clevs3, cmap=cmap, extend='max',transform=ccrs.PlateCarree())\n",
    "    #c = ax.contour(lons, lats, pv_ana[i,:,:], levels=clevs3, colors='black', linewidths=0.5,transform=ccrs.PlateCarree())\n",
    "    #ax.clabel(c, fmt='%4.1i', fontsize=10)\n",
    "    cb = fig.colorbar(cf, orientation='horizontal', aspect=65, shrink=1, pad=0.1, extendrect='True')\n",
    "    cb.set_label('PVU', fontsize=12)\n",
    "    \n",
    "    plt.close()\n",
    "    figname='./anim/PV320_'+dates_str[i]\n",
    "    fig.savefig(figname+'.png',bbox_inches='tight')"
   ]
  },
  {
   "cell_type": "raw",
   "metadata": {},
   "source": [
    "Animation."
   ]
  },
  {
   "cell_type": "code",
   "execution_count": null,
   "metadata": {
    "scrolled": false
   },
   "outputs": [],
   "source": [
    "gif_filepath = './anim/PV320_an.gif'\n",
    "make_animation(gif_filepath)"
   ]
  },
  {
   "cell_type": "markdown",
   "metadata": {},
   "source": [
    "<div class=\"alert alert-warning\">\n",
    "<b>Questions : </b>\n",
    "<p><b>1) </b>What are the 320K (i.e around 300hPa) potential vorticity values associated to the upper level structure described above ? What can we deduce concerning the origin of the corresponding air (tropospheric/stratospheric) ? </p>\n",
    "</div>"
   ]
  },
  {
   "cell_type": "markdown",
   "metadata": {},
   "source": [
    "<div class=\"alert alert-success\">\n",
    "<b>Answer </b>\n",
    "</div>"
   ]
  },
  {
   "cell_type": "raw",
   "metadata": {},
   "source": [
    "Select a subdomain to focus on medicane Zorbas."
   ]
  },
  {
   "cell_type": "markdown",
   "metadata": {},
   "source": [
    "<div class=\"alert alert-danger\">\n",
    "<p><b>Reduce the geographical domain to 25N-50N 0W-30E.</b></p>\n",
    "</div>"
   ]
  },
  {
   "cell_type": "code",
   "execution_count": null,
   "metadata": {
    "scrolled": false
   },
   "outputs": [],
   "source": [
    "latS = \n",
    "latN = \n",
    "lonW = \n",
    "lonE = "
   ]
  },
  {
   "cell_type": "raw",
   "metadata": {},
   "source": [
    "Extract data on the subdomain."
   ]
  },
  {
   "cell_type": "code",
   "execution_count": null,
   "metadata": {
    "scrolled": false
   },
   "outputs": [],
   "source": [
    "z_ana = z_ana.sel(latitude=slice(latN,latS)).sel(longitude=slice(lonW,lonE))\n",
    "t500_ana = t500_ana.sel(latitude=slice(latN,latS)).sel(longitude=slice(lonW,lonE))\n",
    "mslp_ana = mslp_ana.sel(latitude=slice(latN,latS)).sel(longitude=slice(lonW,lonE))\n",
    "pv_ana = pv_ana.sel(latitude=slice(latN,latS)).sel(longitude=slice(lonW,lonE))\n",
    "Thetae_ana = Thetae_ana.sel(latitude=slice(latN,latS)).sel(longitude=slice(lonW,lonE))\n",
    "\n",
    "lats = z_ana.latitude.values\n",
    "lons = z_ana.longitude.values"
   ]
  },
  {
   "cell_type": "raw",
   "metadata": {},
   "source": [
    "Plot maps and animations."
   ]
  },
  {
   "cell_type": "code",
   "execution_count": null,
   "metadata": {
    "scrolled": false
   },
   "outputs": [],
   "source": [
    "cmap='jet'\n",
    "clevs1 = np.linspace(5500, 6000, 21)\n",
    "clevs2 = np.arange(994, 1040, 2)\n",
    "clevs3 = np.linspace(1, 12, 21)\n",
    "clevs4 = np.arange(270,345,5)\n",
    "clevs5=np.arange(-30,2.5,2.5)"
   ]
  },
  {
   "cell_type": "code",
   "execution_count": null,
   "metadata": {
    "scrolled": false
   },
   "outputs": [],
   "source": [
    "for i in tqdm(range(len(time))):\n",
    "    \n",
    "    #print(dates_str[i])\n",
    "\n",
    "    fig = plt.figure(figsize=(15, 8))\n",
    "    fig.suptitle('Analysis : '+dates_str[i], fontsize=14)\n",
    "\n",
    "    ax = fig.add_subplot(121, projection=ccrs.PlateCarree())\n",
    "    plt.title('Geopotential height and temperature at 500 hPa', size=10, loc='center')\n",
    "    plot_background(ax)\n",
    "    cf = ax.contourf(lons, lats, t500_ana[i,:,:], levels=clevs5, cmap=cmap, extend='both',transform=ccrs.PlateCarree())\n",
    "    c = ax.contour(lons, lats, z_ana[i,:,:], levels=clevs1, colors='black', linewidths=0.5,transform=ccrs.PlateCarree())\n",
    "    ax.clabel(c, fmt='%4.1i', fontsize=10)\n",
    "    cb = fig.colorbar(cf, orientation='horizontal', aspect=65, shrink=1, pad=0.1, extendrect='True')\n",
    "    cb.set_label('°C', fontsize=12)\n",
    "    \n",
    "    ax = fig.add_subplot(122, projection=ccrs.PlateCarree())\n",
    "    plt.title('MSLP and $\\Theta_E$ at 850 hPa', fontsize=10, loc='center')\n",
    "    plot_background(ax)\n",
    "    cf = ax.contourf(lons, lats, Thetae_ana[i,:,:], levels=clevs4, cmap=cmap, extend='both',transform=ccrs.PlateCarree())\n",
    "    c = ax.contour(lons, lats, mslp_ana[i,:,:], levels=clevs2, colors='black', linewidths=0.5,transform=ccrs.PlateCarree())\n",
    "    ax.clabel(c, fmt='%4.1i', fontsize=10)\n",
    "    #plot_maxmin_points(lon_grid, lat_grid, mslp_ana[i,:,:], 'max', 25,\n",
    "    #symbol='H', color='r',  transform=ccrs.PlateCarree())\n",
    "    plot_maxmin_points(mslp_ana[i,:,:], 'min', 25,\n",
    "                       symbol='L', color='b', transform=ccrs.PlateCarree())\n",
    "    cb = fig.colorbar(cf, orientation='horizontal', aspect=65, shrink=1, pad=0.1, extendrect='True')\n",
    "    cb.set_label('K', fontsize=12)\n",
    "    \n",
    "    #plt.show()\n",
    "    plt.close()\n",
    "    figname='./anim/MSLP_Thetae850_ZT500'+dates_str[i]\n",
    "    fig.savefig(figname+'.png',bbox_inches='tight')"
   ]
  },
  {
   "cell_type": "raw",
   "metadata": {},
   "source": [
    "Animation."
   ]
  },
  {
   "cell_type": "code",
   "execution_count": null,
   "metadata": {
    "scrolled": false
   },
   "outputs": [],
   "source": [
    "gif_filepath = './anim/MSLP_Thetae850_ZT500_an2.gif'\n",
    "make_animation(gif_filepath)"
   ]
  },
  {
   "cell_type": "code",
   "execution_count": null,
   "metadata": {
    "scrolled": false
   },
   "outputs": [],
   "source": [
    "for i in tqdm(range(len(time))):\n",
    "    \n",
    "    #print(dates_str[i])\n",
    "\n",
    "    fig = plt.figure(figsize=(15, 8))\n",
    "    fig.suptitle('Analysis : '+dates_str[i], fontsize=14)\n",
    "    \n",
    "    ax = fig.add_subplot(121, projection=ccrs.PlateCarree())\n",
    "    plt.title('Potential vorticity at 320K', fontsize=10, loc='center')\n",
    "    plot_background(ax)\n",
    "    cf = ax.contourf(lons, lats, pv_ana[i,:,:], levels=clevs3, cmap=cmap, extend='max',transform=ccrs.PlateCarree())\n",
    "    #c = ax.contour(lons, lats, pv_ana[i,:,:], levels=clevs3, colors='black', linewidths=0.5,transform=ccrs.PlateCarree())\n",
    "    #ax.clabel(c, fmt='%4.1i', fontsize=10)\n",
    "    cb = fig.colorbar(cf, orientation='horizontal', aspect=65, shrink=1, pad=0.1, extendrect='True')\n",
    "    cb.set_label('PVU', fontsize=12)\n",
    "\n",
    "    ax = fig.add_subplot(122, projection=ccrs.PlateCarree())\n",
    "    plt.title('MSLP and $\\Theta_E$ at 850 hPa', fontsize=10, loc='center')\n",
    "    plot_background(ax)\n",
    "    cf = ax.contourf(lons, lats, Thetae_ana[i,:,:], levels=clevs4, cmap=cmap, extend='both',transform=ccrs.PlateCarree())\n",
    "    c = ax.contour(lons, lats, mslp_ana[i,:,:], levels=clevs2, colors='black', linewidths=0.5,transform=ccrs.PlateCarree())\n",
    "    ax.clabel(c, fmt='%4.1i', fontsize=10)\n",
    "    #plot_maxmin_points(lon_grid, lat_grid, mslp_ana[i,:,:], 'max', 25,\n",
    "    #symbol='H', color='r',  transform=ccrs.PlateCarree())\n",
    "    plot_maxmin_points(mslp_ana[i,:,:], 'min', 25,\n",
    "                       symbol='L', color='b', transform=ccrs.PlateCarree())\n",
    "    cb = fig.colorbar(cf, orientation='horizontal', aspect=65, shrink=1, pad=0.1, extendrect='True')\n",
    "    cb.set_label('K', fontsize=12)\n",
    "    \n",
    "    plt.close()\n",
    "    figname='./anim/MSLP_Thetae850_PV320'+dates_str[i]\n",
    "    fig.savefig(figname+'.png',bbox_inches='tight')"
   ]
  },
  {
   "cell_type": "raw",
   "metadata": {},
   "source": [
    "Animation."
   ]
  },
  {
   "cell_type": "code",
   "execution_count": null,
   "metadata": {
    "scrolled": false
   },
   "outputs": [],
   "source": [
    "gif_filepath = './anim/MSLP_Thetae850_PV320_an2.gif'\n",
    "make_animation(gif_filepath)"
   ]
  },
  {
   "cell_type": "markdown",
   "metadata": {},
   "source": [
    "# Part 2 : ECMWF deterministic forecast"
   ]
  },
  {
   "cell_type": "raw",
   "metadata": {},
   "source": [
    "Open forecast data."
   ]
  },
  {
   "cell_type": "code",
   "execution_count": null,
   "metadata": {
    "scrolled": false
   },
   "outputs": [],
   "source": [
    "Fcst_Z = './data/Z500_fc_20180924.nc'\n",
    "Fcst_T500 = './data/T500_fc_20180924.nc'\n",
    "Fcst_MSLP = './data/MSLP_fc_20180924.nc'\n",
    "Fcst_PV320 = './data/PV320_fc_20180924.nc'\n",
    "Fcst_qT850 = './data/qT850_fc_20180924.nc'\n",
    "\n",
    "data_zf    = xr.open_dataset(Fcst_Z)\n",
    "data_t500f    = xr.open_dataset(Fcst_T500)\n",
    "data_mslpf    = xr.open_dataset(Fcst_MSLP)\n",
    "data_pvf    = xr.open_dataset(Fcst_PV320)\n",
    "data_qTf    = xr.open_dataset(Fcst_qT850)\n",
    "\n",
    "print(data_zf)\n",
    "print(data_zf.time.values)"
   ]
  },
  {
   "cell_type": "markdown",
   "metadata": {},
   "source": [
    "<div class=\"alert alert-warning\">\n",
    "<b>Questions : </b>\n",
    "<p><b>1) </b>What is the temporal resolution of the ECMWF forecast data ? Is it regular ?</p>\n",
    "</div>"
   ]
  },
  {
   "cell_type": "markdown",
   "metadata": {},
   "source": [
    "<div class=\"alert alert-success\">\n",
    "<b>Answer </b>\n",
    "</div>"
   ]
  },
  {
   "cell_type": "markdown",
   "metadata": {},
   "source": [
    "<div class=\"alert alert-danger\">\n",
    "<b>To have the same spatio-temporal resolution as the zoomed analysis, specify a regular 6-hourly time slice from 2018-09-24T00 to 2018-09-30T12 and reduce the geographical domain to 25N-50N 0W-30E. </b>\n",
    "    \n",
    "<p><b>Hint : the pandas date_range function may be useful :\n",
    "    \n",
    "https://pandas.pydata.org/docs/reference/api/pandas.date_range.html.</b></p>\n",
    "</div>"
   ]
  },
  {
   "cell_type": "raw",
   "metadata": {},
   "source": [
    "Select a specific lat/lon domain and a specific time slice (6-hourly)."
   ]
  },
  {
   "cell_type": "code",
   "execution_count": null,
   "metadata": {},
   "outputs": [],
   "source": [
    "t0 ='2018-09-24T00'\n",
    "t1 ='2018-09-30T12'\n",
    "dates = \n",
    "\n",
    "latS = \n",
    "latN = \n",
    "lonW = \n",
    "lonE = "
   ]
  },
  {
   "cell_type": "raw",
   "metadata": {},
   "source": [
    "Open forecast data for the specific lat/lon domain and time slice."
   ]
  },
  {
   "cell_type": "code",
   "execution_count": null,
   "metadata": {},
   "outputs": [],
   "source": [
    "data_zf    = xr.open_dataset(Fcst_Z).sel(latitude=slice(latN,latS)).sel(longitude=slice(lonW,lonE)).sel(time=dates)\n",
    "data_t500f    = xr.open_dataset(Fcst_T500).sel(latitude=slice(latN,latS)).sel(longitude=slice(lonW,lonE)).sel(time=dates)\n",
    "data_mslpf    = xr.open_dataset(Fcst_MSLP).sel(latitude=slice(latN,latS)).sel(longitude=slice(lonW,lonE)).sel(time=dates)\n",
    "data_pvf    = xr.open_dataset(Fcst_PV320).sel(latitude=slice(latN,latS)).sel(longitude=slice(lonW,lonE)).sel(time=dates)\n",
    "data_qT850f    = xr.open_dataset(Fcst_qT850).sel(latitude=slice(latN,latS)).sel(longitude=slice(lonW,lonE)).sel(time=dates)\n",
    "\n",
    "print(data_zf)"
   ]
  },
  {
   "cell_type": "raw",
   "metadata": {},
   "source": [
    "Extract data arrays (z500, t500, MSLP, PV320K, q850, t850) and define lat/lon/time dimensions."
   ]
  },
  {
   "cell_type": "code",
   "execution_count": null,
   "metadata": {},
   "outputs": [],
   "source": [
    "z_fcst=data_zf['z']/9.81\n",
    "t500_fcst=data_t500f['t']-273.15\n",
    "mslp_fcst=data_mslpf['msl']/100\n",
    "pv_fcst=data_pvf['pv']*1e6\n",
    "q850_fcst=data_qT850f['q']\n",
    "t850_fcst=data_qT850f['t']\n",
    "\n",
    "lats = z_fcst.latitude.values\n",
    "lons = z_fcst.longitude.values\n",
    "\n",
    "time = z_fcst.time.values\n",
    "times_str=[x for x in range(len(time))]\n",
    "dates_str=[x for x in range(len(time))]\n",
    "for i in range(len(time)):\n",
    "\ttimes_str[i] = str(time[i])\n",
    "\tdates_str[i] = times_str[i][0:13]\n",
    "print(dates_str)"
   ]
  },
  {
   "cell_type": "raw",
   "metadata": {},
   "source": [
    "Compute 850hPa equivalent potential temperature (metpy functions)."
   ]
  },
  {
   "cell_type": "code",
   "execution_count": null,
   "metadata": {
    "scrolled": false
   },
   "outputs": [],
   "source": [
    "Td = mpcalc.dewpoint_from_specific_humidity(850* units.hPa, t850_fcst.values* units.kelvin, q850_fcst.values* units('kg/kg'))\n",
    "Thetae_fcst=mpcalc.equivalent_potential_temperature(850* units.hPa, t850_fcst, Td)\n",
    "print(Thetae_fcst.shape)\n",
    "print(np.min(Thetae_fcst))\n",
    "print(np.max(Thetae_fcst))"
   ]
  },
  {
   "cell_type": "raw",
   "metadata": {},
   "source": [
    "Plot maps and animations."
   ]
  },
  {
   "cell_type": "code",
   "execution_count": null,
   "metadata": {
    "scrolled": false
   },
   "outputs": [],
   "source": [
    "for i in tqdm(range(len(time))):\n",
    "    \n",
    "    #print(dates_str[i])\n",
    "\n",
    "    fig = plt.figure(figsize=(15, 8))\n",
    "    fig.suptitle('Analysis : '+dates_str[0]+' - Forecast : '+dates_str[i], fontsize=14)\n",
    "\n",
    "    ax = fig.add_subplot(121, projection=ccrs.PlateCarree())\n",
    "    plt.title('Geopotential height and temperature at 500 hPa', size=10, loc='center')\n",
    "    plot_background(ax)\n",
    "    cf = ax.contourf(lons, lats, t500_fcst[i,:,:], levels=clevs5, cmap=cmap, extend='both',transform=ccrs.PlateCarree())\n",
    "    c = ax.contour(lons, lats, z_fcst[i,:,:], levels=clevs1, colors='black', linewidths=0.5,transform=ccrs.PlateCarree())\n",
    "    ax.clabel(c, fmt='%4.1i', fontsize=10)\n",
    "    cb = fig.colorbar(cf, orientation='horizontal', aspect=65, shrink=1, pad=0.1, extendrect='True')\n",
    "    cb.set_label('°C', fontsize=12)\n",
    "    \n",
    "    ax = fig.add_subplot(122, projection=ccrs.PlateCarree())\n",
    "    plt.title('MSLP and $\\Theta_E$ at 850 hPa', fontsize=10, loc='center')\n",
    "    plot_background(ax)\n",
    "    cf = ax.contourf(lons, lats, Thetae_fcst[i,:,:], levels=clevs4, cmap=cmap, extend='both',transform=ccrs.PlateCarree())\n",
    "    c = ax.contour(lons, lats, mslp_fcst[i,:,:], levels=clevs2, colors='black', linewidths=0.5,transform=ccrs.PlateCarree())\n",
    "    ax.clabel(c, fmt='%4.1i', fontsize=10)\n",
    "    #plot_maxmin_points(lon_grid, lat_grid, mslp_ana[i,:,:], 'max', 25,\n",
    "    #symbol='H', color='r',  transform=ccrs.PlateCarree())\n",
    "    plot_maxmin_points(mslp_fcst[i,:,:], 'min', 25,\n",
    "                       symbol='L', color='b', transform=ccrs.PlateCarree())\n",
    "    cb = fig.colorbar(cf, orientation='horizontal', aspect=65, shrink=1, pad=0.1, extendrect='True')\n",
    "    cb.set_label('K', fontsize=12)\n",
    "    \n",
    "    #plt.show()\n",
    "    plt.close()\n",
    "    figname='./anim/MSLP_Thetae850_ZT500_'+dates_str[i]\n",
    "    fig.savefig(figname+'.png',bbox_inches='tight')"
   ]
  },
  {
   "cell_type": "raw",
   "metadata": {},
   "source": [
    "Animation."
   ]
  },
  {
   "cell_type": "code",
   "execution_count": null,
   "metadata": {
    "scrolled": false
   },
   "outputs": [],
   "source": [
    "gif_filepath = './anim/MSLP_Thetae850_ZT500_fc.gif'\n",
    "make_animation(gif_filepath)"
   ]
  },
  {
   "cell_type": "code",
   "execution_count": null,
   "metadata": {
    "scrolled": false
   },
   "outputs": [],
   "source": [
    "for i in tqdm(range(len(time))):\n",
    "    \n",
    "    #print(dates_str[i])\n",
    "\n",
    "    fig = plt.figure(figsize=(15, 8))\n",
    "    fig.suptitle('Analysis : '+dates_str[0]+' - Forecast : '+dates_str[i], fontsize=14)\n",
    "    \n",
    "    ax = fig.add_subplot(121, projection=ccrs.PlateCarree())\n",
    "    plt.title('Potential vorticity at 320K', fontsize=10, loc='center')\n",
    "    plot_background(ax)\n",
    "    cf = ax.contourf(lons, lats, pv_fcst[i,:,:], levels=clevs3, cmap=cmap, extend='max',transform=ccrs.PlateCarree())\n",
    "    #c = ax.contour(lons, lats, pv_fcst[i,:,:], levels=clevs3, colors='black', linewidths=0.5,transform=ccrs.PlateCarree())\n",
    "    #ax.clabel(c, fmt='%4.1i', fontsize=10)\n",
    "    cb = fig.colorbar(cf, orientation='horizontal', aspect=65, shrink=1, pad=0.1, extendrect='True')\n",
    "    cb.set_label('PVU', fontsize=12)\n",
    "\n",
    "    ax = fig.add_subplot(122, projection=ccrs.PlateCarree())\n",
    "    plt.title('MSLP and $\\Theta_E$ at 850 hPa', fontsize=10, loc='center')\n",
    "    plot_background(ax)\n",
    "    cf = ax.contourf(lons, lats, Thetae_fcst[i,:,:], levels=clevs4, cmap=cmap, extend='both',transform=ccrs.PlateCarree())\n",
    "    c = ax.contour(lons, lats, mslp_fcst[i,:,:], levels=clevs2, colors='black', linewidths=0.5,transform=ccrs.PlateCarree())\n",
    "    ax.clabel(c, fmt='%4.1i', fontsize=10)\n",
    "    #plot_maxmin_points(lon_grid, lat_grid, mslp_ana[i,:,:], 'max', 25,\n",
    "    #symbol='H', color='r',  transform=ccrs.PlateCarree())\n",
    "    plot_maxmin_points(mslp_fcst[i,:,:], 'min', 25,\n",
    "                       symbol='L', color='b', transform=ccrs.PlateCarree())\n",
    "    cb = fig.colorbar(cf, orientation='horizontal', aspect=65, shrink=1, pad=0.1, extendrect='True')\n",
    "    cb.set_label('K', fontsize=12)\n",
    "    \n",
    "    plt.close()\n",
    "    figname='./anim/MSLP_Thetae850_PV320_'+dates_str[i]\n",
    "    fig.savefig(figname+'.png',bbox_inches='tight')"
   ]
  },
  {
   "cell_type": "raw",
   "metadata": {},
   "source": [
    "Animation."
   ]
  },
  {
   "cell_type": "code",
   "execution_count": null,
   "metadata": {
    "scrolled": false
   },
   "outputs": [],
   "source": [
    "gif_filepath = './anim/MSLP_Thetae850_PV320_fc.gif'\n",
    "make_animation(gif_filepath)"
   ]
  },
  {
   "cell_type": "markdown",
   "metadata": {},
   "source": [
    "<div class=\"alert alert-warning\">\n",
    "<b>Questions : </b>\n",
    "<p><b>1) </b>Does the september 24th 00UTC run propose a medicane-like scenario for September 27th-28th ?</p>\n",
    "<p><b>2) </b>Do you see differences in the initiation, track and intensity of the system between the deterministic forecast and the analysis ?</p>\n",
    "</div>"
   ]
  },
  {
   "cell_type": "markdown",
   "metadata": {},
   "source": [
    "<div class=\"alert alert-success\">\n",
    "<b>Answer </b>\n",
    "</div>"
   ]
  },
  {
   "cell_type": "markdown",
   "metadata": {},
   "source": [
    "# Part 3 : differences between analysis and deterministic forecast"
   ]
  },
  {
   "cell_type": "raw",
   "metadata": {},
   "source": [
    "Compute differences between analysis and deterministic forecast."
   ]
  },
  {
   "cell_type": "markdown",
   "metadata": {},
   "source": [
    "<div class=\"alert alert-danger\">\n",
    "<b>Compute differences between the analysis and the forecast (arrays z_diff and mslp_diff) </b>\n",
    "</div>"
   ]
  },
  {
   "cell_type": "code",
   "execution_count": null,
   "metadata": {
    "scrolled": false
   },
   "outputs": [],
   "source": [
    "z_diff=\n",
    "mslp_diff=\n",
    "print(z_diff.shape)"
   ]
  },
  {
   "cell_type": "raw",
   "metadata": {},
   "source": [
    "Plot maps and animations of differences (Z500 and MSLP)."
   ]
  },
  {
   "cell_type": "code",
   "execution_count": null,
   "metadata": {
    "scrolled": false
   },
   "outputs": [],
   "source": [
    "cmap='coolwarm'\n",
    "clevsa1 = np.arange(-50, 55, 5)\n",
    "clevsa2 = np.arange(-8, 9, 1)\n",
    "\n",
    "for i in tqdm(range(len(time)-1)):\n",
    "    #print(dates_str[i])\n",
    "    fig = plt.figure(figsize=(15, 8))\n",
    "    fig.suptitle('Analysis minus Forecast : '+dates_str[i], fontsize=14)\n",
    "    ax = fig.add_subplot(121, projection=ccrs.PlateCarree())\n",
    "    plt.title('Geopotential height at 500 hPa', size=10, loc='center')\n",
    "    plot_background(ax)\n",
    "    cf = ax.contourf(lons, lats, z_diff[i,:,:], clevsa1, cmap=cmap, extend='both', transform=ccrs.PlateCarree())\n",
    "    c = ax.contour(lons, lats, z_diff[i,:,:], clevsa1, colors='black', linewidths=0.5,transform=ccrs.PlateCarree())\n",
    "    cb = fig.colorbar(cf, orientation='horizontal', aspect=65, shrink=1, pad=0.05, extendrect='True')\n",
    "    cb.set_label('(m)', fontsize=12)\n",
    "    \n",
    "    ax = fig.add_subplot(122, projection=ccrs.PlateCarree())\n",
    "    plt.title('Mean Sea Level Pressure', fontsize=10, loc='center')\n",
    "    plot_background(ax)\n",
    "    cf = ax.contourf(lons, lats, mslp_diff[i,:,:], clevsa2, cmap=cmap, extend='both', transform=ccrs.PlateCarree())\n",
    "    c = ax.contour(lons, lats, mslp_diff[i,:,:], clevsa2, colors='black', linewidths=0.5, transform=ccrs.PlateCarree())\n",
    "    cb = fig.colorbar(cf, orientation='horizontal', aspect=65, shrink=1, pad=0.05, extendrect='True')\n",
    "    cb.set_label('(hPa)', fontsize=12)\n",
    "    \n",
    "    plt.close()\n",
    "    figname='./anim/Z500_MSLP_diff_'+dates_str[i]\n",
    "    fig.savefig(figname+'.png',bbox_inches='tight')"
   ]
  },
  {
   "cell_type": "raw",
   "metadata": {},
   "source": [
    "Animation."
   ]
  },
  {
   "cell_type": "code",
   "execution_count": null,
   "metadata": {
    "scrolled": false
   },
   "outputs": [],
   "source": [
    "gif_filepath = './anim/Z500_MSLP_an_minus_fc.gif'\n",
    "make_animation(gif_filepath)"
   ]
  },
  {
   "cell_type": "markdown",
   "metadata": {},
   "source": [
    "<div class=\"alert alert-warning\">\n",
    "<b>Questions : </b>\n",
    "<p><b>1) </b>When do the differences between the analysis and the deterministic forecast start to be significant ?</p>\n",
    "</div>"
   ]
  },
  {
   "cell_type": "markdown",
   "metadata": {},
   "source": [
    "<div class=\"alert alert-success\">\n",
    "<b>Answer </b>\n",
    "</div>"
   ]
  },
  {
   "cell_type": "markdown",
   "metadata": {},
   "source": [
    "# Extra task : tracking Zorbas in the analysis and deterministic forecasts"
   ]
  },
  {
   "cell_type": "markdown",
   "metadata": {},
   "source": [
    "<div class=\"alert alert-danger\">\n",
    "\n",
    "<p><b>1) Use the code from the previous notebooks to track the medicane Zorbas in the analysis and deterministic forecast from 2018-09-27T12 to 2018-09-30T12.</b></p>\n",
    "\n",
    "<p><b>2) Highlight the differences between the analysis and the deterministic forecast by ploting maps of the tracks and curves of the evolution of the MSLP.</b></p>\n",
    "\n",
    "\n",
    "</div>"
   ]
  }
 ],
 "metadata": {
  "kernelspec": {
   "display_name": "Python 3",
   "language": "python",
   "name": "python3"
  },
  "language_info": {
   "codemirror_mode": {
    "name": "ipython",
    "version": 3
   },
   "file_extension": ".py",
   "mimetype": "text/x-python",
   "name": "python",
   "nbconvert_exporter": "python",
   "pygments_lexer": "ipython3",
   "version": "3.7.11"
  }
 },
 "nbformat": 4,
 "nbformat_minor": 1
}
