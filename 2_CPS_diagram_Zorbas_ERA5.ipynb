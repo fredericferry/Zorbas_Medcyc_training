{
 "cells": [
  {
   "cell_type": "markdown",
   "metadata": {},
   "source": [
    "\n",
    "# Storm tracking - Cyclone Phase Space (CPS) diagram\n",
    "\n",
    "*Author : Frédéric FERRY - Météo-France / Ecole Nationale de la Météorologie (June 2023)*\n",
    "\n",
    "Concepts illustrated here :\n",
    "- Storm tracking from ERA5 data in netcdf format (geopotential height / mean sea level pressure) and a specified tracking file in .txt format\n",
    "- Computation of the cyclone phase space parameters along the track (thermal/thickness asymmetry and warm core/cold core trough thermal wind relation)\n",
    "- Creation of the CPS diagram like in http://moe.met.fsu.edu/cyclonephase/\n",
    "\n",
    "ERA5 data in netcdf format can be downloaded here:\n",
    "- https://cds.climate.copernicus.eu/cdsapp#!/dataset/reanalysis-era5-single-levels?tab=form\n",
    "- https://cds.climate.copernicus.eu/cdsapp#!/dataset/reanalysis-era5-pressure-levels?tab=form"
   ]
  },
  {
   "cell_type": "code",
   "execution_count": null,
   "metadata": {},
   "outputs": [],
   "source": [
    "import os\n",
    "\n",
    "import xarray as xr\n",
    "import netCDF4\n",
    "\n",
    "import math\n",
    "import numpy as np\n",
    "\n",
    "from cartopy import config\n",
    "from cartopy.util import add_cyclic_point\n",
    "import cartopy.feature as cfeature\n",
    "import cartopy.crs as ccrs\n",
    "from cartopy.mpl.geoaxes import GeoAxes\n",
    "from cartopy.mpl.ticker import LongitudeFormatter, LatitudeFormatter\n",
    "\n",
    "import matplotlib.pyplot as plt\n",
    "from mpl_toolkits.axes_grid1 import AxesGrid\n",
    "import matplotlib.collections as collections\n",
    "\n",
    "import IPython.display as IPdisplay, matplotlib.font_manager as fm\n",
    "from PIL import Image\n",
    "import glob\n",
    "from tqdm import tqdm\n",
    "\n",
    "from sklearn.linear_model import LinearRegression\n",
    "from scipy.ndimage import maximum_filter, minimum_filter"
   ]
  },
  {
   "cell_type": "raw",
   "metadata": {},
   "source": [
    "Directories."
   ]
  },
  {
   "cell_type": "code",
   "execution_count": null,
   "metadata": {},
   "outputs": [],
   "source": [
    "storm='Zorbas'\n",
    "#storm='Leslie2'\n",
    "\n",
    "if not os.path.exists('./anim/'+storm):\n",
    "    os.mkdir('./anim/'+storm)\n",
    "\n",
    "if not os.path.exists('./figs/'+storm):\n",
    "    os.mkdir('./figs/'+storm)\n",
    "    \n",
    "dir_anim='./anim/'+storm+'/'"
   ]
  },
  {
   "cell_type": "raw",
   "metadata": {},
   "source": [
    "Function for min/max detection."
   ]
  },
  {
   "cell_type": "code",
   "execution_count": null,
   "metadata": {},
   "outputs": [],
   "source": [
    "def plot_maxmin_points(data, extrema, nsize, symbol, color='k',\n",
    "                       plotValue=True, transform=None):\n",
    "\n",
    "    if (extrema == 'max'):\n",
    "        data_ext = maximum_filter(data, nsize, mode='nearest')\n",
    "    elif (extrema == 'min'):\n",
    "        data_ext = minimum_filter(data, nsize, mode='nearest')\n",
    "    else:\n",
    "        raise ValueError('Value for hilo must be either max or min')\n",
    "\n",
    "    mxy, mxx = np.where(data_ext == data)\n",
    "\n",
    "    for i in range(len(mxy)):\n",
    "        ax.text(data.longitude[mxx[i]].values, data.latitude[mxy[i]].values, symbol, color=color, size=12,\n",
    "                clip_on=True, horizontalalignment='center', verticalalignment='center',\n",
    "                transform=transform)\n",
    "        ax.text(data.longitude[mxx[i]].values, data.latitude[mxy[i]].values,\n",
    "                '\\n' + str(int(data[mxy[i], mxx[i]])),\n",
    "                color=color, size=10, clip_on=True, fontweight='bold',\n",
    "                horizontalalignment='center', verticalalignment='top', transform=transform)"
   ]
  },
  {
   "cell_type": "raw",
   "metadata": {},
   "source": [
    "Function for the animations."
   ]
  },
  {
   "cell_type": "code",
   "execution_count": null,
   "metadata": {},
   "outputs": [],
   "source": [
    "def make_animation(gif_filepath):\n",
    "    from PIL import Image\n",
    "    import os\n",
    "    from IPython.display import Image as IPImage\n",
    "    from IPython.display import display\n",
    "    import time\n",
    "    \n",
    "    image_folder = './anim/'+storm+'/' # répertoire contenant les fichiers PNG\n",
    "    output_file = gif_filepath # nom du fichier de sortie\n",
    "    animation_speed = 0.9 # vitesse de l'animation en secondes\n",
    "    \n",
    "    # Liste tous les fichiers PNG dans le répertoire image_folder\n",
    "    files = sorted(os.listdir(image_folder))\n",
    "    image_files = [f for f in files if f.endswith('.png')]\n",
    "    \n",
    "    # Ouvre chaque fichier PNG et ajoute l'image à une liste\n",
    "    images = []\n",
    "    for filename in image_files:\n",
    "        img = Image.open(os.path.join(image_folder, filename))\n",
    "        images.append(img)\n",
    "    \n",
    "    # Crée l'animation GIF\n",
    "    images[0].save(output_file, save_all=True, append_images=images[1:], duration=int(animation_speed*1000), loop=0)\n",
    "    # Affiche l'animation GIF dans Jupyter\n",
    "    with open(output_file,'rb') as f:\n",
    "        display(IPImage(data=f.read(), format='png'))\n",
    "    # Efface les fichiers PNG\n",
    "    for filename in image_files:\n",
    "        os.remove(image_folder+filename)"
   ]
  },
  {
   "cell_type": "raw",
   "metadata": {},
   "source": [
    "Function to compute distances on the sphere."
   ]
  },
  {
   "cell_type": "code",
   "execution_count": null,
   "metadata": {},
   "outputs": [],
   "source": [
    "def haversine(lon1, lat1, lon2, lat2):\n",
    "    # convert decimal degrees to radians \n",
    "    lon1 = np.deg2rad(lon1)\n",
    "    lon2 = np.deg2rad(lon2)\n",
    "    lat1 = np.deg2rad(lat1)\n",
    "    lat2 = np.deg2rad(lat2)\n",
    "\n",
    "    # haversine formula \n",
    "    dlon = lon2 - lon1 \n",
    "    dlat = lat2 - lat1 \n",
    "    a = np.sin(dlat/2)**2 + np.cos(lat1) * np.cos(lat2) * np.sin(dlon/2)**2\n",
    "    c = 2 * np.arcsin(np.sqrt(a)) \n",
    "    r = 6371\n",
    "    return c * r"
   ]
  },
  {
   "cell_type": "raw",
   "metadata": {},
   "source": [
    "Function to compute bearing angles on the sphere."
   ]
  },
  {
   "cell_type": "code",
   "execution_count": null,
   "metadata": {
    "scrolled": false
   },
   "outputs": [],
   "source": [
    "def get_bearing(lat1, lon1, lat2, lon2):\n",
    "    dLon = (lon2 - lon1)\n",
    "    x = math.cos(math.radians(lat2)) * math.sin(math.radians(dLon))\n",
    "    y = math.cos(math.radians(lat1)) * math.sin(math.radians(lat2)) - math.sin(math.radians(lat1)) * math.cos(math.radians(lat2)) * math.cos(math.radians(dLon))\n",
    "    brng = np.arctan2(x,y)\n",
    "    brng = np.degrees(brng)\n",
    "    brng = (brng +360) % 360\n",
    "    return brng"
   ]
  },
  {
   "cell_type": "markdown",
   "metadata": {},
   "source": [
    "# Check tracking file"
   ]
  },
  {
   "cell_type": "raw",
   "metadata": {},
   "source": [
    "Open tracking txt file for the chosen storm (in txt folder)."
   ]
  },
  {
   "cell_type": "code",
   "execution_count": null,
   "metadata": {},
   "outputs": [],
   "source": [
    "liste_time,liste_lon,liste_lat,liste_pres=np.loadtxt('./txt/'+storm+'.txt',\n",
    "        skiprows=0, dtype='U13,float,float,int',unpack=True)\n",
    "print(liste_time)"
   ]
  },
  {
   "cell_type": "raw",
   "metadata": {},
   "source": [
    "Change time interval."
   ]
  },
  {
   "cell_type": "code",
   "execution_count": null,
   "metadata": {},
   "outputs": [],
   "source": [
    "interval=int(input(\"Enter the desired time interval : \"))\n",
    "\n",
    "liste_time=liste_time[::interval]\n",
    "liste_lon=liste_lon[::interval]\n",
    "liste_lat=liste_lat[::interval]\n",
    "liste_pres=liste_pres[::interval]\n",
    "\n",
    "print(liste_time)\n",
    "print(liste_time.shape)\n",
    "\n",
    "date1=str(liste_time[0])\n",
    "date2=str(liste_time[-1])"
   ]
  },
  {
   "cell_type": "raw",
   "metadata": {},
   "source": [
    "Plot track and MSLP evolution."
   ]
  },
  {
   "cell_type": "code",
   "execution_count": null,
   "metadata": {
    "scrolled": false
   },
   "outputs": [],
   "source": [
    "def plot_background(ax):\n",
    "    ax.coastlines()\n",
    "    ax.gridlines()\n",
    "    ax.set_xticks(np.linspace(-180, 180, 37), crs=ccrs.PlateCarree())\n",
    "    ax.set_yticks(np.linspace(-90, 90, 37), crs=ccrs.PlateCarree())\n",
    "    lon_formatter = LongitudeFormatter(zero_direction_label=True)\n",
    "    lat_formatter = LatitudeFormatter()\n",
    "    ax.xaxis.set_major_formatter(lon_formatter)\n",
    "    ax.yaxis.set_major_formatter(lat_formatter)\n",
    "    return(ax)\n",
    "\n",
    "projection=ccrs.PlateCarree()\n",
    "\n",
    "fig = plt.figure(figsize=(20., 6.))\n",
    "ax = fig.add_subplot(121, projection=projection)\n",
    "ax.set_title(storm+' storm track',loc='center',fontsize=14)\n",
    "ax.stock_img()\n",
    "plot_background(ax)\n",
    "ax.set_extent([5, 35, 30, 45])\n",
    "\n",
    "ax.plot(liste_lon,liste_lat, color='red', transform=ccrs.PlateCarree())\n",
    "ax.scatter(liste_lon,liste_lat, color='red', transform=ccrs.PlateCarree())\n",
    "for i in range(len(liste_time)):\n",
    "    ax.text(liste_lon[i], liste_lat[i], liste_pres[i],verticalalignment='top', horizontalalignment='center',\n",
    "            transform=ccrs.PlateCarree())\n",
    "\n",
    "ax = fig.add_subplot(122)\n",
    "ax.set_title(storm+' MSP evolution',loc='center',fontsize=14)\n",
    "ax.plot(liste_time,liste_pres, label=storm)\n",
    "plt.xlabel('Date', fontsize=12)\n",
    "plt.ylabel('Mean sea level pressure (hPa)', fontsize=12)\n",
    "locs, labels = plt.xticks()\n",
    "plt.setp(labels, rotation=90)\n",
    "plt.grid()\n",
    "ax.tick_params(axis='x', labelsize=7)\n",
    "\n",
    "plt.show()\n",
    "\n",
    "figname='./figs/'+storm+'/MSLP_evolution'\n",
    "fig.savefig(figname+'.png')"
   ]
  },
  {
   "cell_type": "markdown",
   "metadata": {},
   "source": [
    "# Check available ERA5 data"
   ]
  },
  {
   "cell_type": "raw",
   "metadata": {},
   "source": [
    "Open Mean Sea Level Pressure and geopotential height data."
   ]
  },
  {
   "cell_type": "code",
   "execution_count": null,
   "metadata": {},
   "outputs": [],
   "source": [
    "f1    = xr.open_dataset(\"./data/\"+storm+\"/msl.nc\")\n",
    "f2    = xr.open_dataset(\"./data/\"+storm+\"/z.nc\")\n",
    "print(f1)\n",
    "print(f2)"
   ]
  },
  {
   "cell_type": "raw",
   "metadata": {},
   "source": [
    "Change time interval."
   ]
  },
  {
   "cell_type": "code",
   "execution_count": null,
   "metadata": {},
   "outputs": [],
   "source": [
    "interval=int(input(\"Enter the desired time interval : \"))"
   ]
  },
  {
   "cell_type": "markdown",
   "metadata": {},
   "source": [
    "# Open and plot data"
   ]
  },
  {
   "cell_type": "raw",
   "metadata": {},
   "source": [
    "Specify geographic domain."
   ]
  },
  {
   "cell_type": "code",
   "execution_count": null,
   "metadata": {},
   "outputs": [],
   "source": [
    "if storm=='Zorbas':\n",
    "    latS=30\n",
    "    latN=45\n",
    "    lonW=5\n",
    "    lonE=35\n",
    "else:\n",
    "    latS=20\n",
    "    latN=45\n",
    "    lonW=-60\n",
    "    lonE=0"
   ]
  },
  {
   "cell_type": "raw",
   "metadata": {},
   "source": [
    "Open MSLP data for the same time steps as the above track and the desired time interval."
   ]
  },
  {
   "cell_type": "code",
   "execution_count": null,
   "metadata": {},
   "outputs": [],
   "source": [
    "f1    = xr.open_dataset(\"./data/\"+storm+\"/msl.nc\").sel(\n",
    "    time=slice(date1,date2)).sel(\n",
    "    latitude=slice(latN,latS)).sel(\n",
    "    longitude=slice(lonW,lonE))\n",
    "\n",
    "mslp = f1['msl'][::interval]/100\n",
    "lat  = mslp.latitude.values\n",
    "time  = mslp.time.values\n",
    "lon  = mslp.longitude.values\n",
    "\n",
    "print(mslp)"
   ]
  },
  {
   "cell_type": "raw",
   "metadata": {},
   "source": [
    "Open geopotential data for the same time steps as the above track."
   ]
  },
  {
   "cell_type": "code",
   "execution_count": null,
   "metadata": {},
   "outputs": [],
   "source": [
    "f2    = xr.open_dataset(\"./data/\"+storm+\"/z.nc\").sel(\n",
    "    time=slice(date1,date2)).sel(\n",
    "    latitude=slice(latN,latS)).sel(\n",
    "    longitude=slice(lonW,lonE))\n",
    "\n",
    "lev = f2.level.values\n",
    "\n",
    "z = f2['z'][::interval]/9.81\n",
    "print(z)"
   ]
  },
  {
   "cell_type": "raw",
   "metadata": {},
   "source": [
    "Define vertical layers (pressure levels)."
   ]
  },
  {
   "cell_type": "code",
   "execution_count": null,
   "metadata": {
    "scrolled": false
   },
   "outputs": [],
   "source": [
    "print(lev)\n",
    "lower_layer = int(input('Enter 1 for 900-600 hPa lower layer and 2 for 925-700 hPa lower layer : ')) \n",
    "if (lower_layer==1):\n",
    "    listlev1=[900, 800, 700, 600]\n",
    "if (lower_layer==2):\n",
    "    listlev1=[925, 875, 825, 775, 700]\n",
    "higher_layer = int(input('Enter 1 for 600-300 hPa higher layer and 2 for 700-400 hPa higher layer : ')) \n",
    "if (higher_layer==1):\n",
    "    listlev2=[600, 500, 400, 300]\n",
    "if (higher_layer==2):\n",
    "    listlev2=[700, 600, 500, 400]"
   ]
  },
  {
   "cell_type": "markdown",
   "metadata": {},
   "source": [
    "<div class=\"alert alert-warning\">\n",
    "<b>Questions : </b>\n",
    "<p><b>1) </b>According to the hypsometric equation (derived from the hydrostatic balance) to which atmospheric parameter is the tickness of an atmospheric layer equivalent ?</p>\n",
    "    \n",
    "https://en.wikipedia.org/wiki/Hypsometric_equation\n",
    "    \n",
    "</div>"
   ]
  },
  {
   "cell_type": "markdown",
   "metadata": {},
   "source": [
    "<div class=\"alert alert-success\">\n",
    "<b>Answer </b>\n",
    "</div>"
   ]
  },
  {
   "cell_type": "markdown",
   "metadata": {},
   "source": [
    "<div class=\"alert alert-danger\">\n",
    "<p><b>Compute the lower layer thickness from the z DataArray and using xarray's sel method : thickness = Zhigh-Zlow.</b></p>\n",
    "</div>"
   ]
  },
  {
   "cell_type": "code",
   "execution_count": null,
   "metadata": {},
   "outputs": [],
   "source": [
    "print(listlev1)\n",
    "print(z)\n",
    "thickness=\n",
    "print(thickness)\n",
    "print(np.min(thickness))\n",
    "print(np.max(thickness))"
   ]
  },
  {
   "cell_type": "raw",
   "metadata": {},
   "source": [
    "Create maps of MSLP and low level thickness + storm tracking."
   ]
  },
  {
   "cell_type": "code",
   "execution_count": null,
   "metadata": {
    "scrolled": false
   },
   "outputs": [],
   "source": [
    "mslp_levels = np.arange(900,1072,2)\n",
    "#dz_levels = np.arange(3000,3525,25)\n",
    "dz_levels=np.linspace(np.min(thickness),np.max(thickness),20)\n",
    "\n",
    "projection=ccrs.PlateCarree()\n",
    "bounds = [(lonW, lonE, latS, latN)]\n",
    "#coast = cfeature.NaturalEarthFeature(category='physical', scale='10m', facecolor='none', name='coastline')\n",
    "\n",
    "for i in tqdm(range(len(time))):\n",
    "    #print(liste_time[i])\n",
    "    fig = plt.figure(figsize=(17., 12.))\n",
    "    #fig.suptitle('Storm '+storm+' - Mean Sea level Pressure and tracking',fontsize=16)\n",
    "    ax = fig.add_subplot(1, 1, 1, projection=projection)\n",
    "    ax.set_title('Storm '+storm+' - MSLP tracking and low level thickness',loc='left',fontsize=14)\n",
    "    ax.set_title(liste_time[i],loc='right',fontsize=14)\n",
    "    ax.coastlines()\n",
    "    #ax.add_feature(coast, edgecolor='gray')\n",
    "    ax.set_xticks(np.linspace(-180, 180, 37), crs=ccrs.PlateCarree())\n",
    "    ax.set_yticks(np.linspace(-90, 90, 19), crs=ccrs.PlateCarree())\n",
    "    lon_formatter = LongitudeFormatter(zero_direction_label=True)\n",
    "    lat_formatter = LatitudeFormatter()\n",
    "    ax.xaxis.set_major_formatter(lon_formatter)\n",
    "    ax.yaxis.set_major_formatter(lat_formatter)\n",
    "    ax.set_extent(*bounds, crs=ccrs.PlateCarree())\n",
    "    \n",
    "    # MSLP in contours and min max\n",
    "    c1 = ax.contour(lon, lat, mslp[i,:,:], levels=mslp_levels, \n",
    "                    colors=\"black\", linewidths=1, transform=ccrs.PlateCarree())\n",
    "    ax.clabel(c1,fmt='%4.1i',fontsize=10)\n",
    "    ax.scatter(liste_lon[i],liste_lat[i], c='green', transform=ccrs.PlateCarree())\n",
    "    ax.plot(liste_lon[0:i+1],liste_lat[0:i+1], c='red', marker='+', transform=ccrs.PlateCarree())\n",
    "    plot_maxmin_points(mslp[i,:,:], 'min', 25,\n",
    "                       symbol='L', color='b', transform=ccrs.PlateCarree())\n",
    "    cf = ax.contourf(lon, lat, thickness[i,:,:], levels=dz_levels, \n",
    "                     cmap='jet', transform=ccrs.PlateCarree())\n",
    "    cb = fig.colorbar(cf, orientation='horizontal', aspect=65, shrink=0.5, pad=0.1)\n",
    "    cb.set_label('m')\n",
    "    #plt.show()\n",
    "    figname='./anim/'+storm+'/MSL_thickness_tracking_'+liste_time[i]\n",
    "    fig.savefig(figname+'.png',bbox_inches='tight')\n",
    "    plt.close()"
   ]
  },
  {
   "cell_type": "raw",
   "metadata": {},
   "source": [
    "Create animation."
   ]
  },
  {
   "cell_type": "code",
   "execution_count": null,
   "metadata": {
    "scrolled": false
   },
   "outputs": [],
   "source": [
    "gif_filepath = './anim/'+storm+'/MSL_thickness_tracking_.gif'\n",
    "make_animation(gif_filepath)"
   ]
  },
  {
   "cell_type": "markdown",
   "metadata": {},
   "source": [
    "# Choosing a radius for the computation of the CPS parameters"
   ]
  },
  {
   "cell_type": "raw",
   "metadata": {},
   "source": [
    "Create maps of MSLP and low level thickness + storm tracking limited in a circle of 500km radius around the center of the storm."
   ]
  },
  {
   "cell_type": "code",
   "execution_count": null,
   "metadata": {
    "scrolled": false
   },
   "outputs": [],
   "source": [
    "max_dist = 500      # max distance in km\n",
    "\n",
    "for i in tqdm(range(len(time))):\n",
    "    #print(liste_time[i])\n",
    "    data_slp = mslp[i,:,:]\n",
    "    data_thickness = thickness[i,:,:]\n",
    "        \n",
    "    # Center coordinates\n",
    "    clat = liste_lat[i]\n",
    "    clon = liste_lon[i] \n",
    "        \n",
    "    # Calculate distance between center and all other lat/lon pairs\n",
    "    distance = haversine(lon[:,np.newaxis], lat, clon, clat)\n",
    "    distance2=np.transpose(distance)\n",
    "    # Mask distance array where distance > max_dist\n",
    "    distance_m = np.ma.masked_greater(distance2, max_dist)\n",
    "    # Mask the data array based on the distance mask\n",
    "    data_slp_m = np.ma.masked_where(distance2 > max_dist, data_slp)\n",
    "    data_thickness_m = np.ma.masked_where(distance2 > max_dist, data_thickness)\n",
    "\n",
    "    fig = plt.figure(figsize=(17., 12.))\n",
    "    ax = fig.add_subplot(1, 1, 1, projection=projection)\n",
    "    ax.set_title('Storm '+storm+' - MSLP tracking and low level thickness',loc='left',fontsize=14)\n",
    "    ax.set_title(liste_time[i],loc='right',fontsize=14)\n",
    "    ax.coastlines()\n",
    "    #ax.add_feature(coast, edgecolor='gray')\n",
    "    ax.set_xticks(np.linspace(-180, 180, 37), crs=ccrs.PlateCarree())\n",
    "    ax.set_yticks(np.linspace(-90, 90, 19), crs=ccrs.PlateCarree())\n",
    "    lon_formatter = LongitudeFormatter(zero_direction_label=True)\n",
    "    lat_formatter = LatitudeFormatter()\n",
    "    ax.xaxis.set_major_formatter(lon_formatter)\n",
    "    ax.yaxis.set_major_formatter(lat_formatter)\n",
    "    ax.set_extent(*bounds, crs=ccrs.PlateCarree())\n",
    "    # MSLP in contours and min max\n",
    "    c1 = ax.contour(lon, lat, data_slp_m, levels=mslp_levels,\n",
    "                    colors=\"black\", linewidths=1, transform=ccrs.PlateCarree())\n",
    "    ax.clabel(c1,fmt='%4.1i',fontsize=10)\n",
    "    ax.scatter(liste_lon[i],liste_lat[i], c='green', transform=ccrs.PlateCarree())\n",
    "    ax.plot(liste_lon[0:i+1],liste_lat[0:i+1], c='red', marker='+', transform=ccrs.PlateCarree())\n",
    "    cf = ax.contourf(lon, lat, data_thickness_m, levels=dz_levels, \n",
    "                     cmap='jet', transform=ccrs.PlateCarree())\n",
    "    cb = fig.colorbar(cf, orientation='horizontal', aspect=65, shrink=0.5, pad=0.1)\n",
    "    cb.set_label('m')\n",
    "    #plt.show()\n",
    "    figname='./anim/'+storm+'/MSL_thickness_tracking_zoom_'+liste_time[i]\n",
    "    fig.savefig(figname+'.png',bbox_inches='tight')\n",
    "    plt.close()"
   ]
  },
  {
   "cell_type": "raw",
   "metadata": {},
   "source": [
    "Create animation."
   ]
  },
  {
   "cell_type": "code",
   "execution_count": null,
   "metadata": {
    "scrolled": false
   },
   "outputs": [],
   "source": [
    "gif_filepath = './anim/'+storm+'/MSL_thickness_tracking_zoom_.gif'\n",
    "make_animation(gif_filepath)"
   ]
  },
  {
   "cell_type": "markdown",
   "metadata": {},
   "source": [
    "<div class=\"alert alert-warning\">\n",
    "<b>Questions : </b>\n",
    "<p><b>1) </b>Is the default 500km radius suitable to isolate medicane Zorbas from its environment ?</p>\n",
    "</div>"
   ]
  },
  {
   "cell_type": "markdown",
   "metadata": {},
   "source": [
    "<div class=\"alert alert-success\">\n",
    "<b>Answer </b>\n",
    "</div>"
   ]
  },
  {
   "cell_type": "raw",
   "metadata": {},
   "source": [
    "Choose the definitive radius for the computation of the CPS parameters."
   ]
  },
  {
   "cell_type": "code",
   "execution_count": null,
   "metadata": {},
   "outputs": [],
   "source": [
    "max_dist = int(input('Enter the value of the maximum radius (in km) to compute the CPS diagrams : ')) "
   ]
  },
  {
   "cell_type": "markdown",
   "metadata": {},
   "source": [
    "# Thermal asymmetry parameter B : storm-motion-relative low level thickness gradient across the cyclone\n",
    "\n",
    "$$B=h*(\\overline{Z_{600}-Z_{900}})_R-\\overline{Z_{600}-Z_{900}})_L$$\n",
    "\n",
    "h = hemisphere (1 = NH, -1 = SH).\n",
    "\n",
    "$$(\\overline{Z_{600}-Z_{900}})_R$$ : mean 900-600hPa thickness in semicircle right of motion\n",
    "\n",
    "$$(\\overline{Z_{600}-Z_{900}})_L$$ : mean 900-600hPa thickness in semicircle left of motion"
   ]
  },
  {
   "cell_type": "raw",
   "metadata": {},
   "source": [
    "Select a date."
   ]
  },
  {
   "cell_type": "code",
   "execution_count": null,
   "metadata": {
    "scrolled": false
   },
   "outputs": [],
   "source": [
    "print('Available dates : ', liste_time[0:-1])\n",
    "\n",
    "date = input('Enter a date (YYYY-MM-DDTXX) : ')\n",
    "data = thickness.sel(time=date)\n",
    "data_slp = mslp.sel(time=date)\n",
    "print(data)\n",
    "\n",
    "idate = list(liste_time).index(date)\n",
    "print('index of date : ', idate)"
   ]
  },
  {
   "cell_type": "raw",
   "metadata": {},
   "source": [
    "Angle of the storm trajectory (compared to the next timestep)."
   ]
  },
  {
   "cell_type": "code",
   "execution_count": null,
   "metadata": {
    "scrolled": false
   },
   "outputs": [],
   "source": [
    "clat = liste_lat[idate]\n",
    "clon = liste_lon[idate]\n",
    "ang=get_bearing(clat, clon, liste_lat[idate+1], liste_lon[idate+1])"
   ]
  },
  {
   "cell_type": "raw",
   "metadata": {},
   "source": [
    "Compute the angle between the center of the storm and all the lat/lon pairs of the domain."
   ]
  },
  {
   "cell_type": "code",
   "execution_count": null,
   "metadata": {
    "scrolled": false
   },
   "outputs": [],
   "source": [
    "qq_ang_all=np.zeros([len(lon),len(lat)],dtype='f')\n",
    "for x in range(0,len(lon)):\n",
    "    for y in range(0,len(lat)):\n",
    "        qq_ang_all[x,y]=get_bearing(clat, clon, lat[y], lon[x])     \n",
    "qq_ang_all=np.transpose(qq_ang_all)"
   ]
  },
  {
   "cell_type": "raw",
   "metadata": {},
   "source": [
    "Create thickness quadrants to the right and to the left of the trajectory. We have to distinguish the storm travelling to the NE and SE and the storm travelling to the NW and SW."
   ]
  },
  {
   "cell_type": "code",
   "execution_count": null,
   "metadata": {
    "scrolled": false
   },
   "outputs": [],
   "source": [
    "Zl=np.zeros([len(lat),len(lon)],dtype='f')\n",
    "Zr=np.zeros([len(lat),len(lon)],dtype='f')\n",
    "\n",
    "for jlat in range(0,len(lat)-1):\n",
    "    for jlon in range(0,len(lon)-1):\n",
    "        #set values along great circle line to missing (neither left nor right)\n",
    "        if qq_ang_all[jlat,jlon] == ang:\n",
    "            Zl[jlat,jlon] = 0\n",
    "            Zr[jlat,jlon] = 0\n",
    "        #for storm travel angles in quadrants 1 and 2 (NE and SE)\n",
    "        elif (ang >= 0 and ang < 180):\n",
    "            if (qq_ang_all[jlat,jlon] > ang and qq_ang_all[jlat,jlon]  < ang+180):\n",
    "                Zl[jlat,jlon] = 0\n",
    "                Zr[jlat,jlon] = data[jlat,jlon]\n",
    "            else:\n",
    "                Zr[jlat,jlon] = 0\n",
    "                Zl[jlat,jlon] = data[jlat,jlon]\n",
    "        #for storm travel angles in quadrants 3 and 4 (NW and SW)\n",
    "        elif (ang >= 180 and ang < 360):\n",
    "            if (qq_ang_all[jlat,jlon] > ang-180 and qq_ang_all[jlat,jlon] < ang):\n",
    "                Zr[jlat,jlon] = 0\n",
    "                Zl[jlat,jlon] = data[jlat,jlon]\n",
    "            else:\n",
    "                Zl[jlat,jlon] = 0\n",
    "                Zr[jlat,jlon] = data[jlat,jlon]"
   ]
  },
  {
   "cell_type": "raw",
   "metadata": {},
   "source": [
    "We keep the data only below the specified radius around the storm center. Replace zeros by Nans to avoid problems when computing the mean."
   ]
  },
  {
   "cell_type": "code",
   "execution_count": null,
   "metadata": {
    "scrolled": false
   },
   "outputs": [],
   "source": [
    "# Calculate distance between center and all other lat/lon pairs\n",
    "distance = haversine(lon[:,np.newaxis], lat, clon, clat)\n",
    "distance2=np.transpose(distance)\n",
    "# Mask distance array where distance > max_dist\n",
    "distance_m = np.ma.masked_greater(distance2, max_dist)\n",
    "# Mask the data array based on the distance mask\n",
    "data_slp_m = np.ma.masked_where(distance2 > max_dist, data_slp)\n",
    "Zr_m = np.ma.masked_where(distance2 > max_dist, Zr)\n",
    "Zl_m = np.ma.masked_where(distance2 > max_dist, Zl)\n",
    "\n",
    "Zr_m[Zr_m == 0] = np.nan\n",
    "Zl_m[Zl_m == 0] = np.nan"
   ]
  },
  {
   "cell_type": "raw",
   "metadata": {},
   "source": [
    "Compute the thermal asymmetry parameter B. Classic mean or weighted average."
   ]
  },
  {
   "cell_type": "code",
   "execution_count": null,
   "metadata": {
    "scrolled": false
   },
   "outputs": [],
   "source": [
    "mean_calc = int(input('Enter 1 for classic average and 2 for weighted mean average : ')) \n",
    "\n",
    "if (mean_calc==1):\n",
    "    # cyclone thermal symmetry parameter using classic average\n",
    "    Zr_mean=np.nanmean(Zr_m)\n",
    "    Zl_mean=np.nanmean(Zl_m)\n",
    "    B=Zr_mean-Zl_mean\n",
    "    print('Right quadrant thickness : ', Zr_mean)\n",
    "    print('Left quadrant thickness : ', Zl_mean)\n",
    "\n",
    "if (mean_calc==2):\n",
    "    # cyclone thermal symmetry parameter using weighted average\n",
    "    Zr_m = xr.DataArray(Zr_m)\n",
    "    Zl_m = xr.DataArray(Zl_m)\n",
    "    weights = xr.DataArray(np.cos(np.deg2rad(Zr_m.shape[0])))\n",
    "    Zr_weighted = Zr_m.weighted(weights)\n",
    "    Zl_weighted = Zl_m.weighted(weights)\n",
    "    Zr_weighted_mean=Zr_weighted.mean()\n",
    "    Zl_weighted_mean=Zl_weighted.mean()\n",
    "    B=Zr_weighted_mean-Zl_weighted_mean\n",
    "    print(Zr_weighted_mean)\n",
    "    print(Zl_weighted_mean)\n",
    "\n",
    "if clat<0:\n",
    "    B=-B"
   ]
  },
  {
   "cell_type": "raw",
   "metadata": {},
   "source": [
    "Verification on a map of the computation of B."
   ]
  },
  {
   "cell_type": "code",
   "execution_count": null,
   "metadata": {
    "scrolled": false
   },
   "outputs": [],
   "source": [
    "levels=np.arange(0,370,10)\n",
    "\n",
    "fig = plt.figure(figsize=(17., 12.))\n",
    "ax = fig.add_subplot(1, 1, 1, projection=projection)\n",
    "fig.suptitle('Storm '+storm+' - MSLP, low level thickness and right/left quadrants',fontsize=16)\n",
    "ax.set_title(liste_time[idate]+' : B = '+str(int(B)),fontsize=14)\n",
    "ax.coastlines()\n",
    "#ax.add_feature(coast, edgecolor='gray')\n",
    "ax.set_xticks(np.linspace(-180, 180, 37), crs=ccrs.PlateCarree())\n",
    "ax.set_yticks(np.linspace(-90, 90, 19), crs=ccrs.PlateCarree())\n",
    "lon_formatter = LongitudeFormatter(zero_direction_label=True)\n",
    "lat_formatter = LatitudeFormatter()\n",
    "ax.xaxis.set_major_formatter(lon_formatter)\n",
    "ax.yaxis.set_major_formatter(lat_formatter)\n",
    "ax.set_extent(*bounds, crs=ccrs.PlateCarree())\n",
    " \n",
    "c0 = ax.contour(lon, lat, data_slp_m, mslp_levels,\n",
    "                colors=\"black\", linewidths=1, transform=ccrs.PlateCarree())\n",
    "ax.clabel(c0,fmt='%4.1i',fontsize=10)\n",
    "cf1 = ax.contourf(lon, lat, Zr_m, dz_levels,\n",
    "                 cmap='jet', transform=ccrs.PlateCarree())\n",
    "cf2 = ax.contourf(lon, lat, Zl_m, dz_levels,\n",
    "                 cmap='jet', transform=ccrs.PlateCarree())\n",
    "cb = fig.colorbar(cf1, orientation='horizontal', aspect=65, shrink=0.5, pad=0.1)\n",
    "cb.set_label('m')\n",
    "c3 = ax.contour(lon, lat, qq_ang_all, levels,\n",
    "                colors=\"grey\", linewidths=0.5, alpha=0.8, transform=ccrs.PlateCarree())\n",
    "ax.clabel(c3,fmt='%4.1i',fontsize=10)\n",
    "\n",
    "plt.show()\n",
    "\n",
    "figname='./figs/'+storm+'/Thermal_symmetry'\n",
    "fig.savefig(figname+'.png',bbox_inches='tight')"
   ]
  },
  {
   "cell_type": "markdown",
   "metadata": {},
   "source": [
    "<div class=\"alert alert-warning\">\n",
    "<b>Questions : </b>\n",
    "<p><b>1) </b>According to the definition of B parameter, do B values close to zero charaterise a symmetric or asymmetric thermal structure ?</p>\n",
    "<p><b>2) </b>According to the definition of B parameter, do strong B values charaterise a symmetric or asymmetric thermal structure ?</p></div>"
   ]
  },
  {
   "cell_type": "markdown",
   "metadata": {},
   "source": [
    "<div class=\"alert alert-success\">\n",
    "<b>Answer </b>\n",
    "</div>"
   ]
  },
  {
   "cell_type": "raw",
   "metadata": {},
   "source": [
    "Compute B and create maps for all timesteps (warning : the computation for the last date is not possible because the next time is not available to compute the bearing angle)."
   ]
  },
  {
   "cell_type": "code",
   "execution_count": null,
   "metadata": {
    "scrolled": false
   },
   "outputs": [],
   "source": [
    "B_series=[]\n",
    "\n",
    "for i in tqdm(range(len(time)-1)):\n",
    "    #print(liste_time[i])\n",
    "    data = thickness[i,:,:]\n",
    "    data_slp = mslp[i,:,:]\n",
    "\n",
    "    # Center coordinates\n",
    "    clat = liste_lat[i]\n",
    "    clon = liste_lon[i]\n",
    "\n",
    "    # Calculate bearing between center and all other lat/lon pairs\n",
    "    qq_ang_all=np.zeros([len(lon),len(lat)],dtype='f')\n",
    "    for x in range(0,len(lon)):\n",
    "        for y in range(0,len(lat)):\n",
    "            qq_ang_all[x,y]=get_bearing(clat, clon, lat[y], lon[x])     \n",
    "    qq_ang_all=np.transpose(qq_ang_all)\n",
    "\n",
    "    # Angle of travel of the center\n",
    "    ang=get_bearing(clat, clon, liste_lat[i+1], liste_lon[i+1])\n",
    "\n",
    "    # Define right/left cadrans\n",
    "    Zl=np.zeros([len(lat),len(lon)],dtype='f')\n",
    "    Zr=np.zeros([len(lat),len(lon)],dtype='f')\n",
    "\n",
    "    for jlat in range(0,len(lat)-1):\n",
    "        for jlon in range(0,len(lon)-1):\n",
    "            #set values along great circle line to missing (neither left nor right)\n",
    "            if qq_ang_all[jlat,jlon] == ang:\n",
    "                Zl[jlat,jlon] = 0\n",
    "                Zr[jlat,jlon] = 0\n",
    "            #for storm travel angles in quadrants 1 and 2 (NE and SE)\n",
    "            elif (ang >= 0 and ang < 180):\n",
    "                if (qq_ang_all[jlat,jlon] > ang and qq_ang_all[jlat,jlon]  < ang+180):\n",
    "                    Zl[jlat,jlon] = 0\n",
    "                    Zr[jlat,jlon] = data[jlat,jlon]\n",
    "                else:\n",
    "                    Zr[jlat,jlon] = 0\n",
    "                    Zl[jlat,jlon] = data[jlat,jlon]\n",
    "            #for storm travel angles in quadrants 3 and 4 (NW and SW)\n",
    "            elif (ang >= 180 and ang < 360):\n",
    "                if (qq_ang_all[jlat,jlon] > ang-180 and qq_ang_all[jlat,jlon] < ang):\n",
    "                    Zr[jlat,jlon] = 0\n",
    "                    Zl[jlat,jlon] = data[jlat,jlon]\n",
    "                else:\n",
    "                    Zl[jlat,jlon] = 0\n",
    "                    Zr[jlat,jlon] = data[jlat,jlon]\n",
    "\n",
    "    # Calculate distance between center and all other lat/lon pairs\n",
    "    distance = haversine(lon[:,np.newaxis], lat, clon, clat)\n",
    "    distance2=np.transpose(distance)\n",
    "    # Mask distance array where distance > max_dist\n",
    "    distance_m = np.ma.masked_greater(distance2, max_dist)\n",
    "    # Mask the data array based on the distance mask\n",
    "    data_slp_m = np.ma.masked_where(distance2 > max_dist, data_slp)\n",
    "    Zr_m = np.ma.masked_where(distance2 > max_dist, Zr)\n",
    "    Zl_m = np.ma.masked_where(distance2 > max_dist, Zl)\n",
    "    \n",
    "    Zr_m[Zr_m == 0] = np.nan\n",
    "    Zl_m[Zl_m == 0] = np.nan\n",
    "\n",
    "    # cyclone thermal symmetry parameter using weighted average\n",
    "    #Zr_mean=np.nanmean(Zr_m)\n",
    "    #Zl_mean=np.nanmean(Zl_m)\n",
    "    #B=Zr_mean-Zl_mean\n",
    "\n",
    "    Zr_m = xr.DataArray(Zr_m)\n",
    "    Zl_m = xr.DataArray(Zl_m)\n",
    "    weights = xr.DataArray(np.cos(np.deg2rad(Zr_m.shape[0])))\n",
    "    Zr_weighted = Zr_m.weighted(weights)\n",
    "    Zl_weighted = Zl_m.weighted(weights)\n",
    "    Zr_weighted_mean=Zr_weighted.mean()\n",
    "    Zl_weighted_mean=Zl_weighted.mean()\n",
    "    B=int(Zr_weighted_mean-Zl_weighted_mean)\n",
    "\n",
    "    if clat<0:\n",
    "        B=-B\n",
    "    #print('B = ',B)\n",
    "    \n",
    "    B_series.append(B)\n",
    "\n",
    "    fig = plt.figure(figsize=(17., 12.))\n",
    "    ax = fig.add_subplot(1, 1, 1, projection=projection)\n",
    "    fig.suptitle('Storm '+storm+' - MSLP, low level thickness and right/left quadrants',fontsize=16)\n",
    "    ax.set_title(liste_time[i]+' : B = '+str(int(B)),fontsize=14)\n",
    "    ax.coastlines()\n",
    "    #ax.add_feature(coast, edgecolor='gray')\n",
    "    ax.set_xticks(np.linspace(-180, 180, 37), crs=ccrs.PlateCarree())\n",
    "    ax.set_yticks(np.linspace(-90, 90, 19), crs=ccrs.PlateCarree())\n",
    "    lon_formatter = LongitudeFormatter(zero_direction_label=True)\n",
    "    lat_formatter = LatitudeFormatter()\n",
    "    ax.xaxis.set_major_formatter(lon_formatter)\n",
    "    ax.yaxis.set_major_formatter(lat_formatter)\n",
    "    ax.set_extent(*bounds, crs=ccrs.PlateCarree())\n",
    "\n",
    "    c0 = ax.contour(lon, lat, data_slp_m, mslp_levels,\n",
    "                    colors=\"black\", linewidths=1, transform=ccrs.PlateCarree())\n",
    "    ax.clabel(c0,fmt='%4.1i',fontsize=10)\n",
    "    cf1 = ax.contourf(lon, lat, Zr_m, dz_levels,\n",
    "                     cmap='jet', transform=ccrs.PlateCarree())\n",
    "    cf2 = ax.contourf(lon, lat, Zl_m, dz_levels,\n",
    "                     cmap='jet', transform=ccrs.PlateCarree())\n",
    "    cb = fig.colorbar(cf1, orientation='horizontal', aspect=65, shrink=0.5, pad=0.1)\n",
    "    cb.set_label('m')\n",
    "    c3 = ax.contour(lon, lat, qq_ang_all, levels,\n",
    "                    colors=\"grey\", linewidths=0.5, alpha=0.8, transform=ccrs.PlateCarree())\n",
    "    ax.clabel(c3,fmt='%4.1i',fontsize=10)\n",
    "\n",
    "    #plt.show()\n",
    "    figname='./anim/'+storm+'/Thermal_symmetry_'+liste_time[i]\n",
    "    fig.savefig(figname+'.png',bbox_inches='tight')\n",
    "    plt.close()"
   ]
  },
  {
   "cell_type": "raw",
   "metadata": {},
   "source": [
    "Create animation."
   ]
  },
  {
   "cell_type": "code",
   "execution_count": null,
   "metadata": {
    "scrolled": false
   },
   "outputs": [],
   "source": [
    "gif_filepath = './anim/'+storm+'/Thermal_symmetry.gif'\n",
    "make_animation(gif_filepath)"
   ]
  },
  {
   "cell_type": "raw",
   "metadata": {},
   "source": [
    "Plot the timeseries of the thermal assymetry parameter B."
   ]
  },
  {
   "cell_type": "code",
   "execution_count": null,
   "metadata": {
    "scrolled": false
   },
   "outputs": [],
   "source": [
    "print(B_series)\n",
    "\n",
    "fig = plt.figure(figsize=(15., 8.))\n",
    "ax = fig.add_subplot(111)\n",
    "ax.set_title('Storm '+storm+' - low level thermal asymmetry parameter (B)'\n",
    "             ,loc='left',fontsize=14)\n",
    "ax.set_title(liste_time[0]+'-'+liste_time[-2],loc='right',fontsize=14)\n",
    "ax.plot(time[0:-1], B_series, label='B')\n",
    "plt.axhline(y=10, color='r')\n",
    "\n",
    "figname='./figs/'+storm+'/Thermal_symmetry_timeseries'\n",
    "fig.savefig(figname+'.png',bbox_inches='tight')"
   ]
  },
  {
   "cell_type": "markdown",
   "metadata": {},
   "source": [
    "<div class=\"alert alert-warning\">\n",
    "<b>Questions : </b>\n",
    "<p><b>1) </b>Discuss the evolution of the low level thermal asymmetry of the system during its life cycle.</p>\n",
    "</div>"
   ]
  },
  {
   "cell_type": "markdown",
   "metadata": {},
   "source": [
    "<div class=\"alert alert-success\">\n",
    "<b>Answer </b>\n",
    "</div>"
   ]
  },
  {
   "cell_type": "markdown",
   "metadata": {},
   "source": [
    "# Warm core/ Cold core parameter (using the thermal wind relation)\n",
    "\n",
    "Approximation of the height gradient on an isobaric surface (i.e. magnitude of the geostrophic wind) :\n",
    "\n",
    "$$\\Delta{Z}=Z_{max}-Z_{min}$$\n",
    "\n",
    "Magnitude of the cyclone thermal wind measured as the vertical profile of cyclone geopotential height gradient (cyclone strength) :\n",
    "\n",
    "$$-V_T^L=\\frac{\\partial{\\Delta Z}}{\\partial{ln(P)}}_{900}^{600}$$\n",
    "\n",
    "$$-V_T^U=\\frac{\\partial{\\Delta Z}}{\\partial{ln(P)}}_{600}^{300}$$"
   ]
  },
  {
   "cell_type": "raw",
   "metadata": {},
   "source": [
    "Select a date."
   ]
  },
  {
   "cell_type": "code",
   "execution_count": null,
   "metadata": {
    "scrolled": false
   },
   "outputs": [],
   "source": [
    "print('Available dates : ', liste_time[0:-1])\n",
    "\n",
    "date = input('Enter a date (YYYY-MM-DDTXX) : ')\n",
    "data = thickness.sel(time=date)\n",
    "data_slp = mslp.sel(time=date)\n",
    "print(data)\n",
    "\n",
    "idate = list(liste_time).index(date)\n",
    "print('index of date : ', idate)"
   ]
  },
  {
   "cell_type": "raw",
   "metadata": {},
   "source": [
    "Compute deltaZ = Zmax - Zmin (isobaric surface slope) for every vertical level in each layer (just one timestep here)."
   ]
  },
  {
   "cell_type": "code",
   "execution_count": null,
   "metadata": {
    "scrolled": false
   },
   "outputs": [],
   "source": [
    "clat = liste_lat[idate]\n",
    "clon = liste_lon[idate]\n",
    "\n",
    "deltaZ1=[]\n",
    "deltaZ2=[]\n",
    "\n",
    "#low layer loop\n",
    "for plev in listlev1:\n",
    "\n",
    "    ilev = list(lev).index(plev)\n",
    "    data_z1 = z[idate,ilev,:,:]\n",
    "\n",
    "    # Calculate distance between center and all other lat/lon pairs\n",
    "    distance = haversine(lon[:,np.newaxis], lat, clon, clat)\n",
    "    distance2=np.transpose(distance)\n",
    "    # Mask distance array where distance > max_dist\n",
    "    distance_m = np.ma.masked_greater(distance2, max_dist)\n",
    "    # Mask the data array based on the distance mask\n",
    "    data_z1_m = np.ma.masked_where(distance2 > max_dist, data_z1)\n",
    "    zmin=np.min(data_z1_m)\n",
    "    zmax=np.max(data_z1_m)\n",
    "    delta_z1=zmax-zmin\n",
    "    deltaZ1.append(int(delta_z1))\n",
    "\n",
    "#high layer loop\n",
    "for plev in listlev2:\n",
    "\n",
    "    ilev = list(lev).index(plev)\n",
    "    data_z2 = z[idate,ilev,:,:]\n",
    "\n",
    "    # Calculate distance between center and all other lat/lon pairs\n",
    "    distance = haversine(lon[:,np.newaxis], lat, clon, clat)\n",
    "    distance2=np.transpose(distance)\n",
    "    # Mask distance array where distance > max_dist\n",
    "    distance_m = np.ma.masked_greater(distance2, max_dist)\n",
    "    # Mask the data array based on the distance mask\n",
    "    data_z2_m = np.ma.masked_where(distance2 > max_dist, data_z2)\n",
    "    zmin=np.min(data_z2_m)\n",
    "    zmax=np.max(data_z2_m)\n",
    "    delta_z2=zmax-zmin\n",
    "    deltaZ2.append(int(delta_z2))"
   ]
  },
  {
   "cell_type": "raw",
   "metadata": {},
   "source": [
    "Verification of the deltaZ computation (top layer, last vertical level)."
   ]
  },
  {
   "cell_type": "code",
   "execution_count": null,
   "metadata": {
    "scrolled": false
   },
   "outputs": [],
   "source": [
    "print(zmax)\n",
    "print(zmin)\n",
    "\n",
    "fig = plt.figure(figsize=(17., 12.))\n",
    "ax = fig.add_subplot(1, 1, 1, projection=projection)\n",
    "fig.suptitle('Storm '+storm+' - Geopotential at '+str(plev)+ 'hPa',fontsize=16)\n",
    "ax.set_title(liste_time[idate]+ ' : zmax-zmin = '+str(int(delta_z2)),fontsize=14)\n",
    "ax.coastlines()\n",
    "#ax.add_feature(coast, edgecolor='gray')\n",
    "ax.set_xticks(np.linspace(-180, 180, 37), crs=ccrs.PlateCarree())\n",
    "ax.set_yticks(np.linspace(-90, 90, 19), crs=ccrs.PlateCarree())\n",
    "lon_formatter = LongitudeFormatter(zero_direction_label=True)\n",
    "lat_formatter = LatitudeFormatter()\n",
    "ax.xaxis.set_major_formatter(lon_formatter)\n",
    "ax.yaxis.set_major_formatter(lat_formatter)\n",
    "ax.set_extent(*bounds, crs=ccrs.PlateCarree())\n",
    " \n",
    "cf = ax.contourf(lon, lat, data_z2_m,\n",
    "                     cmap='jet', transform=ccrs.PlateCarree())\n",
    "cb = fig.colorbar(cf, orientation='horizontal', aspect=65, shrink=0.5, pad=0.1)\n",
    "cb.set_label('m')\n",
    "\n",
    "plt.show()\n",
    "\n",
    "figname='./figs/'+storm+'/deltaz_map'\n",
    "fig.savefig(figname+'.png',bbox_inches='tight')"
   ]
  },
  {
   "cell_type": "raw",
   "metadata": {},
   "source": [
    "Compute ln(P) for each layer."
   ]
  },
  {
   "cell_type": "code",
   "execution_count": null,
   "metadata": {
    "scrolled": false
   },
   "outputs": [],
   "source": [
    "print(\"Lower layer vertical levels : \", listlev1)\n",
    "print(\"Lower layer deltaZ : \", deltaZ1)\n",
    "print(\"Higher layer vertical levels : \", listlev2)\n",
    "print(\"Higher layer deltaZ : \", deltaZ2)\n",
    "\n",
    "listlev11=[n * 100 for n in listlev1]\n",
    "lnP1=np.log(listlev11)\n",
    "\n",
    "listlev22=[n * 100 for n in listlev2]\n",
    "lnP2=np.log(listlev22)"
   ]
  },
  {
   "cell_type": "markdown",
   "metadata": {},
   "source": [
    "<div class=\"alert alert-warning\">\n",
    "<b>Questions : </b>\n",
    "<p><b>1) </b>According to the thermal wind relation, if the slope of an isobaric surface increases with height within a layer above the system center, is it the sign of the presence of a cold core or warm core system ?</p>\n",
    "<p><b>2) </b>What is the sign of -$V_T$ parameter for a cold (resp. warm) core system ?</p>\n",
    "</div>"
   ]
  },
  {
   "cell_type": "markdown",
   "metadata": {},
   "source": [
    "<div class=\"alert alert-success\">\n",
    "<b>Answer </b>\n",
    "</div>"
   ]
  },
  {
   "cell_type": "raw",
   "metadata": {},
   "source": [
    "Computation of -VTU and -VTL for all timesteps. (warning: the last date is not available)."
   ]
  },
  {
   "cell_type": "code",
   "execution_count": null,
   "metadata": {
    "scrolled": false
   },
   "outputs": [],
   "source": [
    "VTL_series=[]\n",
    "VTU_series=[]\n",
    "\n",
    "for i in tqdm(range(len(time)-1)):\n",
    "    #print(liste_time[i])\n",
    "\n",
    "    # Center coordinates\n",
    "    clat = liste_lat[i]\n",
    "    clon = liste_lon[i]\n",
    "    deltaZ1=[]\n",
    "    deltaZ2=[]\n",
    "\n",
    "    for plev in listlev1:\n",
    "\n",
    "        ilev = list(lev).index(plev)\n",
    "        data_z1 = z[i,ilev,:,:]\n",
    "        # Calculate distance between center and all other lat/lon pairs\n",
    "        distance = haversine(lon[:,np.newaxis], lat, clon, clat)\n",
    "        distance2=np.transpose(distance)\n",
    "        # Mask distance array where distance > max_dist\n",
    "        distance_m = np.ma.masked_greater(distance2, max_dist)\n",
    "        # Mask the data array based on the distance mask\n",
    "        data_z1_m = np.ma.masked_where(distance2 > max_dist, data_z1)\n",
    "        zmin=np.min(data_z1_m)\n",
    "        zmax=np.max(data_z1_m)\n",
    "        delta_z1=zmax-zmin\n",
    "        deltaZ1.append(int(delta_z1))\n",
    "\n",
    "    for plev in listlev2:\n",
    "\n",
    "        ilev = list(lev).index(plev)\n",
    "        data_z2 = z[i,ilev,:,:]\n",
    "\n",
    "        # Calculate distance between center and all other lat/lon pairs\n",
    "        distance = haversine(lon[:,np.newaxis], lat, clon, clat)\n",
    "        distance2=np.transpose(distance)\n",
    "        # Mask distance array where distance > max_dist\n",
    "        distance_m = np.ma.masked_greater(distance2, max_dist)\n",
    "        # Mask the data array based on the distance mask\n",
    "        data_z2_m = np.ma.masked_where(distance2 > max_dist, data_z2)\n",
    "        zmin=np.min(data_z2_m)\n",
    "        zmax=np.max(data_z2_m)\n",
    "        delta_z2=zmax-zmin\n",
    "        deltaZ2.append(int(delta_z2))\n",
    "\n",
    "    coef1=(deltaZ1[-1]-deltaZ1[0])/(lnP1[-1]-lnP1[0])\n",
    "    VTL_series.append(int(coef1))\n",
    "\n",
    "    coef2=(deltaZ2[-1]-deltaZ2[0])/(lnP2[-1]-lnP2[0])\n",
    "    VTU_series.append(int(coef2))"
   ]
  },
  {
   "cell_type": "raw",
   "metadata": {},
   "source": [
    "Plot the timeseries of the parameters -VTU and -VTL (-VT>0 = warm core ; -VT<0 = cold core)."
   ]
  },
  {
   "cell_type": "code",
   "execution_count": null,
   "metadata": {
    "scrolled": false
   },
   "outputs": [],
   "source": [
    "print(VTU_series)\n",
    "print(VTL_series)\n",
    "\n",
    "fig = plt.figure(figsize=(15., 8.))\n",
    "ax = fig.add_subplot(111)\n",
    "ax.set_title('Storm '+storm+' - Low level thermal wind parameter'\n",
    "             ,loc='left',fontsize=14)\n",
    "ax.set_title(liste_time[0]+'-'+liste_time[-2],loc='right',fontsize=14)\n",
    "ax.plot(time[0:-1], VTL_series, label='-$VT_T^L$')\n",
    "\n",
    "plt.axhline(y=0, color='r')\n",
    "\n",
    "plt.show()\n",
    "\n",
    "figname='./figs/'+storm+'/VTL_timeseries'\n",
    "fig.savefig(figname+'.png',bbox_inches='tight')\n",
    "\n",
    "fig = plt.figure(figsize=(15., 8.))\n",
    "ax = fig.add_subplot(111)\n",
    "ax.set_title('Storm '+storm+' - High level thermal wind parameter'\n",
    "             ,loc='left',fontsize=14)\n",
    "ax.set_title(liste_time[0]+'-'+liste_time[-2],loc='right',fontsize=14)\n",
    "ax.plot(time[0:-1], VTU_series, label='-$VT_T^U$')\n",
    "\n",
    "plt.axhline(y=0, color='r')\n",
    "\n",
    "plt.show()\n",
    "\n",
    "figname='./figs/'+storm+'/VTU_timeseries'\n",
    "fig.savefig(figname+'.png',bbox_inches='tight')"
   ]
  },
  {
   "cell_type": "markdown",
   "metadata": {},
   "source": [
    "<div class=\"alert alert-warning\">\n",
    "<b>Questions : </b>\n",
    "<p><b>1) </b>Discuss the evolution of the low and high level thermal cores of the system during its life cycle.</p>\n",
    "</div>"
   ]
  },
  {
   "cell_type": "markdown",
   "metadata": {},
   "source": [
    "<div class=\"alert alert-success\">\n",
    "<b>Answer </b>\n",
    "</div>"
   ]
  },
  {
   "cell_type": "raw",
   "metadata": {},
   "source": [
    "Plot the CPS diagrams."
   ]
  },
  {
   "cell_type": "code",
   "execution_count": null,
   "metadata": {
    "scrolled": false
   },
   "outputs": [],
   "source": [
    "time_str=[x for x in range(len(time)-1)]\n",
    "date_str=[x for x in range(len(time)-1)]\n",
    "for i in range(len(time)-1):\n",
    "    time_str[i] = str(time[i])\n",
    "    date_str[i] = time_str[i][5:13]\n",
    "\n",
    "################# CPS1 #################\n",
    "\n",
    "if storm=='Zorbas':\n",
    "    x1=-200\n",
    "    x2=300\n",
    "    y1=-20\n",
    "    y2=60\n",
    "\n",
    "else:\n",
    "    x1=-600\n",
    "    x2=300\n",
    "    y1=-20\n",
    "    y2=125\n",
    "\n",
    "fig = plt.figure(figsize=(15., 8.))\n",
    "ax = fig.add_subplot(111)\n",
    "ax.set_title('Storm '+storm,loc='left',fontsize=14)\n",
    "ax.set_title(liste_time[0]+'-'+liste_time[-2],loc='right',fontsize=14)\n",
    "plt.axhline(y=10, color='grey', linewidth=10,zorder=1)\n",
    "plt.axvline(x=0, color='grey', linewidth=10,zorder=1)\n",
    "plt.plot(VTL_series, B_series)\n",
    "plt.scatter(VTL_series,  B_series, c='k',zorder=2)\n",
    "plt.scatter(VTL_series[0], B_series[0], c='green',zorder=2)\n",
    "plt.scatter(VTL_series[-1], B_series[-1], c='red',zorder=2)\n",
    "plt.xlabel(\"$-V_T^L$ [low level thermal wind]\", fontsize = 16)\n",
    "plt.ylabel(\"B [low level thickness asymmetry]\", fontsize = 16)\n",
    "\n",
    "plt.text(x1-35,-15,'Symmetric', rotation=90., color='red', fontsize = 14)\n",
    "plt.text(x1-35, 20,'Asymmetric', rotation=90., color='red', fontsize = 14)\n",
    "plt.text(-100, -30,'Cold core', rotation=0., color='blue', fontsize = 14)\n",
    "plt.text(100, -30,'Warm core', rotation=0., color='red', fontsize = 14)\n",
    "plt.xlim(x1, x2)\n",
    "plt.ylim(y1, y2)\n",
    "    \n",
    "for i,type in enumerate(date_str):\n",
    "    x = VTL_series[i]\n",
    "    y = B_series[i]\n",
    "    plt.text(x, y, type, fontsize=9)\n",
    "    \n",
    "xrange = [(-600, 600)]\n",
    "yrange1 = (-20, 30)\n",
    "c1 = collections.BrokenBarHCollection(xrange, yrange1, facecolor='blue', alpha=0.2)\n",
    "ax.add_collection(c1)\n",
    "xrange = [(-600, 600)]\n",
    "yrange1 = (10, 130)\n",
    "c1 = collections.BrokenBarHCollection(xrange, yrange1, facecolor='blue', alpha=0.2)\n",
    "ax.add_collection(c1)\n",
    "xrange = [(0, 300)]\n",
    "yrange1 = (-20, 30)\n",
    "c1 = collections.BrokenBarHCollection(xrange, yrange1, facecolor='red', alpha=0.2)\n",
    "ax.add_collection(c1)\n",
    "xrange = [(0, 300)]\n",
    "yrange1 = (10, 130)\n",
    "c1 = collections.BrokenBarHCollection(xrange, yrange1, facecolor='red', alpha=0.2)\n",
    "ax.add_collection(c1)\n",
    "\n",
    "plt.show()\n",
    "\n",
    "figname='./figs/'+storm+'/CPS1'\n",
    "fig.savefig(figname+'.png',bbox_inches='tight')\n",
    "\n",
    "################# CPS2 #################\n",
    "\n",
    "if storm=='Zorbas':\n",
    "    x1=-300\n",
    "    x2=300\n",
    "    y1=-300\n",
    "    y2=300\n",
    "\n",
    "else:\n",
    "    x1=-600\n",
    "    x2=300\n",
    "    y1=-600\n",
    "    y2=300\n",
    "\n",
    "fig = plt.figure(figsize=(15., 8.))\n",
    "ax = fig.add_subplot(111)\n",
    "ax.set_title('Storm '+storm,loc='left',fontsize=14)\n",
    "ax.set_title(liste_time[0]+'-'+liste_time[-2],loc='right',fontsize=14)\n",
    "plt.axhline(y=0, color='grey', linewidth=10,zorder=1)\n",
    "plt.axvline(x=0, color='grey', linewidth=10,zorder=1)\n",
    "plt.plot(VTL_series, VTU_series)\n",
    "plt.scatter(VTL_series, VTU_series, c='k',zorder=2)\n",
    "plt.scatter(VTL_series[0], VTU_series[0], c='green',zorder=2)\n",
    "plt.scatter(VTL_series[-1], VTU_series[-1], c='red',zorder=2)\n",
    "\n",
    "plt.xlabel(\"$-V_T^L$ [Low level thermal wind]\", fontsize = 16)\n",
    "plt.ylabel(\"$-V_T^U$ [High level thermal wind]\", fontsize = 16)\n",
    "plt.text(-200, y1+20,'Deep cold core', rotation=0., color='blue', fontsize = 14)\n",
    "plt.text(90, 270,'Deep warm core', rotation=0., color='red', fontsize = 14)\n",
    "plt.text(90, y1+20,'Shallow warm core', rotation=0., color='orange', fontsize = 14)\n",
    "\n",
    "plt.xlim(x1, x2)\n",
    "plt.ylim(y1, y2)\n",
    "\n",
    "for i,type in enumerate(date_str):\n",
    "    x = VTL_series[i]\n",
    "    y = VTU_series[i]\n",
    "    plt.text(x, y, type, fontsize=9)\n",
    "\n",
    "xrange = [(0, 300)]\n",
    "yrange1 = (0, 300)\n",
    "c1 = collections.BrokenBarHCollection(xrange, yrange1, facecolor='r', alpha=0.2)\n",
    "ax.add_collection(c1)\n",
    "xrange = [(-600, 600)]\n",
    "yrange1 = (-600, 600)\n",
    "c1 = collections.BrokenBarHCollection(xrange, yrange1, facecolor='b', alpha=0.2)\n",
    "ax.add_collection(c1)\n",
    "xrange = [(-600, 600)]\n",
    "yrange1 = (0, 300)\n",
    "c1 = collections.BrokenBarHCollection(xrange, yrange1, facecolor='orange', alpha=0.2)\n",
    "ax.add_collection(c1)\n",
    "xrange = [(0, 300)]\n",
    "yrange1 = (-600, 600)\n",
    "c1 = collections.BrokenBarHCollection(xrange, yrange1, facecolor='orange', alpha=0.2)\n",
    "ax.add_collection(c1)\n",
    "\n",
    "plt.show()\n",
    "\n",
    "figname='./figs/'+storm+'/CPS2'\n",
    "fig.savefig(figname+'.png',bbox_inches='tight')"
   ]
  },
  {
   "cell_type": "markdown",
   "metadata": {},
   "source": [
    "<div class=\"alert alert-warning\">\n",
    "<b>Questions : </b>\n",
    "<p><b>1) </b>According to the CPS diagram, when does the medicane acquire a symmetric deep warm core structure  ?</p>\n",
    "</div>"
   ]
  },
  {
   "cell_type": "markdown",
   "metadata": {},
   "source": [
    "<div class=\"alert alert-success\">\n",
    "<b>Answer </b>\n",
    "</div>"
   ]
  },
  {
   "cell_type": "markdown",
   "metadata": {},
   "source": [
    "# Extra task : CPS diagrams for Huricane Leslie over the Atlantic"
   ]
  },
  {
   "cell_type": "markdown",
   "metadata": {},
   "source": [
    "<div class=\"alert alert-danger\">\n",
    "<p><b>1) Edit the Leslie.txt file created in the first notebook (extra task) to create a Leslie2.txt file with only 6-hourly values from 2018-10-10 00UTC to 2018-10-13 18UTC.</b></p>\n",
    "<p><b>2) Modifiy the notebook to use the MSLP and geopotential ERA5 data that are stored in the Leslie2 folder (6-hourly values over the 20N-45N 60W-0W domain and from october 10th to october 13th).</b></p>\n",
    "<p><b>2) Compute the CPS diagramm for Leslie.</b></p>\n",
    "</div>"
   ]
  }
 ],
 "metadata": {
  "kernelspec": {
   "display_name": "Python 3",
   "language": "python",
   "name": "python3"
  },
  "language_info": {
   "codemirror_mode": {
    "name": "ipython",
    "version": 3
   },
   "file_extension": ".py",
   "mimetype": "text/x-python",
   "name": "python",
   "nbconvert_exporter": "python",
   "pygments_lexer": "ipython3",
   "version": "3.7.11"
  }
 },
 "nbformat": 4,
 "nbformat_minor": 1
}
