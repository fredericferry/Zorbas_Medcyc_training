{
 "cells": [
  {
   "cell_type": "markdown",
   "metadata": {},
   "source": [
    "# Medicane Zorbas (september 2018) : ECMWF ensemble forecast\n",
    "\n",
    "*Author : Frédéric FERRY - Météo-France / Ecole Nationale de la Météorologie (June 2023)*\n",
    "\n",
    "Python concepts :\n",
    "- Open netcdf files (xarray)\n",
    "- Create maps (matplotlib, cartopy)\n",
    "\n",
    "Advanced concepts :\n",
    "- Perform EOF analysis of ensemble forecasts (eofs package)\n",
    "- Perform k-means clustering (sklearn package)"
   ]
  },
  {
   "cell_type": "code",
   "execution_count": null,
   "metadata": {
    "scrolled": true
   },
   "outputs": [],
   "source": [
    "import os\n",
    "import numpy as np\n",
    "\n",
    "import xarray as xr\n",
    "\n",
    "import matplotlib as mpl\n",
    "import matplotlib.pyplot as plt\n",
    "from mpl_toolkits.axes_grid1 import AxesGrid\n",
    "import matplotlib.patches as mpatches\n",
    "\n",
    "import metpy.calc as mpcalc\n",
    "from metpy.units import units\n",
    "\n",
    "from cartopy import config\n",
    "import cartopy.crs as ccrs\n",
    "from cartopy.mpl.geoaxes import GeoAxes\n",
    "from cartopy.mpl.ticker import LongitudeFormatter, LatitudeFormatter\n",
    "\n",
    "from eofs.standard import Eof\n",
    "from sklearn.cluster import KMeans\n",
    "import scipy.spatial.distance as sdist\n",
    "\n",
    "from tqdm import tqdm"
   ]
  },
  {
   "cell_type": "markdown",
   "metadata": {},
   "source": [
    "# Part 1 : open ECMWF ensemble forecasts"
   ]
  },
  {
   "cell_type": "raw",
   "metadata": {},
   "source": [
    "Open ensemble forecast data : 20180924 0000 UTC run."
   ]
  },
  {
   "cell_type": "code",
   "execution_count": null,
   "metadata": {
    "scrolled": false
   },
   "outputs": [],
   "source": [
    "EPS_Z500 = './data/EPS_2018092400_Z500.nc'\n",
    "EPS_T500 = './data/EPS_2018092400_T500.nc'\n",
    "EPS_MSLP = './data/EPS_2018092400_MSLP.nc'\n",
    "EPS_PV320 = './data/EPS_2018092400_PV320.nc'\n",
    "EPS_qT850 = './data/EPS_2018092400_qT850.nc'\n",
    "\n",
    "z500_eps    = xr.open_dataset(EPS_Z500)\n",
    "t500_eps    = xr.open_dataset(EPS_T500)\n",
    "mslp_eps   = xr.open_dataset(EPS_MSLP)\n",
    "pv320_eps   = xr.open_dataset(EPS_PV320)\n",
    "qT850_eps   = xr.open_dataset(EPS_qT850)\n",
    "\n",
    "print(z500_eps)\n",
    "print(t500_eps)\n",
    "print(mslp_eps)\n",
    "print(pv320_eps)\n",
    "print(qT850_eps)\n",
    "\n",
    "members = np.linspace(1, 50, 50)\n",
    "members_str =[str(i) for i in range(1,51)]"
   ]
  },
  {
   "cell_type": "raw",
   "metadata": {},
   "source": [
    "Select a geographical domain."
   ]
  },
  {
   "cell_type": "markdown",
   "metadata": {},
   "source": [
    "<div class=\"alert alert-danger\">\n",
    "<p><b>Reduce the geographical domain to 25N-50N 0W-30E.</b></p>\n",
    "</div>"
   ]
  },
  {
   "cell_type": "code",
   "execution_count": null,
   "metadata": {
    "scrolled": true
   },
   "outputs": [],
   "source": [
    "latS = \n",
    "latN = \n",
    "lonW = \n",
    "lonE = "
   ]
  },
  {
   "cell_type": "raw",
   "metadata": {},
   "source": [
    "Select a specific forecast time (focussing on the medicane phase of Zorbas)."
   ]
  },
  {
   "cell_type": "code",
   "execution_count": null,
   "metadata": {
    "scrolled": true
   },
   "outputs": [],
   "source": [
    "print(\"Available forecast dates for the 2018-09-24 0000 UTC run: \")\n",
    "print(z500_eps.time.values)\n",
    "date = input(\"Enter the forecast date around the expeted 'medicane' time of the YYYY-MM-DDTXX : \")\n",
    "date_str=date[0:13]\n",
    "print(date_str)"
   ]
  },
  {
   "cell_type": "raw",
   "metadata": {},
   "source": [
    "Open data for the specified lat/lon domain and forecast time."
   ]
  },
  {
   "cell_type": "code",
   "execution_count": null,
   "metadata": {
    "scrolled": false
   },
   "outputs": [],
   "source": [
    "z500_eps    = z500_eps.sel(latitude=slice(latN,latS)).sel(longitude=slice(lonW,lonE)).sel(time=date)\n",
    "t500_eps    = t500_eps.sel(latitude=slice(latN,latS)).sel(longitude=slice(lonW,lonE)).sel(time=date)\n",
    "mslp_eps    = mslp_eps.sel(latitude=slice(latN,latS)).sel(longitude=slice(lonW,lonE)).sel(time=date)\n",
    "pv320_eps    = pv320_eps.sel(latitude=slice(latN,latS)).sel(longitude=slice(lonW,lonE)).sel(time=date)\n",
    "qT850_eps    = qT850_eps.sel(latitude=slice(latN,latS)).sel(longitude=slice(lonW,lonE)).sel(time=date)\n",
    "\n",
    "lat = z500_eps.latitude.values\n",
    "lon = z500_eps.longitude.values"
   ]
  },
  {
   "cell_type": "raw",
   "metadata": {},
   "source": [
    "Extract variables (z500, t500, MSLP, PV320K, q850, t850)."
   ]
  },
  {
   "cell_type": "code",
   "execution_count": null,
   "metadata": {
    "scrolled": false
   },
   "outputs": [],
   "source": [
    "z500_ens=z500_eps['z']/9.81\n",
    "t500_ens=t500_eps['t']-273.15\n",
    "mslp_ens=mslp_eps['msl']/100\n",
    "pv320_ens=pv320_eps['pv']*1e6\n",
    "q850_ens=qT850_eps['q']\n",
    "t850_ens=qT850_eps['t']\n",
    "\n",
    "print(z500_ens)\n",
    "print(t500_ens)\n",
    "print(mslp_ens)\n",
    "print(pv320_ens)\n",
    "print(q850_ens)\n",
    "print(t850_ens)"
   ]
  },
  {
   "cell_type": "raw",
   "metadata": {},
   "source": [
    "Compute 850hPa equivalent potential temperature (metpy functions)."
   ]
  },
  {
   "cell_type": "code",
   "execution_count": null,
   "metadata": {
    "scrolled": true
   },
   "outputs": [],
   "source": [
    "Td = mpcalc.dewpoint_from_specific_humidity(850* units.hPa, t850_ens.values* units.kelvin, q850_ens.values* units('kg/kg'))\n",
    "Thetae_ens=mpcalc.equivalent_potential_temperature(850* units.hPa, t850_ens, Td)\n",
    "print(Thetae_ens.shape)\n",
    "print(np.min(Thetae_ens))\n",
    "print(np.max(Thetae_ens))"
   ]
  },
  {
   "cell_type": "raw",
   "metadata": {},
   "source": [
    "Color map and levels for the variables."
   ]
  },
  {
   "cell_type": "code",
   "execution_count": null,
   "metadata": {
    "scrolled": true
   },
   "outputs": [],
   "source": [
    "clevs_z = np.linspace(5500, 6000, 21) # z500\n",
    "clevs_mslp = np.arange(994, 1040, 2) # MSLP\n",
    "clevs_pv = np.linspace(1, 6, 11) # PV320K\n",
    "clevs_pv2 = np.linspace(1, 4, 11) # PV320K\n",
    "clevs_the = np.arange(270,345,5) #thetae850\n",
    "clevs_t500=np.arange(-26,-4,2) # t500\n",
    "clevs_t850=np.arange(280,302,2) # t850\n",
    "\n",
    "cmap='jet'"
   ]
  },
  {
   "cell_type": "raw",
   "metadata": {},
   "source": [
    "Function for the map plots."
   ]
  },
  {
   "cell_type": "code",
   "execution_count": null,
   "metadata": {
    "scrolled": true
   },
   "outputs": [],
   "source": [
    "projection = ccrs.PlateCarree()\n",
    "\n",
    "def plot_background(ax):\n",
    "    ax.coastlines()\n",
    "    ax.gridlines(crs=ccrs.PlateCarree(), linewidth=0.5, color='gray', alpha=0.5, linestyle='-')\n",
    "    ax.set_xticks(np.linspace(-180, 180, 19), crs=projection)\n",
    "    ax.set_yticks(np.linspace(-90, 90, 19), crs=projection)\n",
    "    lon_formatter = LongitudeFormatter(zero_direction_label=True)\n",
    "    lat_formatter = LatitudeFormatter()\n",
    "    ax.xaxis.set_major_formatter(lon_formatter)\n",
    "    ax.yaxis.set_major_formatter(lat_formatter)\n",
    "    return ax"
   ]
  },
  {
   "cell_type": "markdown",
   "metadata": {},
   "source": [
    "# Part 2 : ensemble mean"
   ]
  },
  {
   "cell_type": "markdown",
   "metadata": {},
   "source": [
    "<div class=\"alert alert-danger\">\n",
    "<p><b>Compute the ensemble means for the variables Z500, T500, MSLP, PV320K and Thetae850 using the mean method of xarray : \n",
    "\n",
    "https://docs.xarray.dev/en/stable/generated/xarray.DataArray.mean.html.\n",
    "</b></p>\n",
    "</div>"
   ]
  },
  {
   "cell_type": "raw",
   "metadata": {},
   "source": [
    "Compute the ensemble means."
   ]
  },
  {
   "cell_type": "code",
   "execution_count": null,
   "metadata": {
    "scrolled": false
   },
   "outputs": [],
   "source": [
    "print(z500_ens)\n",
    "z500_mean = \n",
    "t500_mean = \n",
    "mslp_mean = \n",
    "pv320_mean = \n",
    "the_mean = "
   ]
  },
  {
   "cell_type": "raw",
   "metadata": {},
   "source": [
    "Plot ensemble mean maps (ZT500, MSLP-THE850, PV320K)."
   ]
  },
  {
   "cell_type": "code",
   "execution_count": null,
   "metadata": {
    "scrolled": true
   },
   "outputs": [],
   "source": [
    "fig = plt.figure(figsize=(15, 5))\n",
    "fig.suptitle('Ensemble mean : '+date_str, fontsize=14)\n",
    "\n",
    "ax = fig.add_subplot(131, projection=ccrs.PlateCarree())\n",
    "plt.title('ZT500 ensemble mean', fontsize=10, loc='center')\n",
    "plot_background(ax)\n",
    "cf = ax.contourf(lon, lat, t500_mean, levels=clevs_t500, cmap=cmap, extend='both', transform=ccrs.PlateCarree())\n",
    "c = ax.contour(lon, lat, z500_mean, levels=clevs_z, colors='black', linewidths=0.5, transform=ccrs.PlateCarree())\n",
    "ax.clabel(c, fmt='%4.1i', fontsize=10)\n",
    "cb = fig.colorbar(cf, orientation='horizontal', aspect=65, shrink=1, pad=0.1, extendrect='True')\n",
    "cb.set_label('°C', fontsize=12)\n",
    "\n",
    "ax = fig.add_subplot(132, projection=ccrs.PlateCarree())\n",
    "plt.title('MSLP-THE850 ensemble mean', fontsize=10, loc='center')\n",
    "plot_background(ax)\n",
    "cf = ax.contourf(lon, lat, the_mean, levels=clevs_the, cmap=cmap, extend='both', transform=ccrs.PlateCarree())\n",
    "c = ax.contour(lon, lat, mslp_mean, levels=clevs_mslp, colors='black', linewidths=0.5, transform=ccrs.PlateCarree())\n",
    "ax.clabel(c, fmt='%4.1i', fontsize=10)\n",
    "cb = fig.colorbar(cf, orientation='horizontal', aspect=65, shrink=1, pad=0.1, extendrect='True')\n",
    "cb.set_label('K', fontsize=12)\n",
    "\n",
    "ax = fig.add_subplot(133, projection=ccrs.PlateCarree())\n",
    "plt.title('PV320K ensemble mean', fontsize=10, loc='center')\n",
    "plot_background(ax)\n",
    "cf = ax.contourf(lon, lat, pv320_mean, levels=clevs_pv2, cmap=cmap, extend='max', transform=ccrs.PlateCarree())\n",
    "c = ax.contour(lon, lat, pv320_mean, levels=clevs_pv2, colors='black', linewidths=0.5, transform=ccrs.PlateCarree())\n",
    "ax.clabel(c, fmt='%4.1i', fontsize=10)\n",
    "cb = fig.colorbar(cf, orientation='horizontal', aspect=65, shrink=1, pad=0.1, extendrect='True')\n",
    "cb.set_label('PVU', fontsize=12)\n",
    "\n",
    "plt.show()\n",
    "\n",
    "figname='./figs/ZT500_MSLP_THE_PV320_ENS_MEAN_'+date_str\n",
    "fig.savefig(figname+'.png',bbox_inches='tight')"
   ]
  },
  {
   "cell_type": "markdown",
   "metadata": {},
   "source": [
    "<div class=\"alert alert-warning\">\n",
    "<b>Questions : </b>\n",
    "<p><b>1) </b>Do the ensemble mean fields indicate favorable conditions for the formation of a medicane? </p>\n",
    "</div>"
   ]
  },
  {
   "cell_type": "markdown",
   "metadata": {},
   "source": [
    "<div class=\"alert alert-success\">\n",
    "<b>Answer </b>\n",
    "</div>"
   ]
  },
  {
   "cell_type": "markdown",
   "metadata": {},
   "source": [
    "# Part 3 : ensemble spread"
   ]
  },
  {
   "cell_type": "markdown",
   "metadata": {},
   "source": [
    "<div class=\"alert alert-danger\">\n",
    "<p><b>Compute the ensemble spread (i.e standard deviation of the ensemble members) for the variables Z500 and MSLP using the std method of xarray :\n",
    "    \n",
    "https://docs.xarray.dev/en/stable/generated/xarray.DataArray.std.html\n",
    "</b></p>\n",
    "</div>"
   ]
  },
  {
   "cell_type": "raw",
   "metadata": {},
   "source": [
    "Compute the ensemble spreads (Z500, MSLP)."
   ]
  },
  {
   "cell_type": "code",
   "execution_count": null,
   "metadata": {
    "scrolled": false
   },
   "outputs": [],
   "source": [
    "print(z500_ens)\n",
    "z_spread = \n",
    "mslp_spread = "
   ]
  },
  {
   "cell_type": "raw",
   "metadata": {},
   "source": [
    "Ensemble spread map (Z500)."
   ]
  },
  {
   "cell_type": "code",
   "execution_count": null,
   "metadata": {
    "scrolled": false
   },
   "outputs": [],
   "source": [
    "clevs_spread1 = np.arange(10, 70, 5) # z500 spread\n",
    "\n",
    "fig = plt.figure(figsize=(10, 10))\n",
    "fig.suptitle('Geopotential height at 500hPa : ensemble spread', fontsize=14)\n",
    "ax = fig.add_subplot(111, projection=ccrs.PlateCarree())\n",
    "plt.title('Forecast time : '+date_str,size=10, loc='center')\n",
    "plot_background(ax)\n",
    "cf = ax.contourf(lon, lat, z_spread, clevs_spread1, transform=ccrs.PlateCarree(), cmap=cmap, extend='both')\n",
    "cb = fig.colorbar(cf, orientation='horizontal', aspect=65, shrink=1, pad=0.1, extendrect='True')\n",
    "cb.set_label('mgp', fontsize=12)\n",
    "plt.show()\n",
    "\n",
    "figname='./figs/Z500_ENS_SPREAD_'+date_str\n",
    "fig.savefig(figname+'.png',bbox_inches='tight')"
   ]
  },
  {
   "cell_type": "markdown",
   "metadata": {},
   "source": [
    "<div class=\"alert alert-warning\">\n",
    "<b>Questions : </b>\n",
    "<p><b>1) </b>Locate the area with the maximum spread for the variable Z500. What does this spread indicates ?</p>\n",
    "</div>"
   ]
  },
  {
   "cell_type": "markdown",
   "metadata": {},
   "source": [
    "<div class=\"alert alert-success\">\n",
    "<b>Answer </b>\n",
    "</div>"
   ]
  },
  {
   "cell_type": "raw",
   "metadata": {},
   "source": [
    "Ensemble spread map (MSLP)."
   ]
  },
  {
   "cell_type": "code",
   "execution_count": null,
   "metadata": {
    "scrolled": false
   },
   "outputs": [],
   "source": [
    "clevs_spread2 = np.arange(1, 6.5, 0.5) # z500 spread\n",
    "\n",
    "fig = plt.figure(figsize=(10, 10))\n",
    "fig.suptitle('Mean Sea Level Pressure : ensemble spread', fontsize=14)\n",
    "ax = fig.add_subplot(111, projection=ccrs.PlateCarree())\n",
    "plt.title('Forecast time : '+date_str,size=10, loc='center')\n",
    "plot_background(ax)\n",
    "cf = ax.contourf(lon, lat, mslp_spread, clevs_spread2, transform=ccrs.PlateCarree(), cmap=cmap, extend='both')\n",
    "cb = fig.colorbar(cf, orientation='horizontal', aspect=65, shrink=1, pad=0.1, extendrect='True')\n",
    "cb.set_label('hPa', fontsize=12)\n",
    "plt.show()\n",
    "\n",
    "figname='./figs/MSLP_ENS_SPREAD_'+date_str\n",
    "fig.savefig(figname+'.png',bbox_inches='tight')"
   ]
  },
  {
   "cell_type": "markdown",
   "metadata": {},
   "source": [
    "<div class=\"alert alert-warning\">\n",
    "<b>Questions : </b>\n",
    "<p><b>1) </b>Locate the area with the maximum spread for the variable MSLP. What does this spread indicates ?</p>\n",
    "</div>"
   ]
  },
  {
   "cell_type": "markdown",
   "metadata": {},
   "source": [
    "<div class=\"alert alert-success\">\n",
    "<b>Answer </b>\n",
    "</div>"
   ]
  },
  {
   "cell_type": "markdown",
   "metadata": {},
   "source": [
    "# Part 4 : spaguetti plots"
   ]
  },
  {
   "cell_type": "raw",
   "metadata": {},
   "source": [
    "Ensemble members spaguettis (Z500)."
   ]
  },
  {
   "cell_type": "code",
   "execution_count": null,
   "metadata": {
    "scrolled": false
   },
   "outputs": [],
   "source": [
    "z_number=int(input(\"Select a suitable contour value (in meters) to isolate the Z500 low in the region of maximum spread : \"))\n",
    "\n",
    "clevs_spag = np.arange(z_number, z_number+1, 1) # 5640\n",
    "\n",
    "fig = plt.figure(figsize=(15, 10))\n",
    "fig.suptitle('Geopotential height at 500hPa spaguettis : '+ str(clevs_spag)+' mgp contour', fontsize=14)\n",
    "ax = fig.add_subplot(111, projection=ccrs.PlateCarree())\n",
    "plt.title('Forecast time : '+date_str,size=10, loc='center')\n",
    "plot_background(ax)\n",
    "for i in range(len(members)):\n",
    "    c = ax.contour(lon, lat, z500_ens[i,:,:], clevs_spag, colors='blue', linewidths=1, transform=ccrs.PlateCarree())\n",
    "plt.show()\n",
    "\n",
    "figname='./figs/Z500_ENS_SPAG_'+date_str\n",
    "fig.savefig(figname+'.png',bbox_inches='tight')"
   ]
  },
  {
   "cell_type": "raw",
   "metadata": {},
   "source": [
    "Ensemble members spaguettis (MSLP)."
   ]
  },
  {
   "cell_type": "code",
   "execution_count": null,
   "metadata": {
    "scrolled": false
   },
   "outputs": [],
   "source": [
    "msl_number=int(input(\"Select a suitable contour value to isolate the medicane in the region of maximum spread : \"))\n",
    "\n",
    "clevs_spag2 = np.arange(msl_number, msl_number+1, 1) # 1005\n",
    "\n",
    "fig = plt.figure(figsize=(15, 10))\n",
    "fig.suptitle('Mean Sea Level Pressure spaguettis : '+ str(clevs_spag2)+' hPa contour', fontsize=14)\n",
    "ax = fig.add_subplot(111, projection=ccrs.PlateCarree())\n",
    "plt.title('Forecast time : '+date_str,size=10, loc='center')\n",
    "plot_background(ax)\n",
    "for i in range(len(members)):\n",
    "    c = ax.contour(lon, lat, mslp_ens[i,:,:], clevs_spag2, colors='blue', linewidths=1, transform=ccrs.PlateCarree())\n",
    "plt.show()\n",
    "\n",
    "figname='./figs/MSLP_ENS_SPAG_'+date_str\n",
    "fig.savefig(figname+'.png',bbox_inches='tight')"
   ]
  },
  {
   "cell_type": "markdown",
   "metadata": {},
   "source": [
    "<div class=\"alert alert-warning\">\n",
    "<b>Questions : </b>\n",
    "<p><b>1) How many ensemble members seem to simulate a deep low pressure system ?</b> </p>\n",
    "</div>"
   ]
  },
  {
   "cell_type": "markdown",
   "metadata": {},
   "source": [
    "<div class=\"alert alert-success\">\n",
    "<b>Answer </b>\n",
    "</div>"
   ]
  },
  {
   "cell_type": "markdown",
   "metadata": {},
   "source": [
    "# Part 5 : stamp plots"
   ]
  },
  {
   "cell_type": "raw",
   "metadata": {},
   "source": [
    "Ensemble members stamps (ZT500)"
   ]
  },
  {
   "cell_type": "code",
   "execution_count": null,
   "metadata": {
    "scrolled": false
   },
   "outputs": [],
   "source": [
    "plt_title = 'ECMWF ensemble members - ZT500. Forecast time : '+date_str\n",
    "projection = ccrs.PlateCarree()\n",
    "#axes_class = (GeoAxes, dict(projection=projection)) # latest matplotlib\n",
    "axes_class = (GeoAxes, dict(map_projection=projection))\n",
    "\n",
    "fig = plt.figure(figsize=(20,20))\n",
    "fig.suptitle(plt_title, fontsize=16)\n",
    "\n",
    "axgr = AxesGrid(fig, 111, axes_class=axes_class,\n",
    "       nrows_ncols=(10, 5),\n",
    "       axes_pad=0.6,\n",
    "       cbar_location='right',\n",
    "       cbar_mode='single', # None/single/each\n",
    "       cbar_pad=0.2,\n",
    "       cbar_size='1%',\n",
    "       label_mode='keep')\n",
    "                   \n",
    "for i, ax in enumerate(axgr):\n",
    "    plot_background(ax)\n",
    "    ax.set_title(str(i+1), fontsize=12)\n",
    "    p1 = ax.contourf(lon, lat, t500_ens[i,:,:], clevs_t500, transform=ccrs.PlateCarree(), cmap=cmap, extend='both')\n",
    "    p2 = ax.contour(lon, lat, z500_ens[i,:,:], clevs_z, colors='black', linewidths=0.2, transform=ccrs.PlateCarree())\n",
    "    axgr.cbar_axes[i].colorbar(p1)\n",
    "\n",
    "plt.show()\n",
    "\n",
    "figname='./figs/ZT500_ENS_'+date_str\n",
    "fig.savefig(figname+'.png',bbox_inches='tight')"
   ]
  },
  {
   "cell_type": "raw",
   "metadata": {},
   "source": [
    "Ensemble members stamps (MSLP-Thetae850)."
   ]
  },
  {
   "cell_type": "code",
   "execution_count": null,
   "metadata": {
    "scrolled": false
   },
   "outputs": [],
   "source": [
    "plt_title = 'ECMWF ensemble members - MSLP and $\\Theta_E$ at 850 hPa. Forecast time : '+date_str\n",
    "projection = ccrs.PlateCarree()\n",
    "\n",
    "fig = plt.figure(figsize=(20,20))\n",
    "fig.suptitle(plt_title, fontsize=16)\n",
    "\n",
    "axgr = AxesGrid(fig, 111, axes_class=axes_class,\n",
    "       nrows_ncols=(10, 5),\n",
    "       axes_pad=0.6,\n",
    "       cbar_location='right',\n",
    "       cbar_mode='single', # None/single/each\n",
    "       cbar_pad=0.2,\n",
    "       cbar_size='1%',\n",
    "       label_mode='keep')\n",
    "                   \n",
    "for i, ax in enumerate(axgr):\n",
    "    plot_background(ax)\n",
    "    ax.set_title(str(i+1), fontsize=12)\n",
    "    p1 = ax.contourf(lon, lat, Thetae_ens[i,:,:], clevs_the, transform=ccrs.PlateCarree(), cmap=cmap, extend='both')\n",
    "    p2 = ax.contour(lon, lat, mslp_ens[i,:,:], clevs_mslp, colors='black', linewidths=0.2, transform=ccrs.PlateCarree())\n",
    "    axgr.cbar_axes[i].colorbar(p1)\n",
    "\n",
    "plt.show()\n",
    "\n",
    "figname='./figs/MSLP_Thetae850_ENS_'+date_str\n",
    "fig.savefig(figname+'.png',bbox_inches='tight')"
   ]
  },
  {
   "cell_type": "raw",
   "metadata": {},
   "source": [
    "Ensemble members stamps (PV320K)."
   ]
  },
  {
   "cell_type": "code",
   "execution_count": null,
   "metadata": {
    "scrolled": false
   },
   "outputs": [],
   "source": [
    "plt_title = 'ECMWF ensemble members - PV320K. Forecast time : '+date_str\n",
    "projection = ccrs.PlateCarree()\n",
    "\n",
    "fig = plt.figure(figsize=(20,20))\n",
    "fig.suptitle(plt_title, fontsize=16)\n",
    "\n",
    "axgr = AxesGrid(fig, 111, axes_class=axes_class,\n",
    "       nrows_ncols=(10, 5),\n",
    "       axes_pad=0.6,\n",
    "       cbar_location='right',\n",
    "       cbar_mode='single', # None/single/each\n",
    "       cbar_pad=0.2,\n",
    "       cbar_size='1%',\n",
    "       label_mode='keep')\n",
    "                   \n",
    "for i, ax in enumerate(axgr):\n",
    "    plot_background(ax)\n",
    "    ax.set_title(str(i+1), fontsize=12)\n",
    "    p1 = ax.contourf(lon, lat, pv320_ens[i,:,:], clevs_pv, transform=ccrs.PlateCarree(), cmap=cmap, extend='max')\n",
    "    axgr.cbar_axes[i].colorbar(p1)\n",
    "\n",
    "plt.show()\n",
    "\n",
    "figname='./figs/PV320_ENS_'+date_str\n",
    "fig.savefig(figname+'.png',bbox_inches='tight')"
   ]
  },
  {
   "cell_type": "markdown",
   "metadata": {},
   "source": [
    "<div class=\"alert alert-warning\">\n",
    "<b>Questions : </b>\n",
    "<p><b>1) </b>Look at the different stamps and try to access the uncertainty of the forecast. How many scenarios seem to emerge in the ensemble ?</p>\n",
    "</div>"
   ]
  },
  {
   "cell_type": "markdown",
   "metadata": {},
   "source": [
    "<div class=\"alert alert-success\">\n",
    "<b>Answer </b>\n",
    "</div>"
   ]
  },
  {
   "cell_type": "markdown",
   "metadata": {},
   "source": [
    "# Part 6 (advanced) : EOF analysis of the ensemble"
   ]
  },
  {
   "cell_type": "raw",
   "metadata": {},
   "source": [
    "Compute the EOF analysis of the ensemble for the different available variables and plot the percentage of variance explained by the first 15 EOFs. Note : prior to the EOF analysis the data is centered (i.e the mean of the ensemble is removed)."
   ]
  },
  {
   "cell_type": "code",
   "execution_count": null,
   "metadata": {
    "scrolled": false
   },
   "outputs": [],
   "source": [
    "wgts = np.sqrt(np.cos(np.deg2rad(lat)))[:, np.newaxis]\n",
    "tab=[z500_ens, t500_ens, mslp_ens, pv320_ens, t850_ens]\n",
    "variables=[\"Z500\", \"T500\", \"MSLP\", \"PV320K\", \"T850\"]\n",
    "\n",
    "clevs = np.linspace(-0.01, 0.01, 11)\n",
    "\n",
    "i=0\n",
    "for var in tab :\n",
    "    data = var\n",
    "    data = np.array(data)\n",
    "    solver = Eof(data, weights=wgts)\n",
    "    varfrac = solver.varianceFraction()\n",
    "    eofs = solver.eofs()\n",
    "\n",
    "    fig = plt.figure(figsize=(15, 8))\n",
    "    fig.suptitle('ECMWF ensemble members - EOF analysis : '+variables[i]+' - '+date_str, fontsize=16)\n",
    "    ax = fig.add_subplot(121, projection=ccrs.PlateCarree())\n",
    "    varfrac1=round(varfrac[0]*100,2)\n",
    "    plt.title('EOF1 (explained variance : '+str(varfrac1)+'%)', fontsize=10, loc='center')\n",
    "    ax.coastlines()\n",
    "    cf = ax.contourf(lon, lat, eofs[0], clevs, cmap='bwr', extend='both', transform=ccrs.PlateCarree())\n",
    "    c = ax.contour(lon, lat, eofs[0], clevs, colors='black', linewidths=1, transform=ccrs.PlateCarree())\n",
    "    cb = fig.colorbar(cf, orientation='horizontal', aspect=65, shrink=0.7, pad=0.05, extendrect='True')\n",
    "\n",
    "    ax = fig.add_subplot(122, projection=ccrs.PlateCarree())\n",
    "    varfrac1=round(varfrac[1]*100,2)\n",
    "    plt.title('EOF1 (explained variance : '+str(varfrac1)+'%)', fontsize=10, loc='center')\n",
    "    ax.coastlines()\n",
    "    cf = ax.contourf(lon, lat, eofs[1], clevs, cmap='bwr', extend='both', transform=ccrs.PlateCarree())\n",
    "    c = ax.contour(lon, lat, eofs[1], clevs, colors='black', linewidths=1, transform=ccrs.PlateCarree())\n",
    "    cb = fig.colorbar(cf, orientation='horizontal', aspect=65, shrink=0.7, pad=0.05, extendrect='True')\n",
    "    plt.show()\n",
    "    print(\"% of variance explained by the first 2 EOFs : \", int(varfrac[0]*100+varfrac[1]*100))\n",
    "    i+=1"
   ]
  },
  {
   "cell_type": "markdown",
   "metadata": {},
   "source": [
    "<div class=\"alert alert-warning\">\n",
    "<b>Questions : </b>\n",
    "<p><b>1) For which variables the percentage of variance explained by the first two spatial structures (EOFs) is maximized ?</b> </p>\n",
    "</div>"
   ]
  },
  {
   "cell_type": "markdown",
   "metadata": {},
   "source": [
    "<div class=\"alert alert-success\">\n",
    "<b>Answer </b>\n",
    "</div>"
   ]
  },
  {
   "cell_type": "markdown",
   "metadata": {},
   "source": [
    "<div class=\"alert alert-danger\">\n",
    "<p><b>Choose the variable for which the EOF analysis of the ensemble will be done.</b></p>\n",
    "</div>"
   ]
  },
  {
   "cell_type": "raw",
   "metadata": {},
   "source": [
    "Data used for EOF analysis."
   ]
  },
  {
   "cell_type": "code",
   "execution_count": null,
   "metadata": {
    "scrolled": true
   },
   "outputs": [],
   "source": [
    "data = \n",
    "data = np.array(data)\n",
    "print(data.shape)"
   ]
  },
  {
   "cell_type": "raw",
   "metadata": {},
   "source": [
    "Perform the EOF analysis (with spatial weights)."
   ]
  },
  {
   "cell_type": "code",
   "execution_count": null,
   "metadata": {
    "scrolled": true
   },
   "outputs": [],
   "source": [
    "wgts = np.sqrt(np.cos(np.deg2rad(lat)))[:, np.newaxis]\n",
    "solver = Eof(data, weights=wgts)\n",
    "eofs = solver.eofs()\n",
    "pcs = solver.pcs(pcscaling=0)\n",
    "varfrac = solver.varianceFraction()\n",
    "\n",
    "print(eofs.shape)\n",
    "print(pcs.shape)\n",
    "print(np.max(eofs))\n",
    "print(np.min(eofs))\n",
    "print(np.max(pcs))\n",
    "print(np.min(pcs))"
   ]
  },
  {
   "cell_type": "raw",
   "metadata": {},
   "source": [
    "Results of the EOF analysis."
   ]
  },
  {
   "cell_type": "code",
   "execution_count": null,
   "metadata": {
    "scrolled": false
   },
   "outputs": [],
   "source": [
    "fig = plt.figure(figsize=(20,10))\n",
    "fig.suptitle('EOFs', fontsize=16)\n",
    "\n",
    "axgr = AxesGrid(fig, 111, axes_class=axes_class,\n",
    "       nrows_ncols=(3, 5),\n",
    "       axes_pad=0.6,\n",
    "       cbar_location='right',\n",
    "       cbar_mode='each', # None/single/each\n",
    "       cbar_pad=0.2,\n",
    "       cbar_size='3%',\n",
    "       label_mode='keep')\n",
    "\n",
    "for i, ax in enumerate(axgr):\n",
    "    ax.coastlines()\n",
    "    ax.set_title('EOF'+str(i+1)+' ('+str(round(varfrac[i]*100,2))+'%)', fontsize=10, loc='center')\n",
    "    cf = ax.contourf(lon, lat, eofs[i], transform=ccrs.PlateCarree(), cmap='bwr', extend='both')\n",
    "    c = ax.contour(lon, lat, eofs[i], colors='black', linewidths=1, transform=ccrs.PlateCarree())\n",
    "    axgr.cbar_axes[i].colorbar(cf)\n",
    "\n",
    "plt.show()\n",
    "\n",
    "figname='./figs/eofs_'+date_str\n",
    "fig.savefig(figname+'.png',bbox_inches='tight')\n",
    "\n",
    "fig = plt.figure(figsize=(15,6))\n",
    "fig.suptitle('PCs', fontsize=16)\n",
    "\n",
    "plt.subplots_adjust(hspace=0.5, wspace=0.4)\n",
    "\n",
    "for i in range(0, 15):\n",
    "        plt.subplot(3, 5, i+1)\n",
    "        plt.title('PC'+str(i+1))\n",
    "        plt.axhline(0, color='k', linewidth=0.5)\n",
    "        plt.bar(members, pcs[:,i], width=0.5)\n",
    "\n",
    "plt.show()\n",
    "\n",
    "figname='./figs/pcs_'+date_str\n",
    "fig.savefig(figname+'.png',bbox_inches='tight')\n",
    "             \n",
    "fig = plt.figure(figsize=(15, 8))\n",
    "fig.suptitle('Variance fraction', fontsize=16)\n",
    "\n",
    "eof_num = range(1, 16)\n",
    "plt.bar(eof_num, varfrac[0:15], width=0.5)\n",
    "plt.axhline(0, color='k')\n",
    "plt.xticks(range(1, 16))\n",
    "plt.xlabel('EOF #')\n",
    "plt.ylabel('Variance Fraction')\n",
    "plt.xlim(1, 15)\n",
    "plt.ylim(np.min(varfrac), np.max(varfrac)+0.01)\n",
    "plt.show()\n",
    "\n",
    "figname='./figs/varfrac_'+date_str\n",
    "fig.savefig(figname+'.png',bbox_inches='tight')"
   ]
  },
  {
   "cell_type": "raw",
   "metadata": {},
   "source": [
    "Plot the first 3 EOFs and PCs."
   ]
  },
  {
   "cell_type": "code",
   "execution_count": null,
   "metadata": {
    "scrolled": false
   },
   "outputs": [],
   "source": [
    "clevs = np.linspace(-0.01, 0.01, 11)\n",
    "\n",
    "fig = plt.figure(figsize=(15, 15))\n",
    "fig.suptitle('ECMWF ensemble members - EOF analysis (Z500) : '+date_str, fontsize=16)\n",
    "\n",
    "ax = fig.add_subplot(321, projection=ccrs.PlateCarree())\n",
    "varfrac1=round(varfrac[0]*100,2)\n",
    "plt.title('EOF1 ('+str(varfrac1)+'%)', fontsize=10, loc='center')\n",
    "ax.coastlines()\n",
    "cf = ax.contourf(lon, lat, eofs[0], clevs, cmap='bwr', extend='both', transform=ccrs.PlateCarree())\n",
    "c = ax.contour(lon, lat, eofs[0], clevs, colors='black', linewidths=1, transform=ccrs.PlateCarree())\n",
    "cb = fig.colorbar(cf, orientation='horizontal', aspect=65, shrink=0.7, pad=0.05, extendrect='True')\n",
    "\n",
    "ax = fig.add_subplot(322)\n",
    "plt.title('PC1')\n",
    "plt.xlabel('Member')\n",
    "pc1=np.asarray(pcs[:,0])\n",
    "colormat=np.where(pc1>0, 'red','blue')\n",
    "plt.bar(members, pc1, width=0.5, color=colormat)\n",
    "plt.axhline(0, color='k')\n",
    "#ax.set_ylim(-9000, 9000)\n",
    "\n",
    "ax = fig.add_subplot(323, projection=ccrs.PlateCarree())\n",
    "varfrac2=round(varfrac[1]*100,2)\n",
    "plt.title('EOF2 ('+str(varfrac2)+'%)', fontsize=10, loc='center')\n",
    "ax.coastlines()\n",
    "cf = ax.contourf(lon, lat, eofs[1], clevs, cmap='bwr', extend='both', transform=ccrs.PlateCarree())\n",
    "c = ax.contour(lon, lat, eofs[1], clevs, colors='black', linewidths=1, transform=ccrs.PlateCarree())\n",
    "cb = fig.colorbar(cf, orientation='horizontal', aspect=65, shrink=0.7, pad=0.05, extendrect='True')\n",
    "\n",
    "ax = fig.add_subplot(324)\n",
    "plt.title('PC2')\n",
    "plt.xlabel('Member')\n",
    "pc2=np.asarray(pcs[:,1])\n",
    "colormat=np.where(pc2>0, 'red','blue')\n",
    "plt.bar(members, pc2, width=0.5, color=colormat)\n",
    "plt.axhline(0, color='k')\n",
    "#ax.set_ylim(-9000, 9000)\n",
    "\n",
    "ax = fig.add_subplot(325, projection=ccrs.PlateCarree())\n",
    "varfrac2=round(varfrac[2]*100,2)\n",
    "plt.title('EOF2 ('+str(varfrac2)+'%)', fontsize=10, loc='center')\n",
    "ax.coastlines()\n",
    "cf = ax.contourf(lon, lat, eofs[2], clevs, cmap='bwr', extend='both', transform=ccrs.PlateCarree())\n",
    "c = ax.contour(lon, lat, eofs[2], clevs, colors='black', linewidths=1, transform=ccrs.PlateCarree())\n",
    "cb = fig.colorbar(cf, orientation='horizontal', aspect=65, shrink=0.7, pad=0.05, extendrect='True')\n",
    "\n",
    "ax = fig.add_subplot(326)\n",
    "plt.title('PC2')\n",
    "plt.xlabel('Member')\n",
    "pc3=np.asarray(pcs[:,2])\n",
    "colormat=np.where(pc3>0, 'red','blue')\n",
    "plt.bar(members, pc3, width=0.5, color=colormat)\n",
    "plt.axhline(0, color='k')\n",
    "#ax.set_ylim(-9000, 9000)\n",
    "\n",
    "figname='./figs/eofs_pcs_'+date_str\n",
    "fig.savefig(figname+'.png',bbox_inches='tight')\n",
    "\n",
    "plt.show()"
   ]
  },
  {
   "cell_type": "raw",
   "metadata": {},
   "source": [
    "Reconstruction of a member with the eofs."
   ]
  },
  {
   "cell_type": "code",
   "execution_count": null,
   "metadata": {
    "scrolled": false
   },
   "outputs": [],
   "source": [
    "#levs=clevs_t850\n",
    "levs=clevs_z\n",
    "#levs=clevs_mslp\n",
    "\n",
    "member_number=int(input(\"Enter a member number (between 1 and 50) : \"))\n",
    "\n",
    "fig = plt.figure(figsize=(10, 10))\n",
    "fig.suptitle('Reconstruction of ensemble member '+str(member_number)+' with the EOFs', fontsize=14)\n",
    "\n",
    "ax = fig.add_subplot(111, projection=ccrs.PlateCarree())\n",
    "plt.title('Z500 field', fontsize=10, loc='center')\n",
    "plot_background(ax)\n",
    "cf = ax.contourf(lon, lat, data[member_number-1,:,:], levs, transform=ccrs.PlateCarree(), cmap=cmap, extend='both')\n",
    "c = ax.contour(lon, lat, data[member_number-1,:,:], levs, colors='black', linewidths=0.2, transform=ccrs.PlateCarree())\n",
    "ax.clabel(c, fmt='%4.1i', fontsize=10)\n",
    "cb = fig.colorbar(cf, orientation='horizontal', aspect=65, shrink=0.8, pad=0.1, extendrect='True')\n",
    "cb.set_label('m', fontsize=12)\n",
    "\n",
    "plt.show()\n",
    "\n",
    "figname='./figs/reconstruction1'\n",
    "fig.savefig(figname+'.png',bbox_inches='tight')"
   ]
  },
  {
   "cell_type": "code",
   "execution_count": null,
   "metadata": {
    "scrolled": false
   },
   "outputs": [],
   "source": [
    "def reconst_eof_pc(eofs,pcs,n):\n",
    "    reconst = 0\n",
    "    for i in range(n):\n",
    "        reconst+=eofs[i]*pcs[member_number-1,i]/wgts\n",
    "    return(reconst)\n",
    "\n",
    "fig = plt.figure(figsize=(15, 15))\n",
    "fig.suptitle('Reconstruction of ensemble member '+str(member_number)+' with the EOFs', fontsize=14)\n",
    "\n",
    "for i in tqdm(range(1,16)):\n",
    "    ax = fig.add_subplot(5,3,i, projection=ccrs.PlateCarree())\n",
    "    plt.title('Reconstruction with '+str(i)+'EOFs', fontsize=10, loc='center')\n",
    "    plot_background(ax)\n",
    "    cf = ax.contourf(lon, lat, reconst_eof_pc(eofs,pcs,i)+data.mean(axis=0), levs, transform=ccrs.PlateCarree(), cmap=cmap, extend='both')\n",
    "    c = ax.contour(lon, lat, reconst_eof_pc(eofs,pcs,i)+data.mean(axis=0), levs, colors='black', linewidths=0.2, transform=ccrs.PlateCarree())\n",
    "    #cf = ax.contourf(lon, lat, solver.reconstructedField(i)[member_number-1,:,:]+data.mean(axis=0), levs, transform=ccrs.PlateCarree(), cmap=cmap, extend='both')\n",
    "    #c = ax.contour(lon, lat, solver.reconstructedField(i)[member_number-1,:,:]+data.mean(axis=0), levs, colors='black', linewidths=0.2, transform=ccrs.PlateCarree())\n",
    "    ax.clabel(c, fmt='%4.1i', fontsize=10)\n",
    "\n",
    "cb = fig.colorbar(cf, orientation='vertical', aspect=65, shrink=0.8, pad=0.1, extendrect='True')\n",
    "cb.set_label('m', fontsize=12)\n",
    "\n",
    "plt.show()\n",
    "\n",
    "figname='./figs/reconstruction2'\n",
    "fig.savefig(figname+'.png',bbox_inches='tight')"
   ]
  },
  {
   "cell_type": "markdown",
   "metadata": {},
   "source": [
    "<div class=\"alert alert-warning\">\n",
    "<b>Questions : </b>\n",
    "<p><b>1) Is the reconstruction of a ensemble member with 2 EOFs satisfying ?</b></p>\n",
    "</div>"
   ]
  },
  {
   "cell_type": "markdown",
   "metadata": {},
   "source": [
    "<div class=\"alert alert-success\">\n",
    "<b>Answer </b>\n",
    "</div>"
   ]
  },
  {
   "cell_type": "raw",
   "metadata": {},
   "source": [
    "Scatterplot of the ensemble members in PC1-PC2 phase space."
   ]
  },
  {
   "cell_type": "code",
   "execution_count": null,
   "metadata": {
    "scrolled": false
   },
   "outputs": [],
   "source": [
    "def plot_phase_space(ax):\n",
    "    plt.title('Forecast time : '+date_str)\n",
    "    plt.axhline(0, color='grey', linestyle='--')\n",
    "    plt.axvline(0, color='grey', linestyle='--')\n",
    "    plt.xlabel('PC1')\n",
    "    plt.ylabel('PC2')\n",
    "    #plt.xlim(-12000, 12000)\n",
    "    #plt.ylim(-12000, 12000)\n",
    "    return ax\n",
    "\n",
    "fig = plt.figure(figsize=(15, 15))\n",
    "ax = fig.add_subplot(111)\n",
    "fig.suptitle('Ensemble members in PC1 and PC2 phase space (Z500) ', fontsize=14)\n",
    "plot_phase_space(ax)\n",
    "plt.scatter(pcs[:,0],pcs[:,1], c = 'g', s=10)\n",
    "\n",
    "for i,type in enumerate(members_str):\n",
    "    x = pcs[i,0]\n",
    "    y = pcs[i,1]\n",
    "    plt.text(x, y, type, fontsize=8)\n",
    "\n",
    "plt.show()\n",
    "\n",
    "figname='./figs/z500_PC_2d_phase space_'+date_str\n",
    "fig.savefig(figname+'.png',bbox_inches='tight')"
   ]
  },
  {
   "cell_type": "markdown",
   "metadata": {},
   "source": [
    "<div class=\"alert alert-warning\">\n",
    "<b>Questions : </b>\n",
    "<p><b>1) According to this scatterplot in the PC1-PC2 phase space cite 2 members that are very different and two members that are very similar. Verify with the stamp plot above.</b></p>\n",
    "</div>"
   ]
  },
  {
   "cell_type": "markdown",
   "metadata": {},
   "source": [
    "<div class=\"alert alert-success\">\n",
    "<b>Answer </b>\n",
    "</div>"
   ]
  },
  {
   "cell_type": "markdown",
   "metadata": {},
   "source": [
    "# Part 7 (advanced) : k-means clustering of the members in PC phase space"
   ]
  },
  {
   "cell_type": "raw",
   "metadata": {},
   "source": [
    "Perform k-means clustering (3 clusters) in PC1 PC2 phase space."
   ]
  },
  {
   "cell_type": "code",
   "execution_count": null,
   "metadata": {
    "scrolled": true
   },
   "outputs": [],
   "source": [
    "nclusters=3\n",
    "\n",
    "pcs = np.array([pcs[:,0],pcs[:,1]])\n",
    "pcs=pcs.transpose()\n",
    "\n",
    "# Number of clusters\n",
    "kmeans = KMeans(n_clusters=nclusters)\n",
    "# Fitting the input data\n",
    "kmeans = kmeans.fit(pcs)\n",
    "# Getting the cluster labels\n",
    "cluster = kmeans.predict(pcs)\n",
    "# Centroid values\n",
    "centroids = kmeans.cluster_centers_\n",
    "\n",
    "print(cluster)\n",
    "print(cluster.shape)\n",
    "print(centroids)\n",
    "print(centroids.shape)"
   ]
  },
  {
   "cell_type": "raw",
   "metadata": {},
   "source": [
    "Compute frequency for each cluster."
   ]
  },
  {
   "cell_type": "code",
   "execution_count": null,
   "metadata": {
    "scrolled": true
   },
   "outputs": [],
   "source": [
    "nc=[list(cluster[:]).count(i) for i in range(nclusters)]\n",
    "freq=[round(x/cluster.shape[0]*100,2) for x in nc]\n",
    "print(freq)"
   ]
  },
  {
   "cell_type": "raw",
   "metadata": {},
   "source": [
    "Cluster-color correspondence."
   ]
  },
  {
   "cell_type": "code",
   "execution_count": null,
   "metadata": {
    "scrolled": true
   },
   "outputs": [],
   "source": [
    "colors=[\"blue\",\"red\", \"green\"]\n",
    "color = [colors[num] for num in cluster]\n",
    "print(cluster)\n",
    "print(color)"
   ]
  },
  {
   "cell_type": "raw",
   "metadata": {},
   "source": [
    "Scatterplot of the ensemble members in PC1-PC2 phase space + clustering."
   ]
  },
  {
   "cell_type": "code",
   "execution_count": null,
   "metadata": {
    "scrolled": false
   },
   "outputs": [],
   "source": [
    "def plot_cluster_leg(ax):\n",
    "    patch1 = mpatches.Patch(color=color[0], label='Cluster 1 : '+str(nc[0])+' ('+str(freq[0])+'%)')\n",
    "    patch2 = mpatches.Patch(color=color[1], label='Cluster 2 : '+str(nc[1])+' ('+str(freq[1])+'%)')\n",
    "    patch3 = mpatches.Patch(color=color[2], label='Cluster 3 : '+str(nc[2])+' ('+str(freq[2])+'%)')\n",
    "    all_handles = (patch1, patch2, patch3)\n",
    "    leg = ax.legend(handles=all_handles, loc='upper right')\n",
    "    return ax\n",
    "\n",
    "fig = plt.figure(figsize=(15, 15))\n",
    "ax = fig.add_subplot(111)\n",
    "fig.suptitle('Ensemble members in PC1 and PC2 phase space - Z500 K-means clustering', fontsize=14)\n",
    "plot_phase_space(ax)\n",
    "plt.scatter(pcs[:,0], pcs[:,1], c=color, s=10)\n",
    "plt.scatter(centroids[:, 0], centroids[:, 1], c=colors, s=2000, alpha=0.5, marker='.');\n",
    "plot_cluster_leg(ax)\n",
    "\n",
    "for i,type in enumerate(members_str):\n",
    "    x = pcs[i,0]\n",
    "    y = pcs[i,1]\n",
    "    plt.text(x, y, type, fontsize=8)\n",
    "\n",
    "plt.show()\n",
    "\n",
    "figname='./figs/Z500_PC_2d_phase space_clusters_'+date_str\n",
    "fig.savefig(figname+'.png',bbox_inches='tight')"
   ]
  },
  {
   "cell_type": "raw",
   "metadata": {},
   "source": [
    "Ensemble members spaguettis with clustering (Z500)."
   ]
  },
  {
   "cell_type": "code",
   "execution_count": null,
   "metadata": {
    "scrolled": false
   },
   "outputs": [],
   "source": [
    "fig = plt.figure(figsize=(15, 10))\n",
    "fig.suptitle('Geopotential height at 500hPa spaguettis with clustering. Forecast time : '+date_str, fontsize=14)\n",
    "ax = fig.add_subplot(111, projection=ccrs.PlateCarree())\n",
    "plt.title(str(clevs_spag)+' mgp contour',size=10, loc='center')\n",
    "plot_background(ax)\n",
    "for i in range(len(members)):\n",
    "    c = ax.contour(lon, lat, z500_ens[i,:,:], clevs_spag, colors=color[i], linewidths=1, transform=ccrs.PlateCarree())\n",
    "plt.show()\n",
    "\n",
    "figname='./figs/ZT500_ENS_SPAG_cluster_'+date_str\n",
    "fig.savefig(figname+'.png',bbox_inches='tight')"
   ]
  },
  {
   "cell_type": "markdown",
   "metadata": {},
   "source": [
    "<div class=\"alert alert-warning\">\n",
    "<b>Questions : </b>\n",
    "<p><b>1) Discuss the 3 clusters in terms of positionning of the 500hPa low.</b></p>\n",
    "</div>"
   ]
  },
  {
   "cell_type": "markdown",
   "metadata": {},
   "source": [
    "<div class=\"alert alert-success\">\n",
    "<b>Answer </b>\n",
    "</div>"
   ]
  },
  {
   "cell_type": "raw",
   "metadata": {},
   "source": [
    "Ensemble members spaguettis (MSLP)."
   ]
  },
  {
   "cell_type": "code",
   "execution_count": null,
   "metadata": {
    "scrolled": false
   },
   "outputs": [],
   "source": [
    "fig = plt.figure(figsize=(15, 10))\n",
    "fig.suptitle('Mean Sea Level Pressure spaguettis. Forecast time : '+date_str, fontsize=14)\n",
    "ax = fig.add_subplot(111, projection=ccrs.PlateCarree())\n",
    "plt.title(str(clevs_spag2)+' hPa contour',size=10, loc='center')\n",
    "plot_background(ax)\n",
    "for i in range(len(members)):\n",
    "    c = ax.contour(lon, lat, mslp_ens[i,:,:], clevs_spag2, colors=color[i], linewidths=1, transform=ccrs.PlateCarree())\n",
    "plt.show()\n",
    "\n",
    "figname='./figs/MSLP_ENS_SPAG_cluster_'+date_str\n",
    "fig.savefig(figname+'.png',bbox_inches='tight')"
   ]
  },
  {
   "cell_type": "markdown",
   "metadata": {},
   "source": [
    "<div class=\"alert alert-warning\">\n",
    "<b>Questions : </b>\n",
    "<p><b>1) Discuss the 3 clusters in terms of localization of the low level low pressure system. In with cluster seems to lie the medicane scenario ?</b></p>\n",
    "</div>"
   ]
  },
  {
   "cell_type": "markdown",
   "metadata": {},
   "source": [
    "<div class=\"alert alert-success\">\n",
    "<b>Answer </b>\n",
    "</div>"
   ]
  },
  {
   "cell_type": "raw",
   "metadata": {},
   "source": [
    "Compute cluster composites (Z500, T500, MSLP, PV320K)."
   ]
  },
  {
   "cell_type": "code",
   "execution_count": null,
   "metadata": {
    "scrolled": false
   },
   "outputs": [],
   "source": [
    "id_cluster1=np.any([cluster==0],axis=0)\n",
    "id_cluster2=np.any([cluster==1],axis=0)\n",
    "id_cluster3=np.any([cluster==2],axis=0)\n",
    "\n",
    "print(cluster)\n",
    "print(id_cluster1)\n",
    "print(id_cluster2)\n",
    "print(id_cluster3)\n",
    "\n",
    "z_c1 = z500_ens[id_cluster1,:,:].mean(axis=0)\n",
    "z_c2 = z500_ens[id_cluster2,:,:].mean(axis=0)\n",
    "z_c3 = z500_ens[id_cluster3,:,:].mean(axis=0)\n",
    "\n",
    "t500_c1 = t500_ens[id_cluster1,:,:].mean(axis=0)\n",
    "t500_c2 = t500_ens[id_cluster2,:,:].mean(axis=0)\n",
    "t500_c3 = t500_ens[id_cluster3,:,:].mean(axis=0)\n",
    "\n",
    "mslp_c1 = mslp_ens[id_cluster1,:,:].mean(axis=0)\n",
    "mslp_c2 = mslp_ens[id_cluster2,:,:].mean(axis=0)\n",
    "mslp_c3 = mslp_ens[id_cluster3,:,:].mean(axis=0)\n",
    "\n",
    "the_c1 = Thetae_ens[id_cluster1,:,:].mean(axis=0)\n",
    "the_c2 = Thetae_ens[id_cluster2,:,:].mean(axis=0)\n",
    "the_c3 = Thetae_ens[id_cluster3,:,:].mean(axis=0)\n",
    "\n",
    "pv_c1 = pv320_ens[id_cluster1,:,:].mean(axis=0)\n",
    "pv_c2 = pv320_ens[id_cluster2,:,:].mean(axis=0)\n",
    "pv_c3 = pv320_ens[id_cluster3,:,:].mean(axis=0)\n",
    "\n",
    "print(z_c1.shape)\n",
    "print(mslp_c1.shape)\n",
    "print(the_c1.shape)\n",
    "print(pv_c1.shape)"
   ]
  },
  {
   "cell_type": "raw",
   "metadata": {},
   "source": [
    "Plot cluster composites (Z500, T500, MSLP, PV320K)."
   ]
  },
  {
   "cell_type": "code",
   "execution_count": null,
   "metadata": {
    "scrolled": false
   },
   "outputs": [],
   "source": [
    "fig = plt.figure(figsize=(15, 15))\n",
    "fig.suptitle('Cluster composites - Forecast time : '+date_str, fontsize=14)\n",
    "\n",
    "ax = fig.add_subplot(331, projection=ccrs.PlateCarree())\n",
    "plt.title('ZT500 Cluster 1 ('+str(nc[0])+')', color=colors[0], fontsize=10, loc='center')\n",
    "plot_background(ax)\n",
    "cf = ax.contourf(lon, lat, t500_c1, levels=clevs_t500, cmap=cmap, extend='both', transform=ccrs.PlateCarree())\n",
    "c = ax.contour(lon, lat, z_c1, levels=clevs_z, colors='black', linewidths=0.5, transform=ccrs.PlateCarree())\n",
    "ax.clabel(c, fmt='%4.1i', fontsize=10)\n",
    "cb = fig.colorbar(cf, orientation='horizontal', aspect=65, shrink=1, pad=0.1, extendrect='True')\n",
    "cb.set_label('°C', fontsize=12)\n",
    "\n",
    "ax = fig.add_subplot(332, projection=ccrs.PlateCarree())\n",
    "plt.title('ZT500 Cluster 2 ('+str(nc[1])+')', color=colors[1], fontsize=10, loc='center')\n",
    "plot_background(ax)\n",
    "cf = ax.contourf(lon, lat, t500_c2, levels=clevs_t500, cmap=cmap, extend='both', transform=ccrs.PlateCarree())\n",
    "c = ax.contour(lon, lat, z_c2, levels=clevs_z, colors='black', linewidths=0.5, transform=ccrs.PlateCarree())\n",
    "ax.clabel(c, fmt='%4.1i', fontsize=10)\n",
    "cb = fig.colorbar(cf, orientation='horizontal', aspect=65, shrink=1, pad=0.1, extendrect='True')\n",
    "cb.set_label('°C', fontsize=12)\n",
    "\n",
    "ax = fig.add_subplot(333, projection=ccrs.PlateCarree())\n",
    "plt.title('ZT500 Cluster 3 ('+str(nc[2])+')', color=colors[2], fontsize=10, loc='center')\n",
    "plot_background(ax)\n",
    "cf = ax.contourf(lon, lat, t500_c3, levels=clevs_t500, cmap=cmap, extend='both', transform=ccrs.PlateCarree())\n",
    "c = ax.contour(lon, lat, z_c3, levels=clevs_z, colors='black', linewidths=0.5, transform=ccrs.PlateCarree())\n",
    "ax.clabel(c, fmt='%4.1i', fontsize=10)\n",
    "cb = fig.colorbar(cf, orientation='horizontal', aspect=65, shrink=1, pad=0.1, extendrect='True')\n",
    "cb.set_label('°C', fontsize=12)\n",
    "\n",
    "ax = fig.add_subplot(334, projection=ccrs.PlateCarree())\n",
    "plt.title('MSLP-THE850 Cluster 1 ('+str(nc[0])+')', color=colors[0], fontsize=10, loc='center')\n",
    "plot_background(ax)\n",
    "cf = ax.contourf(lon, lat, the_c1, levels=clevs_the, cmap=cmap, extend='both', transform=ccrs.PlateCarree())\n",
    "c = ax.contour(lon, lat, mslp_c1, levels=clevs_mslp, colors='black', linewidths=0.5, transform=ccrs.PlateCarree())\n",
    "ax.clabel(c, fmt='%4.1i', fontsize=10)\n",
    "cb = fig.colorbar(cf, orientation='horizontal', aspect=65, shrink=1, pad=0.1, extendrect='True')\n",
    "cb.set_label('K', fontsize=12)\n",
    "\n",
    "ax = fig.add_subplot(335, projection=ccrs.PlateCarree())\n",
    "plt.title('MSLP-THE850 Cluster 2 ('+str(nc[1])+')', color=colors[1], fontsize=10, loc='center')\n",
    "plot_background(ax)\n",
    "cf = ax.contourf(lon, lat, the_c2, levels=clevs_the, cmap=cmap, extend='both', transform=ccrs.PlateCarree())\n",
    "c = ax.contour(lon, lat, mslp_c2, levels=clevs_mslp, colors='black', linewidths=0.5,transform=ccrs.PlateCarree())\n",
    "ax.clabel(c, fmt='%4.1i', fontsize=10)\n",
    "cb = fig.colorbar(cf, orientation='horizontal', aspect=65, shrink=1, pad=0.1, extendrect='True')\n",
    "cb.set_label('K', fontsize=12)\n",
    "\n",
    "ax = fig.add_subplot(336, projection=ccrs.PlateCarree())\n",
    "plt.title('MSLP-THE850 Cluster 3 ('+str(nc[2])+')', color=colors[2], fontsize=10, loc='center')\n",
    "plot_background(ax)\n",
    "cf = ax.contourf(lon, lat, the_c3, levels=clevs_the, cmap=cmap, extend='both', transform=ccrs.PlateCarree())\n",
    "c = ax.contour(lon, lat, mslp_c3, levels=clevs_mslp, colors='black', linewidths=0.5,transform=ccrs.PlateCarree())\n",
    "ax.clabel(c, fmt='%4.1i', fontsize=10)\n",
    "cb = fig.colorbar(cf, orientation='horizontal', aspect=65, shrink=1, pad=0.1, extendrect='True')\n",
    "cb.set_label('K', fontsize=12)\n",
    "\n",
    "ax = fig.add_subplot(337, projection=ccrs.PlateCarree())\n",
    "plt.title('PV320K Cluster 1 ('+str(nc[0])+')', color=colors[0], fontsize=10, loc='center')\n",
    "plot_background(ax)\n",
    "cf = ax.contourf(lon, lat, pv_c1, levels=clevs_pv2, cmap=cmap, extend='max', transform=ccrs.PlateCarree())\n",
    "c = ax.contour(lon, lat, pv_c1, levels=clevs_pv2, colors='black', linewidths=0.5, transform=ccrs.PlateCarree())\n",
    "ax.clabel(c, fmt='%4.1i', fontsize=10)\n",
    "cb = fig.colorbar(cf, orientation='horizontal', aspect=65, shrink=1, pad=0.1, extendrect='True')\n",
    "cb.set_label('PVU', fontsize=12)\n",
    "\n",
    "ax = fig.add_subplot(338, projection=ccrs.PlateCarree())\n",
    "plt.title('PV320K Cluster 2 ('+str(nc[1])+')', color=colors[1], fontsize=10, loc='center')\n",
    "plot_background(ax)\n",
    "cf = ax.contourf(lon, lat, pv_c2, levels=clevs_pv2, cmap=cmap, extend='max', transform=ccrs.PlateCarree())\n",
    "c = ax.contour(lon, lat, pv_c2, levels=clevs_pv2, colors='black', linewidths=0.5,transform=ccrs.PlateCarree())\n",
    "ax.clabel(c, fmt='%4.1i', fontsize=10)\n",
    "cb = fig.colorbar(cf, orientation='horizontal', aspect=65, shrink=1, pad=0.1, extendrect='True')\n",
    "cb.set_label('PVU', fontsize=12)\n",
    "\n",
    "ax = fig.add_subplot(339, projection=ccrs.PlateCarree())\n",
    "plt.title('PV320K Cluster 3 ('+str(nc[2])+')', color=colors[2], fontsize=10, loc='center')\n",
    "plot_background(ax)\n",
    "cf = ax.contourf(lon, lat, pv_c3, levels=clevs_pv2, cmap=cmap, extend='max', transform=ccrs.PlateCarree())\n",
    "c = ax.contour(lon, lat, pv_c3, levels=clevs_pv2, colors='black', linewidths=0.5,transform=ccrs.PlateCarree())\n",
    "ax.clabel(c, fmt='%4.1i', fontsize=10)\n",
    "cb = fig.colorbar(cf, orientation='horizontal', aspect=65, shrink=1, pad=0.1, extendrect='True')\n",
    "cb.set_label('PVU', fontsize=12)\n",
    "\n",
    "plt.show()\n",
    "\n",
    "figname='./figs/Composites_ZT500_MSLP_THE_PV320_'+date_str\n",
    "fig.savefig(figname+'.png',bbox_inches='tight')"
   ]
  },
  {
   "cell_type": "markdown",
   "metadata": {},
   "source": [
    "<div class=\"alert alert-warning\">\n",
    "<b>Questions : </b>\n",
    "<p><b>1) Describe for each variable the differences between the 3 clusters. Which cluster is the medicane one ?</b></p>\n",
    "</div>"
   ]
  },
  {
   "cell_type": "markdown",
   "metadata": {},
   "source": [
    "<div class=\"alert alert-success\">\n",
    "<b>Answer </b>\n",
    "</div>"
   ]
  },
  {
   "cell_type": "raw",
   "metadata": {},
   "source": [
    "Ensemble members stamps + clustering (Z500 and T500)."
   ]
  },
  {
   "cell_type": "code",
   "execution_count": null,
   "metadata": {
    "scrolled": false
   },
   "outputs": [],
   "source": [
    "plt_title = 'ECMWF ensemble members with clustering - ZT500. Forecast time : '+date_str\n",
    "projection = ccrs.PlateCarree()\n",
    "\n",
    "fig = plt.figure(figsize=(20,20))\n",
    "fig.suptitle(plt_title, fontsize=16)\n",
    "\n",
    "axgr = AxesGrid(fig, 111, axes_class=axes_class,\n",
    "       nrows_ncols=(10, 5),\n",
    "       axes_pad=0.6,\n",
    "       cbar_location='right',\n",
    "       cbar_mode='single', # None/single/each\n",
    "       cbar_pad=0.2,\n",
    "       cbar_size='1%',\n",
    "       label_mode='keep')\n",
    "                   \n",
    "for i, ax in enumerate(axgr):\n",
    "    ax.coastlines()\n",
    "    ax.set_title(str(i+1), color=color[i], fontsize=12)\n",
    "    p1 = ax.contourf(lon, lat, t500_ens[i,:,:], clevs_t500, transform=ccrs.PlateCarree(), cmap=cmap, extend='both')\n",
    "    p2 = ax.contour(lon, lat, z500_ens[i,:,:], clevs_z, colors='black', linewidths=0.2, transform=ccrs.PlateCarree())\n",
    "    axgr.cbar_axes[i].colorbar(p1)\n",
    "   \n",
    "plt.show()\n",
    "\n",
    "figname='./figs/ZT500_ENS_cluster_'+date_str\n",
    "fig.savefig(figname+'.png',bbox_inches='tight')"
   ]
  },
  {
   "cell_type": "raw",
   "metadata": {},
   "source": [
    "Ensemble members stamps + clustering (MSLP and Thetae850)."
   ]
  },
  {
   "cell_type": "code",
   "execution_count": null,
   "metadata": {
    "scrolled": false
   },
   "outputs": [],
   "source": [
    "plt_title = 'ECMWF ensemble members with clustering - MSLP and $\\Theta_E$ at 850 hPa. Forecast time : '+date_str\n",
    "projection = ccrs.PlateCarree()\n",
    "\n",
    "fig = plt.figure(figsize=(20,20))\n",
    "fig.suptitle(plt_title, fontsize=16)\n",
    "\n",
    "axgr = AxesGrid(fig, 111, axes_class=axes_class,\n",
    "       nrows_ncols=(10, 5),\n",
    "       axes_pad=0.6,\n",
    "       cbar_location='right',\n",
    "       cbar_mode='single', # None/single/each\n",
    "       cbar_pad=0.2,\n",
    "       cbar_size='1%',\n",
    "       label_mode='keep')\n",
    "                   \n",
    "for i, ax in enumerate(axgr):\n",
    "    ax.coastlines()\n",
    "    ax.gridlines(crs=ccrs.PlateCarree(), linewidth=0.5, color='gray', alpha=0.5, linestyle='-')\n",
    "    ax.set_title(str(i+1), color=color[i], fontsize=12)\n",
    "    p1 = ax.contourf(lon, lat, Thetae_ens[i,:,:], clevs_the, transform=ccrs.PlateCarree(), cmap=cmap, extend='both')\n",
    "    p2 = ax.contour(lon, lat, mslp_ens[i,:,:], clevs_mslp, colors='black', linewidths=0.2, transform=ccrs.PlateCarree())\n",
    "    axgr.cbar_axes[i].colorbar(p1)\n",
    "   \n",
    "plt.show()\n",
    "\n",
    "figname='./figs/MSLP_THE_ENS_cluster_'+date_str\n",
    "fig.savefig(figname+'.png',bbox_inches='tight')"
   ]
  },
  {
   "cell_type": "raw",
   "metadata": {},
   "source": [
    "Ensemble members stamps + clustering (PV320K)."
   ]
  },
  {
   "cell_type": "code",
   "execution_count": null,
   "metadata": {
    "scrolled": false
   },
   "outputs": [],
   "source": [
    "plt_title = 'ECMWF ensemble members with clustering - PV320K. Forecast time : '+date_str\n",
    "projection = ccrs.PlateCarree()\n",
    "\n",
    "fig = plt.figure(figsize=(20,20))\n",
    "fig.suptitle(plt_title, fontsize=16)\n",
    "\n",
    "axgr = AxesGrid(fig, 111, axes_class=axes_class,\n",
    "       nrows_ncols=(10, 5),\n",
    "       axes_pad=0.6,\n",
    "       cbar_location='right',\n",
    "       cbar_mode='single', # None/single/each\n",
    "       cbar_pad=0.2,\n",
    "       cbar_size='1%',\n",
    "       label_mode='keep')\n",
    "                   \n",
    "for i, ax in enumerate(axgr):\n",
    "    ax.coastlines()\n",
    "    ax.gridlines(crs=ccrs.PlateCarree(), linewidth=0.5, color='gray', alpha=0.5, linestyle='-')\n",
    "    ax.set_title(str(i+1), color=color[i], fontsize=12)\n",
    "    p1 = ax.contourf(lon, lat, pv320_ens[i,:,:], clevs_pv, transform=ccrs.PlateCarree(), cmap=cmap, extend='max')\n",
    "    p2 = ax.contour(lon, lat, pv320_ens[i,:,:], clevs_pv, colors='black', linewidths=0.2, transform=ccrs.PlateCarree())\n",
    "    axgr.cbar_axes[i].colorbar(p1)\n",
    "   \n",
    "plt.show()\n",
    "\n",
    "figname='./figs/PV320K_ENS_cluster_'+date_str\n",
    "fig.savefig(figname+'.png',bbox_inches='tight')"
   ]
  },
  {
   "cell_type": "markdown",
   "metadata": {},
   "source": [
    "<div class=\"alert alert-warning\">\n",
    "<b>Questions : </b>\n",
    "<p><b>1) Looking at the stamps colored in the corresponding cluster color, is the automatic clustering useful to understand the different forecast scenarios in the ensemble ?</b></p>\n",
    "</div>"
   ]
  },
  {
   "cell_type": "markdown",
   "metadata": {},
   "source": [
    "<div class=\"alert alert-success\">\n",
    "<b>Answer </b>\n",
    "</div>"
   ]
  },
  {
   "cell_type": "markdown",
   "metadata": {},
   "source": [
    "# Extra task : projection of the analysis and HRES forecast in the PC phase space (Z500)"
   ]
  },
  {
   "cell_type": "markdown",
   "metadata": {},
   "source": [
    "<div class=\"alert alert-danger\">\n",
    "<b>Propose a code to project the analysis and derministic forecast in the PC1-PC2 phase space </b>\n",
    "    \n",
    "- Open the analysis data (Z500_September2018_HiRes.nc) and the deterministic forecast data (Z500_fc_20180924.nc) over the same geographical domain and at the same forecast time --> 2 maps.\n",
    "    \n",
    "- Compute anomaly for ensemble mean for the analysis and the deterministic forecast and multiply the anomaly by the spatial weights (wgts).\n",
    "\n",
    "- For the analysis and the deterministic forecast, obtain the PC1 by projecting the anomaly field onto the EOF1. For the analysis and the forecast, obtain the PC2 by projecting the anomaly field onto the EOF1. Basically projecting onto the EOF means doing a scalar product (i.e. sum(weighted anomaly * eof)).\n",
    "    \n",
    "- Scatter plot the projected PC1 and PC2 of the analysis and deterministic forecast on the ensemble members scatterplot colored by cluster.\n",
    "    \n",
    "- To see to which cluster belong the analysis and deterministic forecast, look at the closest centroid to the projected PCs. You can also try to compute the distance of the PCs from each centroid.\n",
    "</div>"
   ]
  },
  {
   "cell_type": "markdown",
   "metadata": {},
   "source": [
    "# Extra task : try another forecast time, EOF analysis with another variable"
   ]
  },
  {
   "cell_type": "markdown",
   "metadata": {},
   "source": [
    "<div class=\"alert alert-danger\">\n",
    "<b>Code </b>\n",
    "</div>"
   ]
  }
 ],
 "metadata": {
  "kernelspec": {
   "display_name": "Python 3",
   "language": "python",
   "name": "python3"
  },
  "language_info": {
   "codemirror_mode": {
    "name": "ipython",
    "version": 3
   },
   "file_extension": ".py",
   "mimetype": "text/x-python",
   "name": "python",
   "nbconvert_exporter": "python",
   "pygments_lexer": "ipython3",
   "version": "3.7.11"
  }
 },
 "nbformat": 4,
 "nbformat_minor": 1
}
